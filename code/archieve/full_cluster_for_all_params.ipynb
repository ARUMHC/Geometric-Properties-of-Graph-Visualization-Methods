{
 "cells": [
  {
   "cell_type": "code",
   "execution_count": 1,
   "metadata": {},
   "outputs": [],
   "source": [
    "import sys  \n",
    "sys.path.insert(0, 'C:/Users/Kinga/Desktop/MAGISTERKA/code')\n",
    "\n",
    "from clustering_script import *\n",
    "from graph_generating_script import *"
   ]
  },
  {
   "cell_type": "code",
   "execution_count": 2,
   "metadata": {},
   "outputs": [
    {
     "data": {
      "text/html": [
       "<div>\n",
       "<style scoped>\n",
       "    .dataframe tbody tr th:only-of-type {\n",
       "        vertical-align: middle;\n",
       "    }\n",
       "\n",
       "    .dataframe tbody tr th {\n",
       "        vertical-align: top;\n",
       "    }\n",
       "\n",
       "    .dataframe thead th {\n",
       "        text-align: right;\n",
       "    }\n",
       "</style>\n",
       "<table border=\"1\" class=\"dataframe\">\n",
       "  <thead>\n",
       "    <tr style=\"text-align: right;\">\n",
       "      <th></th>\n",
       "      <th>graph_id</th>\n",
       "      <th>size</th>\n",
       "      <th>no_comms</th>\n",
       "      <th>inside_prob</th>\n",
       "      <th>outside_prob</th>\n",
       "    </tr>\n",
       "  </thead>\n",
       "  <tbody>\n",
       "    <tr>\n",
       "      <th>0</th>\n",
       "      <td>0</td>\n",
       "      <td>100</td>\n",
       "      <td>2</td>\n",
       "      <td>0.4</td>\n",
       "      <td>0.01</td>\n",
       "    </tr>\n",
       "    <tr>\n",
       "      <th>1</th>\n",
       "      <td>1</td>\n",
       "      <td>100</td>\n",
       "      <td>2</td>\n",
       "      <td>0.3</td>\n",
       "      <td>0.02</td>\n",
       "    </tr>\n",
       "    <tr>\n",
       "      <th>2</th>\n",
       "      <td>2</td>\n",
       "      <td>100</td>\n",
       "      <td>2</td>\n",
       "      <td>0.3</td>\n",
       "      <td>0.05</td>\n",
       "    </tr>\n",
       "    <tr>\n",
       "      <th>3</th>\n",
       "      <td>3</td>\n",
       "      <td>100</td>\n",
       "      <td>2</td>\n",
       "      <td>0.4</td>\n",
       "      <td>0.08</td>\n",
       "    </tr>\n",
       "    <tr>\n",
       "      <th>4</th>\n",
       "      <td>4</td>\n",
       "      <td>100</td>\n",
       "      <td>2</td>\n",
       "      <td>0.3</td>\n",
       "      <td>0.10</td>\n",
       "    </tr>\n",
       "    <tr>\n",
       "      <th>5</th>\n",
       "      <td>5</td>\n",
       "      <td>100</td>\n",
       "      <td>2</td>\n",
       "      <td>0.3</td>\n",
       "      <td>0.12</td>\n",
       "    </tr>\n",
       "    <tr>\n",
       "      <th>6</th>\n",
       "      <td>6</td>\n",
       "      <td>100</td>\n",
       "      <td>3</td>\n",
       "      <td>0.4</td>\n",
       "      <td>0.01</td>\n",
       "    </tr>\n",
       "    <tr>\n",
       "      <th>7</th>\n",
       "      <td>7</td>\n",
       "      <td>100</td>\n",
       "      <td>3</td>\n",
       "      <td>0.4</td>\n",
       "      <td>0.02</td>\n",
       "    </tr>\n",
       "    <tr>\n",
       "      <th>8</th>\n",
       "      <td>8</td>\n",
       "      <td>100</td>\n",
       "      <td>3</td>\n",
       "      <td>0.4</td>\n",
       "      <td>0.05</td>\n",
       "    </tr>\n",
       "    <tr>\n",
       "      <th>9</th>\n",
       "      <td>9</td>\n",
       "      <td>100</td>\n",
       "      <td>3</td>\n",
       "      <td>0.3</td>\n",
       "      <td>0.05</td>\n",
       "    </tr>\n",
       "    <tr>\n",
       "      <th>10</th>\n",
       "      <td>10</td>\n",
       "      <td>100</td>\n",
       "      <td>3</td>\n",
       "      <td>0.3</td>\n",
       "      <td>0.08</td>\n",
       "    </tr>\n",
       "    <tr>\n",
       "      <th>11</th>\n",
       "      <td>11</td>\n",
       "      <td>100</td>\n",
       "      <td>4</td>\n",
       "      <td>0.5</td>\n",
       "      <td>0.01</td>\n",
       "    </tr>\n",
       "    <tr>\n",
       "      <th>12</th>\n",
       "      <td>12</td>\n",
       "      <td>100</td>\n",
       "      <td>4</td>\n",
       "      <td>0.5</td>\n",
       "      <td>0.02</td>\n",
       "    </tr>\n",
       "    <tr>\n",
       "      <th>13</th>\n",
       "      <td>13</td>\n",
       "      <td>100</td>\n",
       "      <td>4</td>\n",
       "      <td>0.4</td>\n",
       "      <td>0.02</td>\n",
       "    </tr>\n",
       "    <tr>\n",
       "      <th>14</th>\n",
       "      <td>14</td>\n",
       "      <td>100</td>\n",
       "      <td>4</td>\n",
       "      <td>0.4</td>\n",
       "      <td>0.05</td>\n",
       "    </tr>\n",
       "    <tr>\n",
       "      <th>15</th>\n",
       "      <td>15</td>\n",
       "      <td>100</td>\n",
       "      <td>4</td>\n",
       "      <td>0.3</td>\n",
       "      <td>0.05</td>\n",
       "    </tr>\n",
       "    <tr>\n",
       "      <th>16</th>\n",
       "      <td>16</td>\n",
       "      <td>100</td>\n",
       "      <td>5</td>\n",
       "      <td>0.5</td>\n",
       "      <td>0.01</td>\n",
       "    </tr>\n",
       "    <tr>\n",
       "      <th>17</th>\n",
       "      <td>17</td>\n",
       "      <td>100</td>\n",
       "      <td>5</td>\n",
       "      <td>0.5</td>\n",
       "      <td>0.02</td>\n",
       "    </tr>\n",
       "    <tr>\n",
       "      <th>18</th>\n",
       "      <td>18</td>\n",
       "      <td>100</td>\n",
       "      <td>5</td>\n",
       "      <td>0.4</td>\n",
       "      <td>0.01</td>\n",
       "    </tr>\n",
       "    <tr>\n",
       "      <th>19</th>\n",
       "      <td>19</td>\n",
       "      <td>100</td>\n",
       "      <td>5</td>\n",
       "      <td>0.4</td>\n",
       "      <td>0.05</td>\n",
       "    </tr>\n",
       "    <tr>\n",
       "      <th>20</th>\n",
       "      <td>20</td>\n",
       "      <td>100</td>\n",
       "      <td>5</td>\n",
       "      <td>0.4</td>\n",
       "      <td>0.07</td>\n",
       "    </tr>\n",
       "    <tr>\n",
       "      <th>21</th>\n",
       "      <td>21</td>\n",
       "      <td>100</td>\n",
       "      <td>6</td>\n",
       "      <td>0.7</td>\n",
       "      <td>0.01</td>\n",
       "    </tr>\n",
       "    <tr>\n",
       "      <th>22</th>\n",
       "      <td>22</td>\n",
       "      <td>100</td>\n",
       "      <td>6</td>\n",
       "      <td>0.7</td>\n",
       "      <td>0.02</td>\n",
       "    </tr>\n",
       "    <tr>\n",
       "      <th>23</th>\n",
       "      <td>23</td>\n",
       "      <td>100</td>\n",
       "      <td>6</td>\n",
       "      <td>0.7</td>\n",
       "      <td>0.05</td>\n",
       "    </tr>\n",
       "    <tr>\n",
       "      <th>24</th>\n",
       "      <td>24</td>\n",
       "      <td>100</td>\n",
       "      <td>6</td>\n",
       "      <td>0.6</td>\n",
       "      <td>0.01</td>\n",
       "    </tr>\n",
       "    <tr>\n",
       "      <th>25</th>\n",
       "      <td>25</td>\n",
       "      <td>100</td>\n",
       "      <td>6</td>\n",
       "      <td>0.6</td>\n",
       "      <td>0.02</td>\n",
       "    </tr>\n",
       "    <tr>\n",
       "      <th>26</th>\n",
       "      <td>26</td>\n",
       "      <td>100</td>\n",
       "      <td>6</td>\n",
       "      <td>0.6</td>\n",
       "      <td>0.05</td>\n",
       "    </tr>\n",
       "    <tr>\n",
       "      <th>27</th>\n",
       "      <td>27</td>\n",
       "      <td>100</td>\n",
       "      <td>6</td>\n",
       "      <td>0.5</td>\n",
       "      <td>0.05</td>\n",
       "    </tr>\n",
       "    <tr>\n",
       "      <th>28</th>\n",
       "      <td>28</td>\n",
       "      <td>100</td>\n",
       "      <td>6</td>\n",
       "      <td>0.4</td>\n",
       "      <td>0.05</td>\n",
       "    </tr>\n",
       "  </tbody>\n",
       "</table>\n",
       "</div>"
      ],
      "text/plain": [
       "    graph_id  size  no_comms  inside_prob  outside_prob\n",
       "0          0   100         2          0.4          0.01\n",
       "1          1   100         2          0.3          0.02\n",
       "2          2   100         2          0.3          0.05\n",
       "3          3   100         2          0.4          0.08\n",
       "4          4   100         2          0.3          0.10\n",
       "5          5   100         2          0.3          0.12\n",
       "6          6   100         3          0.4          0.01\n",
       "7          7   100         3          0.4          0.02\n",
       "8          8   100         3          0.4          0.05\n",
       "9          9   100         3          0.3          0.05\n",
       "10        10   100         3          0.3          0.08\n",
       "11        11   100         4          0.5          0.01\n",
       "12        12   100         4          0.5          0.02\n",
       "13        13   100         4          0.4          0.02\n",
       "14        14   100         4          0.4          0.05\n",
       "15        15   100         4          0.3          0.05\n",
       "16        16   100         5          0.5          0.01\n",
       "17        17   100         5          0.5          0.02\n",
       "18        18   100         5          0.4          0.01\n",
       "19        19   100         5          0.4          0.05\n",
       "20        20   100         5          0.4          0.07\n",
       "21        21   100         6          0.7          0.01\n",
       "22        22   100         6          0.7          0.02\n",
       "23        23   100         6          0.7          0.05\n",
       "24        24   100         6          0.6          0.01\n",
       "25        25   100         6          0.6          0.02\n",
       "26        26   100         6          0.6          0.05\n",
       "27        27   100         6          0.5          0.05\n",
       "28        28   100         6          0.4          0.05"
      ]
     },
     "execution_count": 2,
     "metadata": {},
     "output_type": "execute_result"
    }
   ],
   "source": [
    "graph_params = pd.read_excel(r'params\\100_graph_params.xlsx')\n",
    "# graph_params = graph_params[:10]\n",
    "graph_params"
   ]
  },
  {
   "cell_type": "markdown",
   "metadata": {},
   "source": [
    "## Multiprocessing"
   ]
  },
  {
   "cell_type": "code",
   "execution_count": 6,
   "metadata": {},
   "outputs": [
    {
     "name": "stderr",
     "output_type": "stream",
     "text": [
      "100%|██████████| 29/29 [11:16<00:00, 23.33s/it]  \n"
     ]
    },
    {
     "name": "stdout",
     "output_type": "stream",
     "text": [
      "GRAPH ID : 0\n",
      "GRAPH ID : 1\n",
      "GRAPH ID : 2\n",
      "GRAPH ID : 3\n",
      "GRAPH ID : 4\n",
      "GRAPH ID : 5\n",
      "GRAPH ID : 6\n",
      "GRAPH ID : 7\n",
      "GRAPH ID : 8\n",
      "GRAPH ID : 9\n",
      "GRAPH ID : 10\n",
      "GRAPH ID : 11\n",
      "GRAPH ID : 12\n",
      "GRAPH ID : 13\n",
      "GRAPH ID : 14\n",
      "GRAPH ID : 15\n",
      "GRAPH ID : 16\n",
      "GRAPH ID : 17\n",
      "GRAPH ID : 18\n",
      "GRAPH ID : 19\n",
      "GRAPH ID : 20\n",
      "GRAPH ID : 21\n",
      "GRAPH ID : 22\n",
      "GRAPH ID : 23\n",
      "GRAPH ID : 24\n",
      "GRAPH ID : 25\n",
      "GRAPH ID : 26\n",
      "GRAPH ID : 27\n",
      "GRAPH ID : 28\n"
     ]
    }
   ],
   "source": [
    "import multiprocess_full_experiment as mfe\n",
    "graph_params = pd.read_excel(r'params\\75_graph_params.xlsx')\n",
    "mfe.main(graph_params, size=75)"
   ]
  },
  {
   "cell_type": "code",
   "execution_count": null,
   "metadata": {},
   "outputs": [],
   "source": []
  },
  {
   "cell_type": "markdown",
   "metadata": {},
   "source": [
    "# Combine all"
   ]
  },
  {
   "cell_type": "code",
   "execution_count": 7,
   "metadata": {},
   "outputs": [],
   "source": [
    "import os\n",
    "import pandas as pd\n",
    "\n",
    "#@ adding bestnum_algo names as a column to the results files\n",
    "# Define the input and output directories\n",
    "input_dir = 'whole_experiment'\n",
    "df_all_results = pd.DataFrame()\n",
    "# input_dir = 'only_graphopt_experiment'\n",
    "files = [f for f in os.listdir(input_dir) if f.endswith('_ex.xlsx')]\n",
    "\n",
    "for file in files:\n",
    "    file_path = os.path.join(input_dir, file)\n",
    "    size = int(file.split('_')[0])\n",
    "    df = pd.read_excel(file_path)\n",
    "    df['size'] = size\n",
    "    df_all_results = pd.concat([df_all_results, df])\n",
    "\n",
    "df_all_results.to_excel('whole_experiment/all_results_steady_ex.xlsx', index=False)"
   ]
  },
  {
   "cell_type": "markdown",
   "metadata": {},
   "source": [
    "## No multiprocessing"
   ]
  },
  {
   "cell_type": "code",
   "execution_count": 3,
   "metadata": {},
   "outputs": [
    {
     "name": "stdout",
     "output_type": "stream",
     "text": [
      "FULL CLUSTER EXPERIMENT\n"
     ]
    },
    {
     "name": "stderr",
     "output_type": "stream",
     "text": [
      "  File \"c:\\Users\\Kinga\\Anaconda3\\envs\\academic-weapon\\Lib\\site-packages\\joblib\\externals\\loky\\backend\\context.py\", line 257, in _count_physical_cores\n",
      "    cpu_info = subprocess.run(\n",
      "               ^^^^^^^^^^^^^^^\n",
      "  File \"c:\\Users\\Kinga\\Anaconda3\\envs\\academic-weapon\\Lib\\subprocess.py\", line 548, in run\n",
      "    with Popen(*popenargs, **kwargs) as process:\n",
      "         ^^^^^^^^^^^^^^^^^^^^^^^^^^^\n",
      "  File \"c:\\Users\\Kinga\\Anaconda3\\envs\\academic-weapon\\Lib\\subprocess.py\", line 1026, in __init__\n",
      "    self._execute_child(args, executable, preexec_fn, close_fds,\n",
      "  File \"c:\\Users\\Kinga\\Anaconda3\\envs\\academic-weapon\\Lib\\subprocess.py\", line 1538, in _execute_child\n",
      "    hp, ht, pid, tid = _winapi.CreateProcess(executable, args,\n",
      "                       ^^^^^^^^^^^^^^^^^^^^^^^^^^^^^^^^^^^^^^^\n",
      "  0%|          | 0/1 [00:00<?, ?it/s]"
     ]
    },
    {
     "name": "stdout",
     "output_type": "stream",
     "text": [
      "FULL CLUSTER EXPERIMENT\n"
     ]
    },
    {
     "name": "stderr",
     "output_type": "stream",
     "text": [
      "100%|██████████| 1/1 [00:50<00:00, 50.51s/it]\n"
     ]
    },
    {
     "name": "stdout",
     "output_type": "stream",
     "text": [
      "Graphs assortavity coefficient : 0.9446076664471597\n",
      "1.8892153328943193\n",
      "GRAPH ID : 0\n",
      "FULL CLUSTER EXPERIMENT\n"
     ]
    },
    {
     "name": "stderr",
     "output_type": "stream",
     "text": [
      "  0%|          | 0/1 [00:00<?, ?it/s]"
     ]
    },
    {
     "name": "stdout",
     "output_type": "stream",
     "text": [
      "FULL CLUSTER EXPERIMENT\n"
     ]
    },
    {
     "name": "stderr",
     "output_type": "stream",
     "text": [
      "100%|██████████| 1/1 [00:33<00:00, 33.00s/it]\n"
     ]
    },
    {
     "name": "stdout",
     "output_type": "stream",
     "text": [
      "Graphs assortavity coefficient : 0.854765193665145\n",
      "1.70953038733029\n",
      "GRAPH ID : 1\n",
      "FULL CLUSTER EXPERIMENT\n"
     ]
    },
    {
     "name": "stderr",
     "output_type": "stream",
     "text": [
      "  0%|          | 0/1 [00:00<?, ?it/s]"
     ]
    },
    {
     "name": "stdout",
     "output_type": "stream",
     "text": [
      "FULL CLUSTER EXPERIMENT\n"
     ]
    },
    {
     "name": "stderr",
     "output_type": "stream",
     "text": [
      "100%|██████████| 1/1 [00:56<00:00, 56.56s/it]\n"
     ]
    },
    {
     "name": "stdout",
     "output_type": "stream",
     "text": [
      "Graphs assortavity coefficient : 0.6865910767135612\n",
      "1.3731821534271225\n",
      "GRAPH ID : 2\n",
      "FULL CLUSTER EXPERIMENT\n"
     ]
    },
    {
     "name": "stderr",
     "output_type": "stream",
     "text": [
      "  0%|          | 0/1 [00:00<?, ?it/s]"
     ]
    },
    {
     "name": "stdout",
     "output_type": "stream",
     "text": [
      "FULL CLUSTER EXPERIMENT\n"
     ]
    },
    {
     "name": "stderr",
     "output_type": "stream",
     "text": [
      "100%|██████████| 1/1 [01:29<00:00, 89.86s/it]\n"
     ]
    },
    {
     "name": "stdout",
     "output_type": "stream",
     "text": [
      "Graphs assortavity coefficient : 0.6426475435953994\n",
      "1.2852950871907989\n",
      "GRAPH ID : 3\n",
      "FULL CLUSTER EXPERIMENT\n"
     ]
    },
    {
     "name": "stderr",
     "output_type": "stream",
     "text": [
      "  0%|          | 0/1 [00:00<?, ?it/s]"
     ]
    },
    {
     "name": "stdout",
     "output_type": "stream",
     "text": [
      "FULL CLUSTER EXPERIMENT\n"
     ]
    },
    {
     "name": "stderr",
     "output_type": "stream",
     "text": [
      "100%|██████████| 1/1 [01:03<00:00, 63.10s/it]\n"
     ]
    },
    {
     "name": "stdout",
     "output_type": "stream",
     "text": [
      "Graphs assortavity coefficient : 0.48157617349571347\n",
      "0.9631523469914269\n",
      "GRAPH ID : 4\n",
      "FULL CLUSTER EXPERIMENT\n"
     ]
    },
    {
     "name": "stderr",
     "output_type": "stream",
     "text": [
      "  0%|          | 0/1 [00:00<?, ?it/s]"
     ]
    },
    {
     "name": "stdout",
     "output_type": "stream",
     "text": [
      "FULL CLUSTER EXPERIMENT\n"
     ]
    },
    {
     "name": "stderr",
     "output_type": "stream",
     "text": [
      "100%|██████████| 1/1 [00:48<00:00, 48.04s/it]\n"
     ]
    },
    {
     "name": "stdout",
     "output_type": "stream",
     "text": [
      "Graphs assortavity coefficient : 0.36943377997393023\n",
      "0.7388675599478605\n",
      "GRAPH ID : 5\n",
      "FULL CLUSTER EXPERIMENT\n"
     ]
    },
    {
     "name": "stderr",
     "output_type": "stream",
     "text": [
      "  0%|          | 0/1 [00:00<?, ?it/s]"
     ]
    },
    {
     "name": "stdout",
     "output_type": "stream",
     "text": [
      "FULL CLUSTER EXPERIMENT\n"
     ]
    },
    {
     "name": "stderr",
     "output_type": "stream",
     "text": [
      "100%|██████████| 1/1 [00:23<00:00, 23.88s/it]\n"
     ]
    },
    {
     "name": "stdout",
     "output_type": "stream",
     "text": [
      "Graphs assortavity coefficient : 0.9308286831816875\n",
      "1.861657366363375\n",
      "GRAPH ID : 6\n",
      "FULL CLUSTER EXPERIMENT\n"
     ]
    },
    {
     "name": "stderr",
     "output_type": "stream",
     "text": [
      "  0%|          | 0/1 [00:00<?, ?it/s]"
     ]
    },
    {
     "name": "stdout",
     "output_type": "stream",
     "text": [
      "FULL CLUSTER EXPERIMENT\n"
     ]
    },
    {
     "name": "stderr",
     "output_type": "stream",
     "text": [
      "100%|██████████| 1/1 [00:27<00:00, 27.17s/it]\n"
     ]
    },
    {
     "name": "stdout",
     "output_type": "stream",
     "text": [
      "Graphs assortavity coefficient : 0.8372818164466986\n",
      "1.6745636328933973\n",
      "GRAPH ID : 7\n",
      "FULL CLUSTER EXPERIMENT\n"
     ]
    },
    {
     "name": "stderr",
     "output_type": "stream",
     "text": [
      "  0%|          | 0/1 [00:00<?, ?it/s]"
     ]
    },
    {
     "name": "stdout",
     "output_type": "stream",
     "text": [
      "FULL CLUSTER EXPERIMENT\n"
     ]
    },
    {
     "name": "stderr",
     "output_type": "stream",
     "text": [
      "100%|██████████| 1/1 [00:40<00:00, 40.44s/it]\n"
     ]
    },
    {
     "name": "stdout",
     "output_type": "stream",
     "text": [
      "Graphs assortavity coefficient : 0.6650498687947963\n",
      "1.3300997375895927\n",
      "GRAPH ID : 8\n",
      "FULL CLUSTER EXPERIMENT\n"
     ]
    },
    {
     "name": "stderr",
     "output_type": "stream",
     "text": [
      "  0%|          | 0/1 [00:00<?, ?it/s]"
     ]
    },
    {
     "name": "stdout",
     "output_type": "stream",
     "text": [
      "FULL CLUSTER EXPERIMENT\n"
     ]
    },
    {
     "name": "stderr",
     "output_type": "stream",
     "text": [
      "100%|██████████| 1/1 [00:30<00:00, 30.25s/it]\n"
     ]
    },
    {
     "name": "stdout",
     "output_type": "stream",
     "text": [
      "Graphs assortavity coefficient : 0.6326980029796254\n",
      "1.2653960059592508\n",
      "GRAPH ID : 9\n",
      "FULL CLUSTER EXPERIMENT\n"
     ]
    },
    {
     "name": "stderr",
     "output_type": "stream",
     "text": [
      "  0%|          | 0/1 [00:00<?, ?it/s]"
     ]
    },
    {
     "name": "stdout",
     "output_type": "stream",
     "text": [
      "FULL CLUSTER EXPERIMENT\n"
     ]
    },
    {
     "name": "stderr",
     "output_type": "stream",
     "text": [
      "100%|██████████| 1/1 [00:26<00:00, 26.39s/it]\n"
     ]
    },
    {
     "name": "stdout",
     "output_type": "stream",
     "text": [
      "Graphs assortavity coefficient : 0.4491680121234191\n",
      "0.8983360242468382\n",
      "GRAPH ID : 10\n",
      "FULL CLUSTER EXPERIMENT\n"
     ]
    },
    {
     "name": "stderr",
     "output_type": "stream",
     "text": [
      "  0%|          | 0/1 [00:00<?, ?it/s]"
     ]
    },
    {
     "name": "stdout",
     "output_type": "stream",
     "text": [
      "FULL CLUSTER EXPERIMENT\n"
     ]
    },
    {
     "name": "stderr",
     "output_type": "stream",
     "text": [
      "100%|██████████| 1/1 [00:27<00:00, 27.92s/it]\n"
     ]
    },
    {
     "name": "stdout",
     "output_type": "stream",
     "text": [
      "Graphs assortavity coefficient : 0.9288959162913184\n",
      "1.8577918325826368\n",
      "GRAPH ID : 11\n",
      "FULL CLUSTER EXPERIMENT\n"
     ]
    },
    {
     "name": "stderr",
     "output_type": "stream",
     "text": [
      "  0%|          | 0/1 [00:00<?, ?it/s]"
     ]
    },
    {
     "name": "stdout",
     "output_type": "stream",
     "text": [
      "FULL CLUSTER EXPERIMENT\n"
     ]
    },
    {
     "name": "stderr",
     "output_type": "stream",
     "text": [
      "100%|██████████| 1/1 [00:34<00:00, 34.17s/it]\n"
     ]
    },
    {
     "name": "stdout",
     "output_type": "stream",
     "text": [
      "Graphs assortavity coefficient : 0.8794294292458678\n",
      "1.7588588584917355\n",
      "GRAPH ID : 12\n",
      "FULL CLUSTER EXPERIMENT\n"
     ]
    },
    {
     "name": "stderr",
     "output_type": "stream",
     "text": [
      "  0%|          | 0/1 [00:00<?, ?it/s]"
     ]
    },
    {
     "name": "stdout",
     "output_type": "stream",
     "text": [
      "FULL CLUSTER EXPERIMENT\n"
     ]
    },
    {
     "name": "stderr",
     "output_type": "stream",
     "text": [
      "100%|██████████| 1/1 [00:20<00:00, 20.60s/it]\n"
     ]
    },
    {
     "name": "stdout",
     "output_type": "stream",
     "text": [
      "Graphs assortavity coefficient : 0.8688377852078224\n",
      "1.7376755704156448\n",
      "GRAPH ID : 13\n",
      "FULL CLUSTER EXPERIMENT\n"
     ]
    },
    {
     "name": "stderr",
     "output_type": "stream",
     "text": [
      "  0%|          | 0/1 [00:00<?, ?it/s]"
     ]
    },
    {
     "name": "stdout",
     "output_type": "stream",
     "text": [
      "FULL CLUSTER EXPERIMENT\n"
     ]
    },
    {
     "name": "stderr",
     "output_type": "stream",
     "text": [
      "100%|██████████| 1/1 [00:51<00:00, 51.83s/it]\n"
     ]
    },
    {
     "name": "stdout",
     "output_type": "stream",
     "text": [
      "Graphs assortavity coefficient : 0.602210187097447\n",
      "1.204420374194894\n",
      "GRAPH ID : 14\n",
      "FULL CLUSTER EXPERIMENT\n"
     ]
    },
    {
     "name": "stderr",
     "output_type": "stream",
     "text": [
      "  0%|          | 0/1 [00:00<?, ?it/s]"
     ]
    },
    {
     "name": "stdout",
     "output_type": "stream",
     "text": [
      "FULL CLUSTER EXPERIMENT\n"
     ]
    },
    {
     "name": "stderr",
     "output_type": "stream",
     "text": [
      "100%|██████████| 1/1 [00:32<00:00, 32.47s/it]\n"
     ]
    },
    {
     "name": "stdout",
     "output_type": "stream",
     "text": [
      "Graphs assortavity coefficient : 0.5384596110301876\n",
      "1.0769192220603752\n",
      "GRAPH ID : 15\n",
      "FULL CLUSTER EXPERIMENT\n"
     ]
    },
    {
     "name": "stderr",
     "output_type": "stream",
     "text": [
      "  0%|          | 0/1 [00:00<?, ?it/s]"
     ]
    },
    {
     "name": "stdout",
     "output_type": "stream",
     "text": [
      "FULL CLUSTER EXPERIMENT\n"
     ]
    },
    {
     "name": "stderr",
     "output_type": "stream",
     "text": [
      "100%|██████████| 1/1 [00:37<00:00, 37.54s/it]\n"
     ]
    },
    {
     "name": "stdout",
     "output_type": "stream",
     "text": [
      "Graphs assortavity coefficient : 0.8992544568953013\n",
      "1.7985089137906025\n",
      "GRAPH ID : 16\n",
      "FULL CLUSTER EXPERIMENT\n"
     ]
    },
    {
     "name": "stderr",
     "output_type": "stream",
     "text": [
      "  0%|          | 0/1 [00:00<?, ?it/s]"
     ]
    },
    {
     "name": "stdout",
     "output_type": "stream",
     "text": [
      "FULL CLUSTER EXPERIMENT\n"
     ]
    },
    {
     "name": "stderr",
     "output_type": "stream",
     "text": [
      "100%|██████████| 1/1 [00:27<00:00, 27.11s/it]\n"
     ]
    },
    {
     "name": "stdout",
     "output_type": "stream",
     "text": [
      "Graphs assortavity coefficient : 0.8132452174063483\n",
      "1.6264904348126965\n",
      "GRAPH ID : 17\n",
      "FULL CLUSTER EXPERIMENT\n"
     ]
    },
    {
     "name": "stderr",
     "output_type": "stream",
     "text": [
      "  0%|          | 0/1 [00:00<?, ?it/s]"
     ]
    },
    {
     "name": "stdout",
     "output_type": "stream",
     "text": [
      "FULL CLUSTER EXPERIMENT\n"
     ]
    },
    {
     "name": "stderr",
     "output_type": "stream",
     "text": [
      "100%|██████████| 1/1 [00:16<00:00, 16.59s/it]\n"
     ]
    },
    {
     "name": "stdout",
     "output_type": "stream",
     "text": [
      "Graphs assortavity coefficient : 0.8812646381973898\n",
      "1.7625292763947795\n",
      "GRAPH ID : 18\n",
      "FULL CLUSTER EXPERIMENT\n"
     ]
    },
    {
     "name": "stderr",
     "output_type": "stream",
     "text": [
      "  0%|          | 0/1 [00:00<?, ?it/s]"
     ]
    },
    {
     "name": "stdout",
     "output_type": "stream",
     "text": [
      "FULL CLUSTER EXPERIMENT\n"
     ]
    },
    {
     "name": "stderr",
     "output_type": "stream",
     "text": [
      "100%|██████████| 1/1 [00:39<00:00, 39.61s/it]\n"
     ]
    },
    {
     "name": "stdout",
     "output_type": "stream",
     "text": [
      "Graphs assortavity coefficient : 0.5606398789964553\n",
      "1.1212797579929106\n",
      "GRAPH ID : 19\n",
      "FULL CLUSTER EXPERIMENT\n"
     ]
    },
    {
     "name": "stderr",
     "output_type": "stream",
     "text": [
      "  0%|          | 0/1 [00:00<?, ?it/s]"
     ]
    },
    {
     "name": "stdout",
     "output_type": "stream",
     "text": [
      "FULL CLUSTER EXPERIMENT\n"
     ]
    },
    {
     "name": "stderr",
     "output_type": "stream",
     "text": [
      "100%|██████████| 1/1 [00:24<00:00, 24.97s/it]\n"
     ]
    },
    {
     "name": "stdout",
     "output_type": "stream",
     "text": [
      "Graphs assortavity coefficient : 0.4302865558531043\n",
      "0.8605731117062086\n",
      "GRAPH ID : 20\n",
      "FULL CLUSTER EXPERIMENT\n"
     ]
    },
    {
     "name": "stderr",
     "output_type": "stream",
     "text": [
      "  0%|          | 0/1 [00:00<?, ?it/s]"
     ]
    },
    {
     "name": "stdout",
     "output_type": "stream",
     "text": [
      "FULL CLUSTER EXPERIMENT\n"
     ]
    },
    {
     "name": "stderr",
     "output_type": "stream",
     "text": [
      "100%|██████████| 1/1 [00:18<00:00, 18.97s/it]\n"
     ]
    },
    {
     "name": "stdout",
     "output_type": "stream",
     "text": [
      "Graphs assortavity coefficient : 0.9249590881182388\n",
      "1.8499181762364776\n",
      "GRAPH ID : 21\n",
      "FULL CLUSTER EXPERIMENT\n"
     ]
    },
    {
     "name": "stderr",
     "output_type": "stream",
     "text": [
      "  0%|          | 0/1 [00:00<?, ?it/s]"
     ]
    },
    {
     "name": "stdout",
     "output_type": "stream",
     "text": [
      "FULL CLUSTER EXPERIMENT\n"
     ]
    },
    {
     "name": "stderr",
     "output_type": "stream",
     "text": [
      "100%|██████████| 1/1 [00:24<00:00, 24.13s/it]\n"
     ]
    },
    {
     "name": "stdout",
     "output_type": "stream",
     "text": [
      "Graphs assortavity coefficient : 0.8173206219906043\n",
      "1.6346412439812086\n",
      "GRAPH ID : 22\n",
      "FULL CLUSTER EXPERIMENT\n"
     ]
    },
    {
     "name": "stderr",
     "output_type": "stream",
     "text": [
      "  0%|          | 0/1 [00:00<?, ?it/s]"
     ]
    },
    {
     "name": "stdout",
     "output_type": "stream",
     "text": [
      "FULL CLUSTER EXPERIMENT\n"
     ]
    },
    {
     "name": "stderr",
     "output_type": "stream",
     "text": [
      "100%|██████████| 1/1 [00:35<00:00, 35.26s/it]\n"
     ]
    },
    {
     "name": "stdout",
     "output_type": "stream",
     "text": [
      "Graphs assortavity coefficient : 0.6866804781795557\n",
      "1.3733609563591114\n",
      "GRAPH ID : 23\n",
      "FULL CLUSTER EXPERIMENT\n"
     ]
    },
    {
     "name": "stderr",
     "output_type": "stream",
     "text": [
      "  0%|          | 0/1 [00:00<?, ?it/s]"
     ]
    },
    {
     "name": "stdout",
     "output_type": "stream",
     "text": [
      "FULL CLUSTER EXPERIMENT\n"
     ]
    },
    {
     "name": "stderr",
     "output_type": "stream",
     "text": [
      "100%|██████████| 1/1 [00:16<00:00, 16.37s/it]\n"
     ]
    },
    {
     "name": "stdout",
     "output_type": "stream",
     "text": [
      "Graphs assortavity coefficient : 0.9101073702944165\n",
      "1.820214740588833\n",
      "GRAPH ID : 24\n",
      "FULL CLUSTER EXPERIMENT\n"
     ]
    },
    {
     "name": "stderr",
     "output_type": "stream",
     "text": [
      "  0%|          | 0/1 [00:00<?, ?it/s]"
     ]
    },
    {
     "name": "stdout",
     "output_type": "stream",
     "text": [
      "FULL CLUSTER EXPERIMENT\n"
     ]
    },
    {
     "name": "stderr",
     "output_type": "stream",
     "text": [
      "100%|██████████| 1/1 [00:20<00:00, 20.66s/it]\n"
     ]
    },
    {
     "name": "stdout",
     "output_type": "stream",
     "text": [
      "Graphs assortavity coefficient : 0.8017087834906867\n",
      "1.6034175669813735\n",
      "GRAPH ID : 25\n",
      "FULL CLUSTER EXPERIMENT\n"
     ]
    },
    {
     "name": "stderr",
     "output_type": "stream",
     "text": [
      "  0%|          | 0/1 [00:00<?, ?it/s]"
     ]
    },
    {
     "name": "stdout",
     "output_type": "stream",
     "text": [
      "FULL CLUSTER EXPERIMENT\n"
     ]
    },
    {
     "name": "stderr",
     "output_type": "stream",
     "text": [
      "100%|██████████| 1/1 [00:30<00:00, 30.31s/it]\n"
     ]
    },
    {
     "name": "stdout",
     "output_type": "stream",
     "text": [
      "Graphs assortavity coefficient : 0.6639091112303679\n",
      "1.3278182224607358\n",
      "GRAPH ID : 26\n",
      "FULL CLUSTER EXPERIMENT\n"
     ]
    },
    {
     "name": "stderr",
     "output_type": "stream",
     "text": [
      "  0%|          | 0/1 [00:00<?, ?it/s]"
     ]
    },
    {
     "name": "stdout",
     "output_type": "stream",
     "text": [
      "FULL CLUSTER EXPERIMENT\n"
     ]
    },
    {
     "name": "stderr",
     "output_type": "stream",
     "text": [
      "100%|██████████| 1/1 [00:26<00:00, 26.46s/it]\n"
     ]
    },
    {
     "name": "stdout",
     "output_type": "stream",
     "text": [
      "Graphs assortavity coefficient : 0.6223848167786752\n",
      "1.2447696335573504\n",
      "GRAPH ID : 27\n",
      "FULL CLUSTER EXPERIMENT\n"
     ]
    },
    {
     "name": "stderr",
     "output_type": "stream",
     "text": [
      "  0%|          | 0/1 [00:00<?, ?it/s]"
     ]
    },
    {
     "name": "stdout",
     "output_type": "stream",
     "text": [
      "FULL CLUSTER EXPERIMENT\n"
     ]
    },
    {
     "name": "stderr",
     "output_type": "stream",
     "text": [
      "100%|██████████| 1/1 [00:23<00:00, 23.28s/it]"
     ]
    },
    {
     "name": "stdout",
     "output_type": "stream",
     "text": [
      "Graphs assortavity coefficient : 0.5710057107322835\n",
      "1.142011421464567\n",
      "GRAPH ID : 28\n"
     ]
    },
    {
     "name": "stderr",
     "output_type": "stream",
     "text": [
      "\n"
     ]
    },
    {
     "data": {
      "text/plain": [
       "<Figure size 800x550 with 0 Axes>"
      ]
     },
     "metadata": {},
     "output_type": "display_data"
    }
   ],
   "source": [
    "import warnings\n",
    "warnings.filterwarnings('ignore')\n",
    "# (n_vertex, n_comms, inside_prob, outside_prob) = params \n",
    "# steady_full_experiment(50, 5, .9, .02, k=5, i_want_boxplot=False, dispersion=.35)\n",
    "all_graphs_df = pd.DataFrame()\n",
    "for _, params in graph_params.iterrows():\n",
    "    params = tuple(params)\n",
    "    single_df =  steady_full_experiment(params, k=2, i_want_boxplot=False, dispersion=.35)\n",
    "    single_df['graph_id'] = int(params[0])\n",
    "    print(f'GRAPH ID : {single_df['graph_id'][0]}')\n",
    "    # print(single_df)\n",
    "    all_graphs_df = pd.concat([all_graphs_df, single_df], axis=0)\n",
    "\n",
    "all_graphs_df.to_excel('whole_experiment/100_steady_ex.xlsx', index=False)"
   ]
  },
  {
   "cell_type": "code",
   "execution_count": 9,
   "metadata": {},
   "outputs": [],
   "source": []
  },
  {
   "cell_type": "code",
   "execution_count": null,
   "metadata": {},
   "outputs": [],
   "source": []
  },
  {
   "cell_type": "markdown",
   "metadata": {},
   "source": []
  },
  {
   "cell_type": "code",
   "execution_count": 4,
   "metadata": {},
   "outputs": [
    {
     "data": {
      "text/html": [
       "<div>\n",
       "<style scoped>\n",
       "    .dataframe tbody tr th:only-of-type {\n",
       "        vertical-align: middle;\n",
       "    }\n",
       "\n",
       "    .dataframe tbody tr th {\n",
       "        vertical-align: top;\n",
       "    }\n",
       "\n",
       "    .dataframe thead th {\n",
       "        text-align: right;\n",
       "    }\n",
       "</style>\n",
       "<table border=\"1\" class=\"dataframe\">\n",
       "  <thead>\n",
       "    <tr style=\"text-align: right;\">\n",
       "      <th></th>\n",
       "      <th>layout</th>\n",
       "      <th>AgglomerativeClustering</th>\n",
       "      <th>OPTICS</th>\n",
       "      <th>KMeans</th>\n",
       "      <th>GMM</th>\n",
       "      <th>Birch</th>\n",
       "      <th>Girvan-Newman</th>\n",
       "      <th>Leiden</th>\n",
       "      <th>assortativity</th>\n",
       "      <th>graph_id</th>\n",
       "    </tr>\n",
       "  </thead>\n",
       "  <tbody>\n",
       "    <tr>\n",
       "      <th>0</th>\n",
       "      <td>kamada_kawai</td>\n",
       "      <td>0.78133</td>\n",
       "      <td>0.33586</td>\n",
       "      <td>0.773758</td>\n",
       "      <td>0.774086</td>\n",
       "      <td>1.0</td>\n",
       "      <td>1.0</td>\n",
       "      <td>1.0</td>\n",
       "      <td>0.976059</td>\n",
       "      <td>0</td>\n",
       "    </tr>\n",
       "    <tr>\n",
       "      <th>1</th>\n",
       "      <td>spring</td>\n",
       "      <td>0.769639</td>\n",
       "      <td>0.462218</td>\n",
       "      <td>0.754339</td>\n",
       "      <td>0.756592</td>\n",
       "      <td>1.0</td>\n",
       "      <td>1.0</td>\n",
       "      <td>1.0</td>\n",
       "      <td>0.976059</td>\n",
       "      <td>0</td>\n",
       "    </tr>\n",
       "    <tr>\n",
       "      <th>2</th>\n",
       "      <td>davidson_harel</td>\n",
       "      <td>0.667535</td>\n",
       "      <td>0.646884</td>\n",
       "      <td>0.629901</td>\n",
       "      <td>0.637315</td>\n",
       "      <td>0.674041</td>\n",
       "      <td>1.0</td>\n",
       "      <td>1.0</td>\n",
       "      <td>0.976059</td>\n",
       "      <td>0</td>\n",
       "    </tr>\n",
       "    <tr>\n",
       "      <th>3</th>\n",
       "      <td>drl</td>\n",
       "      <td>0.670134</td>\n",
       "      <td>0.32819</td>\n",
       "      <td>0.735341</td>\n",
       "      <td>0.736651</td>\n",
       "      <td>0.78758</td>\n",
       "      <td>1.0</td>\n",
       "      <td>1.0</td>\n",
       "      <td>0.976059</td>\n",
       "      <td>0</td>\n",
       "    </tr>\n",
       "    <tr>\n",
       "      <th>4</th>\n",
       "      <td>fruchterman_reingold</td>\n",
       "      <td>0.748087</td>\n",
       "      <td>0.458552</td>\n",
       "      <td>0.682056</td>\n",
       "      <td>0.726695</td>\n",
       "      <td>0.808804</td>\n",
       "      <td>1.0</td>\n",
       "      <td>1.0</td>\n",
       "      <td>0.976059</td>\n",
       "      <td>0</td>\n",
       "    </tr>\n",
       "    <tr>\n",
       "      <th>5</th>\n",
       "      <td>graphopt</td>\n",
       "      <td>0.692675</td>\n",
       "      <td>0.532934</td>\n",
       "      <td>0.723826</td>\n",
       "      <td>0.731739</td>\n",
       "      <td>0.692675</td>\n",
       "      <td>1.0</td>\n",
       "      <td>1.0</td>\n",
       "      <td>0.976059</td>\n",
       "      <td>0</td>\n",
       "    </tr>\n",
       "    <tr>\n",
       "      <th>6</th>\n",
       "      <td>lgl</td>\n",
       "      <td>0.225082</td>\n",
       "      <td>0.228264</td>\n",
       "      <td>0.145045</td>\n",
       "      <td>0.269632</td>\n",
       "      <td>0.225082</td>\n",
       "      <td>1.0</td>\n",
       "      <td>1.0</td>\n",
       "      <td>0.976059</td>\n",
       "      <td>0</td>\n",
       "    </tr>\n",
       "    <tr>\n",
       "      <th>7</th>\n",
       "      <td>mds</td>\n",
       "      <td>0.795249</td>\n",
       "      <td>0.49326</td>\n",
       "      <td>0.783718</td>\n",
       "      <td>0.780741</td>\n",
       "      <td>0.797811</td>\n",
       "      <td>1.0</td>\n",
       "      <td>1.0</td>\n",
       "      <td>0.976059</td>\n",
       "      <td>0</td>\n",
       "    </tr>\n",
       "    <tr>\n",
       "      <th>0</th>\n",
       "      <td>kamada_kawai</td>\n",
       "      <td>0.672447</td>\n",
       "      <td>0.097141</td>\n",
       "      <td>0.771794</td>\n",
       "      <td>0.775057</td>\n",
       "      <td>1.0</td>\n",
       "      <td>1.0</td>\n",
       "      <td>1.0</td>\n",
       "      <td>0.971774</td>\n",
       "      <td>1</td>\n",
       "    </tr>\n",
       "    <tr>\n",
       "      <th>1</th>\n",
       "      <td>spring</td>\n",
       "      <td>0.807488</td>\n",
       "      <td>0.560619</td>\n",
       "      <td>0.805155</td>\n",
       "      <td>0.807758</td>\n",
       "      <td>1.0</td>\n",
       "      <td>1.0</td>\n",
       "      <td>1.0</td>\n",
       "      <td>0.971774</td>\n",
       "      <td>1</td>\n",
       "    </tr>\n",
       "    <tr>\n",
       "      <th>2</th>\n",
       "      <td>davidson_harel</td>\n",
       "      <td>0.654766</td>\n",
       "      <td>0.513723</td>\n",
       "      <td>0.686704</td>\n",
       "      <td>0.656009</td>\n",
       "      <td>0.645314</td>\n",
       "      <td>1.0</td>\n",
       "      <td>1.0</td>\n",
       "      <td>0.971774</td>\n",
       "      <td>1</td>\n",
       "    </tr>\n",
       "    <tr>\n",
       "      <th>3</th>\n",
       "      <td>drl</td>\n",
       "      <td>0.688854</td>\n",
       "      <td>0.477869</td>\n",
       "      <td>0.7937</td>\n",
       "      <td>0.796308</td>\n",
       "      <td>0.759888</td>\n",
       "      <td>1.0</td>\n",
       "      <td>1.0</td>\n",
       "      <td>0.971774</td>\n",
       "      <td>1</td>\n",
       "    </tr>\n",
       "    <tr>\n",
       "      <th>4</th>\n",
       "      <td>fruchterman_reingold</td>\n",
       "      <td>0.827634</td>\n",
       "      <td>0.55925</td>\n",
       "      <td>0.822375</td>\n",
       "      <td>0.823365</td>\n",
       "      <td>0.823685</td>\n",
       "      <td>1.0</td>\n",
       "      <td>1.0</td>\n",
       "      <td>0.971774</td>\n",
       "      <td>1</td>\n",
       "    </tr>\n",
       "    <tr>\n",
       "      <th>5</th>\n",
       "      <td>graphopt</td>\n",
       "      <td>0.674822</td>\n",
       "      <td>0.779617</td>\n",
       "      <td>0.787854</td>\n",
       "      <td>0.787854</td>\n",
       "      <td>0.674822</td>\n",
       "      <td>1.0</td>\n",
       "      <td>1.0</td>\n",
       "      <td>0.971774</td>\n",
       "      <td>1</td>\n",
       "    </tr>\n",
       "    <tr>\n",
       "      <th>6</th>\n",
       "      <td>lgl</td>\n",
       "      <td>0.146266</td>\n",
       "      <td>0.217896</td>\n",
       "      <td>0.111481</td>\n",
       "      <td>0.095928</td>\n",
       "      <td>0.146266</td>\n",
       "      <td>1.0</td>\n",
       "      <td>1.0</td>\n",
       "      <td>0.971774</td>\n",
       "      <td>1</td>\n",
       "    </tr>\n",
       "    <tr>\n",
       "      <th>7</th>\n",
       "      <td>mds</td>\n",
       "      <td>0.75445</td>\n",
       "      <td>0.396607</td>\n",
       "      <td>0.823391</td>\n",
       "      <td>0.780361</td>\n",
       "      <td>0.87311</td>\n",
       "      <td>1.0</td>\n",
       "      <td>1.0</td>\n",
       "      <td>0.971774</td>\n",
       "      <td>1</td>\n",
       "    </tr>\n",
       "    <tr>\n",
       "      <th>0</th>\n",
       "      <td>kamada_kawai</td>\n",
       "      <td>0.774331</td>\n",
       "      <td>0.257223</td>\n",
       "      <td>0.783898</td>\n",
       "      <td>0.787175</td>\n",
       "      <td>0.940972</td>\n",
       "      <td>1.0</td>\n",
       "      <td>1.0</td>\n",
       "      <td>0.868408</td>\n",
       "      <td>2</td>\n",
       "    </tr>\n",
       "    <tr>\n",
       "      <th>1</th>\n",
       "      <td>spring</td>\n",
       "      <td>0.713903</td>\n",
       "      <td>0.448245</td>\n",
       "      <td>0.745194</td>\n",
       "      <td>0.742902</td>\n",
       "      <td>1.0</td>\n",
       "      <td>1.0</td>\n",
       "      <td>1.0</td>\n",
       "      <td>0.868408</td>\n",
       "      <td>2</td>\n",
       "    </tr>\n",
       "    <tr>\n",
       "      <th>2</th>\n",
       "      <td>davidson_harel</td>\n",
       "      <td>0.515522</td>\n",
       "      <td>0.401504</td>\n",
       "      <td>0.537257</td>\n",
       "      <td>0.527613</td>\n",
       "      <td>0.547257</td>\n",
       "      <td>1.0</td>\n",
       "      <td>1.0</td>\n",
       "      <td>0.868408</td>\n",
       "      <td>2</td>\n",
       "    </tr>\n",
       "    <tr>\n",
       "      <th>3</th>\n",
       "      <td>drl</td>\n",
       "      <td>0.635223</td>\n",
       "      <td>0.245827</td>\n",
       "      <td>0.63529</td>\n",
       "      <td>0.633963</td>\n",
       "      <td>0.665239</td>\n",
       "      <td>1.0</td>\n",
       "      <td>1.0</td>\n",
       "      <td>0.868408</td>\n",
       "      <td>2</td>\n",
       "    </tr>\n",
       "    <tr>\n",
       "      <th>4</th>\n",
       "      <td>fruchterman_reingold</td>\n",
       "      <td>0.588861</td>\n",
       "      <td>0.180013</td>\n",
       "      <td>0.583327</td>\n",
       "      <td>0.58203</td>\n",
       "      <td>0.601593</td>\n",
       "      <td>1.0</td>\n",
       "      <td>1.0</td>\n",
       "      <td>0.868408</td>\n",
       "      <td>2</td>\n",
       "    </tr>\n",
       "    <tr>\n",
       "      <th>5</th>\n",
       "      <td>graphopt</td>\n",
       "      <td>0.574012</td>\n",
       "      <td>0.582108</td>\n",
       "      <td>0.562778</td>\n",
       "      <td>0.562778</td>\n",
       "      <td>0.574012</td>\n",
       "      <td>1.0</td>\n",
       "      <td>1.0</td>\n",
       "      <td>0.868408</td>\n",
       "      <td>2</td>\n",
       "    </tr>\n",
       "    <tr>\n",
       "      <th>6</th>\n",
       "      <td>lgl</td>\n",
       "      <td>0.045847</td>\n",
       "      <td>0.038479</td>\n",
       "      <td>0.052616</td>\n",
       "      <td>0.077206</td>\n",
       "      <td>0.045847</td>\n",
       "      <td>1.0</td>\n",
       "      <td>1.0</td>\n",
       "      <td>0.868408</td>\n",
       "      <td>2</td>\n",
       "    </tr>\n",
       "    <tr>\n",
       "      <th>7</th>\n",
       "      <td>mds</td>\n",
       "      <td>0.599373</td>\n",
       "      <td>0.307749</td>\n",
       "      <td>0.609071</td>\n",
       "      <td>0.618997</td>\n",
       "      <td>0.657784</td>\n",
       "      <td>1.0</td>\n",
       "      <td>1.0</td>\n",
       "      <td>0.868408</td>\n",
       "      <td>2</td>\n",
       "    </tr>\n",
       "    <tr>\n",
       "      <th>0</th>\n",
       "      <td>kamada_kawai</td>\n",
       "      <td>0.65664</td>\n",
       "      <td>0.510708</td>\n",
       "      <td>0.701391</td>\n",
       "      <td>0.709925</td>\n",
       "      <td>0.983987</td>\n",
       "      <td>1.0</td>\n",
       "      <td>1.0</td>\n",
       "      <td>0.844050</td>\n",
       "      <td>3</td>\n",
       "    </tr>\n",
       "    <tr>\n",
       "      <th>1</th>\n",
       "      <td>spring</td>\n",
       "      <td>0.690916</td>\n",
       "      <td>0.523567</td>\n",
       "      <td>0.742428</td>\n",
       "      <td>0.741439</td>\n",
       "      <td>1.0</td>\n",
       "      <td>1.0</td>\n",
       "      <td>1.0</td>\n",
       "      <td>0.844050</td>\n",
       "      <td>3</td>\n",
       "    </tr>\n",
       "    <tr>\n",
       "      <th>2</th>\n",
       "      <td>davidson_harel</td>\n",
       "      <td>0.352389</td>\n",
       "      <td>0.169012</td>\n",
       "      <td>0.387808</td>\n",
       "      <td>0.326925</td>\n",
       "      <td>0.317526</td>\n",
       "      <td>1.0</td>\n",
       "      <td>1.0</td>\n",
       "      <td>0.844050</td>\n",
       "      <td>3</td>\n",
       "    </tr>\n",
       "    <tr>\n",
       "      <th>3</th>\n",
       "      <td>drl</td>\n",
       "      <td>0.515172</td>\n",
       "      <td>0.205863</td>\n",
       "      <td>0.553871</td>\n",
       "      <td>0.550306</td>\n",
       "      <td>0.567266</td>\n",
       "      <td>1.0</td>\n",
       "      <td>1.0</td>\n",
       "      <td>0.844050</td>\n",
       "      <td>3</td>\n",
       "    </tr>\n",
       "    <tr>\n",
       "      <th>4</th>\n",
       "      <td>fruchterman_reingold</td>\n",
       "      <td>0.429916</td>\n",
       "      <td>0.29072</td>\n",
       "      <td>0.523853</td>\n",
       "      <td>0.522879</td>\n",
       "      <td>0.546408</td>\n",
       "      <td>1.0</td>\n",
       "      <td>1.0</td>\n",
       "      <td>0.844050</td>\n",
       "      <td>3</td>\n",
       "    </tr>\n",
       "    <tr>\n",
       "      <th>5</th>\n",
       "      <td>graphopt</td>\n",
       "      <td>0.418223</td>\n",
       "      <td>0.505858</td>\n",
       "      <td>0.410718</td>\n",
       "      <td>0.410351</td>\n",
       "      <td>0.418223</td>\n",
       "      <td>1.0</td>\n",
       "      <td>1.0</td>\n",
       "      <td>0.844050</td>\n",
       "      <td>3</td>\n",
       "    </tr>\n",
       "    <tr>\n",
       "      <th>6</th>\n",
       "      <td>lgl</td>\n",
       "      <td>0.053632</td>\n",
       "      <td>0.080124</td>\n",
       "      <td>0.017683</td>\n",
       "      <td>0.112682</td>\n",
       "      <td>0.053632</td>\n",
       "      <td>1.0</td>\n",
       "      <td>1.0</td>\n",
       "      <td>0.844050</td>\n",
       "      <td>3</td>\n",
       "    </tr>\n",
       "    <tr>\n",
       "      <th>7</th>\n",
       "      <td>mds</td>\n",
       "      <td>0.506152</td>\n",
       "      <td>0.295565</td>\n",
       "      <td>0.539477</td>\n",
       "      <td>0.542718</td>\n",
       "      <td>0.573877</td>\n",
       "      <td>1.0</td>\n",
       "      <td>1.0</td>\n",
       "      <td>0.844050</td>\n",
       "      <td>3</td>\n",
       "    </tr>\n",
       "    <tr>\n",
       "      <th>0</th>\n",
       "      <td>kamada_kawai</td>\n",
       "      <td>0.69561</td>\n",
       "      <td>0.301563</td>\n",
       "      <td>0.618513</td>\n",
       "      <td>0.613722</td>\n",
       "      <td>0.790277</td>\n",
       "      <td>0.796518</td>\n",
       "      <td>0.920966</td>\n",
       "      <td>0.689937</td>\n",
       "      <td>4</td>\n",
       "    </tr>\n",
       "    <tr>\n",
       "      <th>1</th>\n",
       "      <td>spring</td>\n",
       "      <td>0.716626</td>\n",
       "      <td>0.453849</td>\n",
       "      <td>0.657288</td>\n",
       "      <td>0.736497</td>\n",
       "      <td>0.859871</td>\n",
       "      <td>0.796518</td>\n",
       "      <td>0.920966</td>\n",
       "      <td>0.689937</td>\n",
       "      <td>4</td>\n",
       "    </tr>\n",
       "    <tr>\n",
       "      <th>2</th>\n",
       "      <td>davidson_harel</td>\n",
       "      <td>0.296052</td>\n",
       "      <td>0.055344</td>\n",
       "      <td>0.373726</td>\n",
       "      <td>0.217414</td>\n",
       "      <td>0.279681</td>\n",
       "      <td>0.796518</td>\n",
       "      <td>0.920966</td>\n",
       "      <td>0.689937</td>\n",
       "      <td>4</td>\n",
       "    </tr>\n",
       "    <tr>\n",
       "      <th>3</th>\n",
       "      <td>drl</td>\n",
       "      <td>0.134136</td>\n",
       "      <td>0.011269</td>\n",
       "      <td>0.155276</td>\n",
       "      <td>0.173294</td>\n",
       "      <td>0.136131</td>\n",
       "      <td>0.796518</td>\n",
       "      <td>0.920966</td>\n",
       "      <td>0.689937</td>\n",
       "      <td>4</td>\n",
       "    </tr>\n",
       "    <tr>\n",
       "      <th>4</th>\n",
       "      <td>fruchterman_reingold</td>\n",
       "      <td>0.296112</td>\n",
       "      <td>0.280758</td>\n",
       "      <td>0.371898</td>\n",
       "      <td>0.384719</td>\n",
       "      <td>0.379173</td>\n",
       "      <td>0.796518</td>\n",
       "      <td>0.920966</td>\n",
       "      <td>0.689937</td>\n",
       "      <td>4</td>\n",
       "    </tr>\n",
       "    <tr>\n",
       "      <th>5</th>\n",
       "      <td>graphopt</td>\n",
       "      <td>0.265192</td>\n",
       "      <td>0.123338</td>\n",
       "      <td>0.252717</td>\n",
       "      <td>0.281903</td>\n",
       "      <td>0.265192</td>\n",
       "      <td>0.796518</td>\n",
       "      <td>0.920966</td>\n",
       "      <td>0.689937</td>\n",
       "      <td>4</td>\n",
       "    </tr>\n",
       "    <tr>\n",
       "      <th>6</th>\n",
       "      <td>lgl</td>\n",
       "      <td>0.057324</td>\n",
       "      <td>0.068668</td>\n",
       "      <td>0.046104</td>\n",
       "      <td>0.045577</td>\n",
       "      <td>0.057324</td>\n",
       "      <td>0.796518</td>\n",
       "      <td>0.920966</td>\n",
       "      <td>0.689937</td>\n",
       "      <td>4</td>\n",
       "    </tr>\n",
       "    <tr>\n",
       "      <th>7</th>\n",
       "      <td>mds</td>\n",
       "      <td>0.334442</td>\n",
       "      <td>0.180424</td>\n",
       "      <td>0.313083</td>\n",
       "      <td>0.311989</td>\n",
       "      <td>0.341198</td>\n",
       "      <td>0.796518</td>\n",
       "      <td>0.920966</td>\n",
       "      <td>0.689937</td>\n",
       "      <td>4</td>\n",
       "    </tr>\n",
       "  </tbody>\n",
       "</table>\n",
       "</div>"
      ],
      "text/plain": [
       "                 layout AgglomerativeClustering    OPTICS    KMeans       GMM  \\\n",
       "0          kamada_kawai                 0.78133   0.33586  0.773758  0.774086   \n",
       "1                spring                0.769639  0.462218  0.754339  0.756592   \n",
       "2        davidson_harel                0.667535  0.646884  0.629901  0.637315   \n",
       "3                   drl                0.670134   0.32819  0.735341  0.736651   \n",
       "4  fruchterman_reingold                0.748087  0.458552  0.682056  0.726695   \n",
       "5              graphopt                0.692675  0.532934  0.723826  0.731739   \n",
       "6                   lgl                0.225082  0.228264  0.145045  0.269632   \n",
       "7                   mds                0.795249   0.49326  0.783718  0.780741   \n",
       "0          kamada_kawai                0.672447  0.097141  0.771794  0.775057   \n",
       "1                spring                0.807488  0.560619  0.805155  0.807758   \n",
       "2        davidson_harel                0.654766  0.513723  0.686704  0.656009   \n",
       "3                   drl                0.688854  0.477869    0.7937  0.796308   \n",
       "4  fruchterman_reingold                0.827634   0.55925  0.822375  0.823365   \n",
       "5              graphopt                0.674822  0.779617  0.787854  0.787854   \n",
       "6                   lgl                0.146266  0.217896  0.111481  0.095928   \n",
       "7                   mds                 0.75445  0.396607  0.823391  0.780361   \n",
       "0          kamada_kawai                0.774331  0.257223  0.783898  0.787175   \n",
       "1                spring                0.713903  0.448245  0.745194  0.742902   \n",
       "2        davidson_harel                0.515522  0.401504  0.537257  0.527613   \n",
       "3                   drl                0.635223  0.245827   0.63529  0.633963   \n",
       "4  fruchterman_reingold                0.588861  0.180013  0.583327   0.58203   \n",
       "5              graphopt                0.574012  0.582108  0.562778  0.562778   \n",
       "6                   lgl                0.045847  0.038479  0.052616  0.077206   \n",
       "7                   mds                0.599373  0.307749  0.609071  0.618997   \n",
       "0          kamada_kawai                 0.65664  0.510708  0.701391  0.709925   \n",
       "1                spring                0.690916  0.523567  0.742428  0.741439   \n",
       "2        davidson_harel                0.352389  0.169012  0.387808  0.326925   \n",
       "3                   drl                0.515172  0.205863  0.553871  0.550306   \n",
       "4  fruchterman_reingold                0.429916   0.29072  0.523853  0.522879   \n",
       "5              graphopt                0.418223  0.505858  0.410718  0.410351   \n",
       "6                   lgl                0.053632  0.080124  0.017683  0.112682   \n",
       "7                   mds                0.506152  0.295565  0.539477  0.542718   \n",
       "0          kamada_kawai                 0.69561  0.301563  0.618513  0.613722   \n",
       "1                spring                0.716626  0.453849  0.657288  0.736497   \n",
       "2        davidson_harel                0.296052  0.055344  0.373726  0.217414   \n",
       "3                   drl                0.134136  0.011269  0.155276  0.173294   \n",
       "4  fruchterman_reingold                0.296112  0.280758  0.371898  0.384719   \n",
       "5              graphopt                0.265192  0.123338  0.252717  0.281903   \n",
       "6                   lgl                0.057324  0.068668  0.046104  0.045577   \n",
       "7                   mds                0.334442  0.180424  0.313083  0.311989   \n",
       "\n",
       "      Birch Girvan-Newman    Leiden  assortativity  graph_id  \n",
       "0       1.0           1.0       1.0       0.976059         0  \n",
       "1       1.0           1.0       1.0       0.976059         0  \n",
       "2  0.674041           1.0       1.0       0.976059         0  \n",
       "3   0.78758           1.0       1.0       0.976059         0  \n",
       "4  0.808804           1.0       1.0       0.976059         0  \n",
       "5  0.692675           1.0       1.0       0.976059         0  \n",
       "6  0.225082           1.0       1.0       0.976059         0  \n",
       "7  0.797811           1.0       1.0       0.976059         0  \n",
       "0       1.0           1.0       1.0       0.971774         1  \n",
       "1       1.0           1.0       1.0       0.971774         1  \n",
       "2  0.645314           1.0       1.0       0.971774         1  \n",
       "3  0.759888           1.0       1.0       0.971774         1  \n",
       "4  0.823685           1.0       1.0       0.971774         1  \n",
       "5  0.674822           1.0       1.0       0.971774         1  \n",
       "6  0.146266           1.0       1.0       0.971774         1  \n",
       "7   0.87311           1.0       1.0       0.971774         1  \n",
       "0  0.940972           1.0       1.0       0.868408         2  \n",
       "1       1.0           1.0       1.0       0.868408         2  \n",
       "2  0.547257           1.0       1.0       0.868408         2  \n",
       "3  0.665239           1.0       1.0       0.868408         2  \n",
       "4  0.601593           1.0       1.0       0.868408         2  \n",
       "5  0.574012           1.0       1.0       0.868408         2  \n",
       "6  0.045847           1.0       1.0       0.868408         2  \n",
       "7  0.657784           1.0       1.0       0.868408         2  \n",
       "0  0.983987           1.0       1.0       0.844050         3  \n",
       "1       1.0           1.0       1.0       0.844050         3  \n",
       "2  0.317526           1.0       1.0       0.844050         3  \n",
       "3  0.567266           1.0       1.0       0.844050         3  \n",
       "4  0.546408           1.0       1.0       0.844050         3  \n",
       "5  0.418223           1.0       1.0       0.844050         3  \n",
       "6  0.053632           1.0       1.0       0.844050         3  \n",
       "7  0.573877           1.0       1.0       0.844050         3  \n",
       "0  0.790277      0.796518  0.920966       0.689937         4  \n",
       "1  0.859871      0.796518  0.920966       0.689937         4  \n",
       "2  0.279681      0.796518  0.920966       0.689937         4  \n",
       "3  0.136131      0.796518  0.920966       0.689937         4  \n",
       "4  0.379173      0.796518  0.920966       0.689937         4  \n",
       "5  0.265192      0.796518  0.920966       0.689937         4  \n",
       "6  0.057324      0.796518  0.920966       0.689937         4  \n",
       "7  0.341198      0.796518  0.920966       0.689937         4  "
      ]
     },
     "execution_count": 4,
     "metadata": {},
     "output_type": "execute_result"
    }
   ],
   "source": [
    "all_graphs_df"
   ]
  },
  {
   "cell_type": "code",
   "execution_count": null,
   "metadata": {},
   "outputs": [],
   "source": []
  }
 ],
 "metadata": {
  "kernelspec": {
   "display_name": "Python 3",
   "language": "python",
   "name": "python3"
  },
  "language_info": {
   "codemirror_mode": {
    "name": "ipython",
    "version": 3
   },
   "file_extension": ".py",
   "mimetype": "text/x-python",
   "name": "python",
   "nbconvert_exporter": "python",
   "pygments_lexer": "ipython3",
   "version": "3.12.5"
  }
 },
 "nbformat": 4,
 "nbformat_minor": 2
}
