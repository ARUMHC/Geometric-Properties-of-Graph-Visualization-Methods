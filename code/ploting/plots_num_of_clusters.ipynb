{
 "cells": [
  {
   "cell_type": "code",
   "execution_count": 18,
   "metadata": {},
   "outputs": [],
   "source": [
    "import pandas as pd\n",
    "import networkx as nx\n",
    "from sklearn.cluster import Birch\n",
    "import numpy as np\n",
    "from networkx.algorithms.community.centrality import girvan_newman\n",
    "import matplotlib.pyplot as plt\n",
    "from sklearn.metrics import adjusted_rand_score\n",
    "from sklearn.cluster import KMeans, DBSCAN, Birch\n",
    "from sklearn.mixture import GaussianMixture\n",
    "import warnings\n",
    "warnings.filterwarnings('ignore')\n",
    "import igraph as ig\n",
    "import community\n",
    "# from graph_generating_script import *\n",
    "from sklearn.model_selection import ParameterGrid\n",
    "import networkx as nx\n",
    "\n",
    "\n",
    "from sklearn.cluster import KMeans\n",
    "from sklearn.metrics import silhouette_score\n",
    "import numpy as np\n",
    "\n",
    "\n"
   ]
  },
  {
   "cell_type": "code",
   "execution_count": 19,
   "metadata": {},
   "outputs": [
    {
     "name": "stdout",
     "output_type": "stream",
     "text": [
      "The autoreload extension is already loaded. To reload it, use:\n",
      "  %reload_ext autoreload\n"
     ]
    }
   ],
   "source": [
    "%load_ext autoreload\n",
    "%autoreload 3\n",
    "\n",
    "from clustering_script import *\n",
    "from graph_generating_script import *\n",
    "import warnings\n",
    "warnings.filterwarnings('ignore')"
   ]
  },
  {
   "cell_type": "code",
   "execution_count": 11,
   "metadata": {},
   "outputs": [],
   "source": [
    "import random\n",
    "(G, true_labels) = generate_G_randomized(50, 5, 0.6, 0.01)"
   ]
  },
  {
   "cell_type": "code",
   "execution_count": 12,
   "metadata": {},
   "outputs": [
    {
     "data": {
      "text/plain": [
       "{'Girvan Newman': 1.0, 'Leiden': 0.8535164591127282}"
      ]
     },
     "execution_count": 12,
     "metadata": {},
     "output_type": "execute_result"
    }
   ],
   "source": [
    "get_communities_scores_from_positions(G, true_labels)"
   ]
  },
  {
   "cell_type": "code",
   "execution_count": 17,
   "metadata": {},
   "outputs": [
    {
     "name": "stdout",
     "output_type": "stream",
     "text": [
      "FULL CLUSTER EXPERIMENT\n",
      "                 layout  AgglomerativeClustering    OPTICS    KMeans  \\\n",
      "0          kamada_kawai                 0.855927  0.880288  0.898481   \n",
      "1                spring                 0.896689  0.867135  0.663744   \n",
      "2        davidson_harel                 0.666335  0.648270  0.625250   \n",
      "3                   drl                 0.625250  0.625250  0.625250   \n",
      "4  fruchterman_reingold                 0.625250  0.625250  0.625250   \n",
      "5              graphopt                 0.625250  0.625250  0.625250   \n",
      "6                   lgl                 0.251460  0.218308  0.251460   \n",
      "7                   mds                 0.333798  0.430413  0.478138   \n",
      "\n",
      "        GMM     Birch  \n",
      "0  1.000000  0.360145  \n",
      "1  0.688971  0.725486  \n",
      "2  0.625250  0.666335  \n",
      "3  0.625250  0.625250  \n",
      "4  0.625250  0.625250  \n",
      "5  0.625250  0.625250  \n",
      "6  0.251460  0.251460  \n",
      "7  0.441423  0.441423  \n",
      "                 layout  AgglomerativeClustering    OPTICS    KMeans  \\\n",
      "0          kamada_kawai                 0.855927  0.880288  0.898481   \n",
      "1                spring                 0.896689  0.867135  0.663744   \n",
      "2        davidson_harel                 0.666335  0.648270  0.625250   \n",
      "3                   drl                 0.625250  0.625250  0.625250   \n",
      "4  fruchterman_reingold                 0.625250  0.625250  0.625250   \n",
      "5              graphopt                 0.625250  0.625250  0.625250   \n",
      "6                   lgl                 0.251460  0.218308  0.251460   \n",
      "7                   mds                 0.333798  0.430413  0.478138   \n",
      "\n",
      "        GMM     Birch  \n",
      "0  1.000000  0.360145  \n",
      "1  0.688971  0.725486  \n",
      "2  0.625250  0.666335  \n",
      "3  0.625250  0.625250  \n",
      "4  0.625250  0.625250  \n",
      "5  0.625250  0.625250  \n",
      "6  0.251460  0.251460  \n",
      "7  0.441423  0.441423  \n"
     ]
    },
    {
     "name": "stderr",
     "output_type": "stream",
     "text": [
      "  0%|          | 0/4 [00:00<?, ?it/s]"
     ]
    },
    {
     "name": "stdout",
     "output_type": "stream",
     "text": [
      "FULL CLUSTER EXPERIMENT\n",
      "                 layout  AgglomerativeClustering    OPTICS    KMeans  \\\n",
      "0          kamada_kawai                 0.895794  0.955025  1.000000   \n",
      "1                spring                 0.723553  0.756734  0.855476   \n",
      "2        davidson_harel                 0.261881  0.230134  0.266200   \n",
      "3                   drl                 0.266200  0.257212  0.266200   \n",
      "4  fruchterman_reingold                 0.266200  0.266200  0.266200   \n",
      "5              graphopt                 0.054603  0.266200  0.155235   \n",
      "6                   lgl                 0.030628  0.202343  0.030628   \n",
      "7                   mds                 0.195728  0.239442  0.227172   \n",
      "\n",
      "        GMM     Birch  \n",
      "0  1.000000  0.559155  \n",
      "1  0.855476  0.475045  \n",
      "2  0.266200  0.261881  \n",
      "3  0.266200  0.266200  \n",
      "4  0.266200  0.266200  \n",
      "5  0.166805  0.054603  \n",
      "6  0.030628  0.030628  \n",
      "7  0.227172  0.222926  \n"
     ]
    },
    {
     "name": "stderr",
     "output_type": "stream",
     "text": [
      " 25%|██▌       | 1/4 [00:07<00:22,  7.35s/it]"
     ]
    },
    {
     "name": "stdout",
     "output_type": "stream",
     "text": [
      "FULL CLUSTER EXPERIMENT\n",
      "                 layout  AgglomerativeClustering    OPTICS    KMeans  \\\n",
      "0          kamada_kawai                 0.917986  0.690349  0.955025   \n",
      "1                spring                 0.813101  0.868093  0.789338   \n",
      "2        davidson_harel                 0.299139  0.403903  0.299139   \n",
      "3                   drl                 0.371334  0.375997  0.351867   \n",
      "4  fruchterman_reingold                 0.299139  0.377466  0.253741   \n",
      "5              graphopt                 0.366090  0.332513  0.364758   \n",
      "6                   lgl                 0.036377  0.215165  0.036377   \n",
      "7                   mds                 0.362101  0.279560  0.349208   \n",
      "\n",
      "        GMM     Birch  \n",
      "0  0.955025  0.280378  \n",
      "1  0.758530  0.411667  \n",
      "2  0.299139  0.299139  \n",
      "3  0.371334  0.388405  \n",
      "4  0.253741  0.271796  \n",
      "5  0.364758  0.366090  \n",
      "6  0.036377  0.036377  \n",
      "7  0.363192  0.325383  \n"
     ]
    },
    {
     "name": "stderr",
     "output_type": "stream",
     "text": [
      " 50%|█████     | 2/4 [00:14<00:14,  7.44s/it]"
     ]
    },
    {
     "name": "stdout",
     "output_type": "stream",
     "text": [
      "FULL CLUSTER EXPERIMENT\n"
     ]
    },
    {
     "name": "stderr",
     "output_type": "stream",
     "text": [
      " 75%|███████▌  | 3/4 [00:22<00:07,  7.61s/it]"
     ]
    },
    {
     "name": "stdout",
     "output_type": "stream",
     "text": [
      "                 layout  AgglomerativeClustering    OPTICS    KMeans  \\\n",
      "0          kamada_kawai                 0.922280  0.751720  0.626552   \n",
      "1                spring                 0.958148  0.984048  1.000000   \n",
      "2        davidson_harel                 0.443746  0.233398  0.431469   \n",
      "3                   drl                 0.441949  0.447131  0.441949   \n",
      "4  fruchterman_reingold                 0.477026  0.432125  0.447131   \n",
      "5              graphopt                 0.447131  0.412407  0.447131   \n",
      "6                   lgl                 0.289268  0.329530  0.289268   \n",
      "7                   mds                 0.334590  0.203298  0.302845   \n",
      "\n",
      "        GMM     Birch  \n",
      "0  0.723845  0.341030  \n",
      "1  0.958148  0.315065  \n",
      "2  0.443746  0.443746  \n",
      "3  0.441949  0.447131  \n",
      "4  0.447131  0.477026  \n",
      "5  0.447131  0.447131  \n",
      "6  0.289268  0.289268  \n",
      "7  0.334206  0.200607  \n",
      "FULL CLUSTER EXPERIMENT\n",
      "                 layout  AgglomerativeClustering    OPTICS    KMeans  \\\n",
      "0          kamada_kawai                 0.863127  0.586265  0.758577   \n",
      "1                spring                 0.917091  0.844662  0.960701   \n",
      "2        davidson_harel                 0.420294  0.438739  0.386276   \n",
      "3                   drl                 0.468149  0.450728  0.278435   \n",
      "4  fruchterman_reingold                 0.436967  0.406394  0.436967   \n",
      "5              graphopt                 0.448983  0.461308  0.468149   \n",
      "6                   lgl                 0.168496  0.350079  0.168496   \n",
      "7                   mds                 0.365129  0.273703  0.365129   \n",
      "\n",
      "        GMM     Birch  \n",
      "0  0.863127  0.502476  \n",
      "1  0.960701  0.467719  \n",
      "2  0.386276  0.420294  \n",
      "3  0.284578  0.468149  \n",
      "4  0.436967  0.436967  \n",
      "5  0.468149  0.448983  \n",
      "6  0.168496  0.168496  \n",
      "7  0.365129  0.342734  \n"
     ]
    },
    {
     "name": "stderr",
     "output_type": "stream",
     "text": [
      "100%|██████████| 4/4 [00:29<00:00,  7.39s/it]"
     ]
    },
    {
     "name": "stdout",
     "output_type": "stream",
     "text": [
      "                 layout                            AgglomerativeClustering  \\\n",
      "0          kamada_kawai  [0.8559270386724973, 0.895794481197202, 0.9179...   \n",
      "1                spring  [0.8966889874677416, 0.7235526884063328, 0.813...   \n",
      "2        davidson_harel  [0.6663353758314325, 0.2618808513395316, 0.299...   \n",
      "3                   drl  [0.6252503918265403, 0.26619960412542976, 0.37...   \n",
      "4  fruchterman_reingold  [0.6252503918265403, 0.26619960412542976, 0.29...   \n",
      "5              graphopt  [0.6252503918265403, 0.054602933231957425, 0.3...   \n",
      "6                   lgl  [0.2514598175406536, 0.03062754042163716, 0.03...   \n",
      "7                   mds  [0.3337984046259246, 0.19572757653228173, 0.36...   \n",
      "\n",
      "                                              OPTICS  \\\n",
      "0  [0.8802882646112773, 0.9550249981102941, 0.690...   \n",
      "1  [0.867134930172627, 0.7567337727116621, 0.8680...   \n",
      "2  [0.6482704426276578, 0.23013386243861272, 0.40...   \n",
      "3  [0.6252503918265403, 0.25721215513421486, 0.37...   \n",
      "4  [0.6252503918265403, 0.26619960412542976, 0.37...   \n",
      "5  [0.6252503918265403, 0.26619960412542976, 0.33...   \n",
      "6  [0.21830764391318025, 0.2023432716107944, 0.21...   \n",
      "7  [0.43041270667881787, 0.23944186645449989, 0.2...   \n",
      "\n",
      "                                              KMeans  \\\n",
      "0  [0.8984808787061651, 1.0, 0.9550246095833756, ...   \n",
      "1  [0.6637437694394436, 0.8554755433595218, 0.789...   \n",
      "2  [0.6252503918265403, 0.26619960412542976, 0.29...   \n",
      "3  [0.6252503918265403, 0.26619960412542976, 0.35...   \n",
      "4  [0.6252503918265403, 0.26619960412542976, 0.25...   \n",
      "5  [0.6252503918265403, 0.155235242814936, 0.3647...   \n",
      "6  [0.2514598175406536, 0.03062754042163716, 0.03...   \n",
      "7  [0.47813777917584144, 0.22717231143645972, 0.3...   \n",
      "\n",
      "                                                 GMM  \\\n",
      "0  [1.0, 1.0, 0.9550246095833756, 0.7238446562147...   \n",
      "1  [0.6889710059420192, 0.8554755433595218, 0.758...   \n",
      "2  [0.6252503918265403, 0.26619960412542976, 0.29...   \n",
      "3  [0.6252503918265403, 0.26619960412542976, 0.37...   \n",
      "4  [0.6252503918265403, 0.26619960412542976, 0.25...   \n",
      "5  [0.6252503918265403, 0.16680521757530872, 0.36...   \n",
      "6  [0.2514598175406536, 0.03062754042163716, 0.03...   \n",
      "7  [0.4414225903717601, 0.22717231143645972, 0.36...   \n",
      "\n",
      "                                               Birch  \n",
      "0  [0.3601454290955967, 0.5591548599136644, 0.280...  \n",
      "1  [0.7254855208738569, 0.4750447914000512, 0.411...  \n",
      "2  [0.6663353758314325, 0.2618808513395316, 0.299...  \n",
      "3  [0.6252503918265403, 0.26619960412542976, 0.38...  \n",
      "4  [0.6252503918265403, 0.26619960412542976, 0.27...  \n",
      "5  [0.6252503918265403, 0.054602933231957425, 0.3...  \n",
      "6  [0.2514598175406536, 0.03062754042163716, 0.03...  \n",
      "7  [0.4414225903717601, 0.22292611137424725, 0.32...  \n",
      "Graphs assortavity coefficient : 0.9067630513005932\n"
     ]
    },
    {
     "name": "stderr",
     "output_type": "stream",
     "text": [
      "\n"
     ]
    },
    {
     "data": {
      "text/html": [
       "<div>\n",
       "<style scoped>\n",
       "    .dataframe tbody tr th:only-of-type {\n",
       "        vertical-align: middle;\n",
       "    }\n",
       "\n",
       "    .dataframe tbody tr th {\n",
       "        vertical-align: top;\n",
       "    }\n",
       "\n",
       "    .dataframe thead th {\n",
       "        text-align: right;\n",
       "    }\n",
       "</style>\n",
       "<table border=\"1\" class=\"dataframe\">\n",
       "  <thead>\n",
       "    <tr style=\"text-align: right;\">\n",
       "      <th></th>\n",
       "      <th>layout</th>\n",
       "      <th>AgglomerativeClustering</th>\n",
       "      <th>OPTICS</th>\n",
       "      <th>KMeans</th>\n",
       "      <th>GMM</th>\n",
       "      <th>Birch</th>\n",
       "      <th>Girvan-Newman</th>\n",
       "      <th>Leiden</th>\n",
       "    </tr>\n",
       "  </thead>\n",
       "  <tbody>\n",
       "    <tr>\n",
       "      <th>0</th>\n",
       "      <td>kamada_kawai</td>\n",
       "      <td>0.891023</td>\n",
       "      <td>0.772729</td>\n",
       "      <td>0.847727</td>\n",
       "      <td>0.908399</td>\n",
       "      <td>0.408637</td>\n",
       "      <td>1.0</td>\n",
       "      <td>0.768802</td>\n",
       "    </tr>\n",
       "    <tr>\n",
       "      <th>1</th>\n",
       "      <td>spring</td>\n",
       "      <td>0.861716</td>\n",
       "      <td>0.864134</td>\n",
       "      <td>0.853852</td>\n",
       "      <td>0.844365</td>\n",
       "      <td>0.478996</td>\n",
       "      <td>1.0</td>\n",
       "      <td>0.768802</td>\n",
       "    </tr>\n",
       "    <tr>\n",
       "      <th>2</th>\n",
       "      <td>davidson_harel</td>\n",
       "      <td>0.418279</td>\n",
       "      <td>0.390889</td>\n",
       "      <td>0.401667</td>\n",
       "      <td>0.404122</td>\n",
       "      <td>0.418279</td>\n",
       "      <td>1.0</td>\n",
       "      <td>0.768802</td>\n",
       "    </tr>\n",
       "    <tr>\n",
       "      <th>3</th>\n",
       "      <td>drl</td>\n",
       "      <td>0.434576</td>\n",
       "      <td>0.431264</td>\n",
       "      <td>0.39274</td>\n",
       "      <td>0.397862</td>\n",
       "      <td>0.439027</td>\n",
       "      <td>1.0</td>\n",
       "      <td>0.768802</td>\n",
       "    </tr>\n",
       "    <tr>\n",
       "      <th>4</th>\n",
       "      <td>fruchterman_reingold</td>\n",
       "      <td>0.420916</td>\n",
       "      <td>0.421487</td>\n",
       "      <td>0.405858</td>\n",
       "      <td>0.405858</td>\n",
       "      <td>0.415448</td>\n",
       "      <td>1.0</td>\n",
       "      <td>0.768802</td>\n",
       "    </tr>\n",
       "    <tr>\n",
       "      <th>5</th>\n",
       "      <td>graphopt</td>\n",
       "      <td>0.388411</td>\n",
       "      <td>0.419536</td>\n",
       "      <td>0.412105</td>\n",
       "      <td>0.414419</td>\n",
       "      <td>0.388411</td>\n",
       "      <td>1.0</td>\n",
       "      <td>0.768802</td>\n",
       "    </tr>\n",
       "    <tr>\n",
       "      <th>6</th>\n",
       "      <td>lgl</td>\n",
       "      <td>0.155246</td>\n",
       "      <td>0.263085</td>\n",
       "      <td>0.155246</td>\n",
       "      <td>0.155246</td>\n",
       "      <td>0.155246</td>\n",
       "      <td>1.0</td>\n",
       "      <td>0.768802</td>\n",
       "    </tr>\n",
       "    <tr>\n",
       "      <th>7</th>\n",
       "      <td>mds</td>\n",
       "      <td>0.318269</td>\n",
       "      <td>0.285283</td>\n",
       "      <td>0.344498</td>\n",
       "      <td>0.346224</td>\n",
       "      <td>0.306615</td>\n",
       "      <td>1.0</td>\n",
       "      <td>0.768802</td>\n",
       "    </tr>\n",
       "  </tbody>\n",
       "</table>\n",
       "</div>"
      ],
      "text/plain": [
       "                 layout AgglomerativeClustering    OPTICS    KMeans       GMM  \\\n",
       "0          kamada_kawai                0.891023  0.772729  0.847727  0.908399   \n",
       "1                spring                0.861716  0.864134  0.853852  0.844365   \n",
       "2        davidson_harel                0.418279  0.390889  0.401667  0.404122   \n",
       "3                   drl                0.434576  0.431264   0.39274  0.397862   \n",
       "4  fruchterman_reingold                0.420916  0.421487  0.405858  0.405858   \n",
       "5              graphopt                0.388411  0.419536  0.412105  0.414419   \n",
       "6                   lgl                0.155246  0.263085  0.155246  0.155246   \n",
       "7                   mds                0.318269  0.285283  0.344498  0.346224   \n",
       "\n",
       "      Birch Girvan-Newman    Leiden  \n",
       "0  0.408637           1.0  0.768802  \n",
       "1  0.478996           1.0  0.768802  \n",
       "2  0.418279           1.0  0.768802  \n",
       "3  0.439027           1.0  0.768802  \n",
       "4  0.415448           1.0  0.768802  \n",
       "5  0.388411           1.0  0.768802  \n",
       "6  0.155246           1.0  0.768802  \n",
       "7  0.306615           1.0  0.768802  "
      ]
     },
     "execution_count": 17,
     "metadata": {},
     "output_type": "execute_result"
    }
   ],
   "source": [
    "steady_full_experiment(50, 5, .6, .01, k=5)"
   ]
  },
  {
   "cell_type": "code",
   "execution_count": 9,
   "metadata": {},
   "outputs": [
    {
     "name": "stderr",
     "output_type": "stream",
     "text": [
      "  File \"c:\\Users\\Kinga\\Anaconda3\\envs\\academic-weapon\\Lib\\site-packages\\joblib\\externals\\loky\\backend\\context.py\", line 257, in _count_physical_cores\n",
      "    cpu_info = subprocess.run(\n",
      "               ^^^^^^^^^^^^^^^\n",
      "  File \"c:\\Users\\Kinga\\Anaconda3\\envs\\academic-weapon\\Lib\\subprocess.py\", line 548, in run\n",
      "    with Popen(*popenargs, **kwargs) as process:\n",
      "         ^^^^^^^^^^^^^^^^^^^^^^^^^^^\n",
      "  File \"c:\\Users\\Kinga\\Anaconda3\\envs\\academic-weapon\\Lib\\subprocess.py\", line 1026, in __init__\n",
      "    self._execute_child(args, executable, preexec_fn, close_fds,\n",
      "  File \"c:\\Users\\Kinga\\Anaconda3\\envs\\academic-weapon\\Lib\\subprocess.py\", line 1538, in _execute_child\n",
      "    hp, ht, pid, tid = _winapi.CreateProcess(executable, args,\n",
      "                       ^^^^^^^^^^^^^^^^^^^^^^^^^^^^^^^^^^^^^^^\n"
     ]
    },
    {
     "data": {
      "text/plain": [
       "{'AgglomerativeClustering': 0.4313443998383866,\n",
       " 'OPTICS': 0.4313443998383866,\n",
       " 'KMeans': 0.4313443998383866,\n",
       " 'GMM': 0.4313443998383866,\n",
       " 'Birch': 0.4313443998383866,\n",
       " 'layout': 'graphopt'}"
      ]
     },
     "execution_count": 9,
     "metadata": {},
     "output_type": "execute_result"
    },
    {
     "data": {
      "text/plain": [
       "<Figure size 800x550 with 0 Axes>"
      ]
     },
     "metadata": {},
     "output_type": "display_data"
    }
   ],
   "source": [
    "calculate_scores_for_layout(G, true_labels, 'graphopt')"
   ]
  },
  {
   "cell_type": "code",
   "execution_count": 22,
   "metadata": {},
   "outputs": [
    {
     "name": "stdout",
     "output_type": "stream",
     "text": [
      "FULL CLUSTER EXPERIMENT\n",
      "50\n",
      "50\n",
      "50\n",
      "50\n",
      "50\n",
      "50\n",
      "50\n",
      "50\n",
      "50\n",
      "50\n",
      "50\n",
      "50\n",
      "50\n",
      "50\n",
      "50\n",
      "50\n",
      "50\n",
      "50\n",
      "50\n",
      "50\n",
      "50\n",
      "50\n",
      "50\n",
      "50\n",
      "50\n",
      "50\n",
      "50\n",
      "50\n",
      "50\n",
      "50\n",
      "50\n",
      "50\n",
      "50\n",
      "50\n",
      "50\n",
      "50\n",
      "50\n",
      "50\n",
      "50\n",
      "50\n",
      "                 layout  AgglomerativeClustering    OPTICS    KMeans  \\\n",
      "0          kamada_kawai                 0.439125  0.912140  0.447728   \n",
      "1                spring                 0.595808  1.000000  0.595808   \n",
      "2        davidson_harel                 0.638567  0.642253  0.638567   \n",
      "3                   drl                 0.690731  0.690731  0.690731   \n",
      "4  fruchterman_reingold                 0.239313  0.690731  0.323507   \n",
      "5              graphopt                 0.690731  0.656313  0.461077   \n",
      "6                   lgl                 0.021715  0.534945  0.021715   \n",
      "7                   mds                 0.239313  0.380711  0.203967   \n",
      "\n",
      "        GMM     Birch  \n",
      "0  0.597316  0.426438  \n",
      "1  0.555070  0.426438  \n",
      "2  0.638567  0.638567  \n",
      "3  0.690731  0.690731  \n",
      "4  0.323507  0.239313  \n",
      "5  0.424890  0.690731  \n",
      "6  0.021715  0.021715  \n",
      "7  0.188361  0.084372  \n"
     ]
    },
    {
     "data": {
      "text/html": [
       "<div>\n",
       "<style scoped>\n",
       "    .dataframe tbody tr th:only-of-type {\n",
       "        vertical-align: middle;\n",
       "    }\n",
       "\n",
       "    .dataframe tbody tr th {\n",
       "        vertical-align: top;\n",
       "    }\n",
       "\n",
       "    .dataframe thead th {\n",
       "        text-align: right;\n",
       "    }\n",
       "</style>\n",
       "<table border=\"1\" class=\"dataframe\">\n",
       "  <thead>\n",
       "    <tr style=\"text-align: right;\">\n",
       "      <th></th>\n",
       "      <th>layout</th>\n",
       "      <th>AgglomerativeClustering</th>\n",
       "      <th>OPTICS</th>\n",
       "      <th>KMeans</th>\n",
       "      <th>GMM</th>\n",
       "      <th>Birch</th>\n",
       "    </tr>\n",
       "  </thead>\n",
       "  <tbody>\n",
       "    <tr>\n",
       "      <th>0</th>\n",
       "      <td>kamada_kawai</td>\n",
       "      <td>0.439125</td>\n",
       "      <td>0.912140</td>\n",
       "      <td>0.447728</td>\n",
       "      <td>0.597316</td>\n",
       "      <td>0.426438</td>\n",
       "    </tr>\n",
       "    <tr>\n",
       "      <th>1</th>\n",
       "      <td>spring</td>\n",
       "      <td>0.595808</td>\n",
       "      <td>1.000000</td>\n",
       "      <td>0.595808</td>\n",
       "      <td>0.555070</td>\n",
       "      <td>0.426438</td>\n",
       "    </tr>\n",
       "    <tr>\n",
       "      <th>2</th>\n",
       "      <td>davidson_harel</td>\n",
       "      <td>0.638567</td>\n",
       "      <td>0.642253</td>\n",
       "      <td>0.638567</td>\n",
       "      <td>0.638567</td>\n",
       "      <td>0.638567</td>\n",
       "    </tr>\n",
       "    <tr>\n",
       "      <th>3</th>\n",
       "      <td>drl</td>\n",
       "      <td>0.690731</td>\n",
       "      <td>0.690731</td>\n",
       "      <td>0.690731</td>\n",
       "      <td>0.690731</td>\n",
       "      <td>0.690731</td>\n",
       "    </tr>\n",
       "    <tr>\n",
       "      <th>4</th>\n",
       "      <td>fruchterman_reingold</td>\n",
       "      <td>0.239313</td>\n",
       "      <td>0.690731</td>\n",
       "      <td>0.323507</td>\n",
       "      <td>0.323507</td>\n",
       "      <td>0.239313</td>\n",
       "    </tr>\n",
       "    <tr>\n",
       "      <th>5</th>\n",
       "      <td>graphopt</td>\n",
       "      <td>0.690731</td>\n",
       "      <td>0.656313</td>\n",
       "      <td>0.461077</td>\n",
       "      <td>0.424890</td>\n",
       "      <td>0.690731</td>\n",
       "    </tr>\n",
       "    <tr>\n",
       "      <th>6</th>\n",
       "      <td>lgl</td>\n",
       "      <td>0.021715</td>\n",
       "      <td>0.534945</td>\n",
       "      <td>0.021715</td>\n",
       "      <td>0.021715</td>\n",
       "      <td>0.021715</td>\n",
       "    </tr>\n",
       "    <tr>\n",
       "      <th>7</th>\n",
       "      <td>mds</td>\n",
       "      <td>0.239313</td>\n",
       "      <td>0.380711</td>\n",
       "      <td>0.203967</td>\n",
       "      <td>0.188361</td>\n",
       "      <td>0.084372</td>\n",
       "    </tr>\n",
       "  </tbody>\n",
       "</table>\n",
       "</div>"
      ],
      "text/plain": [
       "                 layout  AgglomerativeClustering    OPTICS    KMeans  \\\n",
       "0          kamada_kawai                 0.439125  0.912140  0.447728   \n",
       "1                spring                 0.595808  1.000000  0.595808   \n",
       "2        davidson_harel                 0.638567  0.642253  0.638567   \n",
       "3                   drl                 0.690731  0.690731  0.690731   \n",
       "4  fruchterman_reingold                 0.239313  0.690731  0.323507   \n",
       "5              graphopt                 0.690731  0.656313  0.461077   \n",
       "6                   lgl                 0.021715  0.534945  0.021715   \n",
       "7                   mds                 0.239313  0.380711  0.203967   \n",
       "\n",
       "        GMM     Birch  \n",
       "0  0.597316  0.426438  \n",
       "1  0.555070  0.426438  \n",
       "2  0.638567  0.638567  \n",
       "3  0.690731  0.690731  \n",
       "4  0.323507  0.239313  \n",
       "5  0.424890  0.690731  \n",
       "6  0.021715  0.021715  \n",
       "7  0.188361  0.084372  "
      ]
     },
     "execution_count": 22,
     "metadata": {},
     "output_type": "execute_result"
    }
   ],
   "source": [
    "full_cluster_experiment(G, true_labels)"
   ]
  },
  {
   "cell_type": "code",
   "execution_count": 6,
   "metadata": {},
   "outputs": [
    {
     "ename": "ValueError",
     "evalue": "Found input variables with inconsistent numbers of samples: [50, 27]",
     "output_type": "error",
     "traceback": [
      "\u001b[1;31m---------------------------------------------------------------------------\u001b[0m",
      "\u001b[1;31mValueError\u001b[0m                                Traceback (most recent call last)",
      "Cell \u001b[1;32mIn[6], line 1\u001b[0m\n\u001b[1;32m----> 1\u001b[0m df \u001b[38;5;241m=\u001b[39m\u001b[43msteady_full_experiment\u001b[49m\u001b[43m(\u001b[49m\u001b[38;5;241;43m50\u001b[39;49m\u001b[43m,\u001b[49m\u001b[43m \u001b[49m\u001b[38;5;241;43m5\u001b[39;49m\u001b[43m,\u001b[49m\u001b[43m \u001b[49m\u001b[38;5;241;43m0.05\u001b[39;49m\u001b[43m,\u001b[49m\u001b[43m \u001b[49m\u001b[38;5;241;43m0.01\u001b[39;49m\u001b[43m,\u001b[49m\u001b[43m \u001b[49m\u001b[43mk\u001b[49m\u001b[38;5;241;43m=\u001b[39;49m\u001b[38;5;241;43m5\u001b[39;49m\u001b[43m,\u001b[49m\u001b[43m \u001b[49m\u001b[43mi_want_boxplot\u001b[49m\u001b[38;5;241;43m=\u001b[39;49m\u001b[38;5;28;43;01mFalse\u001b[39;49;00m\u001b[43m,\u001b[49m\u001b[43m \u001b[49m\u001b[43mdispersion\u001b[49m\u001b[38;5;241;43m=\u001b[39;49m\u001b[38;5;241;43m.35\u001b[39;49m\u001b[43m)\u001b[49m\n",
      "File \u001b[1;32mc:\\Users\\Kinga\\Desktop\\MAGISTERKA\\Geometric-Properties-of-Graph-Visualization-Methods\\code\\clustering_script.py:270\u001b[0m, in \u001b[0;36msteady_full_experiment\u001b[1;34m(n_vertex, n_comms, inside_prob, outside_prob, k, i_want_boxplot, dispersion)\u001b[0m\n\u001b[0;32m    268\u001b[0m (G, true_labels) \u001b[38;5;241m=\u001b[39m generate_G_randomized(n_vertex, n_comms, inside_prob, outside_prob)\n\u001b[0;32m    269\u001b[0m asor \u001b[38;5;241m=\u001b[39m nx\u001b[38;5;241m.\u001b[39mnumeric_assortativity_coefficient(G, \u001b[38;5;124m\"\u001b[39m\u001b[38;5;124mcommunity\u001b[39m\u001b[38;5;124m\"\u001b[39m)\n\u001b[1;32m--> 270\u001b[0m df \u001b[38;5;241m=\u001b[39m \u001b[43mfull_cluster_experiment\u001b[49m\u001b[43m(\u001b[49m\u001b[43mG\u001b[49m\u001b[43m,\u001b[49m\u001b[43m \u001b[49m\u001b[43mtrue_labels\u001b[49m\u001b[43m)\u001b[49m\n\u001b[0;32m    271\u001b[0m \u001b[38;5;28mprint\u001b[39m(df)\n\u001b[0;32m    272\u001b[0m df\u001b[38;5;241m.\u001b[39miloc[:, \u001b[38;5;241m1\u001b[39m:] \u001b[38;5;241m=\u001b[39m df\u001b[38;5;241m.\u001b[39miloc[:, \u001b[38;5;241m1\u001b[39m:]\u001b[38;5;241m.\u001b[39mapplymap(\u001b[38;5;28;01mlambda\u001b[39;00m x: [x])\n",
      "File \u001b[1;32mc:\\Users\\Kinga\\Desktop\\MAGISTERKA\\Geometric-Properties-of-Graph-Visualization-Methods\\code\\clustering_script.py:241\u001b[0m, in \u001b[0;36mfull_cluster_experiment\u001b[1;34m(G, true_labels)\u001b[0m\n\u001b[0;32m    239\u001b[0m layout_names \u001b[38;5;241m=\u001b[39m [\u001b[38;5;124m'\u001b[39m\u001b[38;5;124mkamada_kawai\u001b[39m\u001b[38;5;124m'\u001b[39m, \u001b[38;5;124m'\u001b[39m\u001b[38;5;124mspring\u001b[39m\u001b[38;5;124m'\u001b[39m, \u001b[38;5;124m'\u001b[39m\u001b[38;5;124mdavidson_harel\u001b[39m\u001b[38;5;124m'\u001b[39m, \u001b[38;5;124m'\u001b[39m\u001b[38;5;124mdrl\u001b[39m\u001b[38;5;124m'\u001b[39m, \u001b[38;5;124m'\u001b[39m\u001b[38;5;124mfruchterman_reingold\u001b[39m\u001b[38;5;124m'\u001b[39m, \u001b[38;5;124m'\u001b[39m\u001b[38;5;124mgraphopt\u001b[39m\u001b[38;5;124m'\u001b[39m, \u001b[38;5;124m'\u001b[39m\u001b[38;5;124mlgl\u001b[39m\u001b[38;5;124m'\u001b[39m,\u001b[38;5;124m'\u001b[39m\u001b[38;5;124mmds\u001b[39m\u001b[38;5;124m'\u001b[39m]\n\u001b[0;32m    240\u001b[0m \u001b[38;5;28;01mfor\u001b[39;00m layout_name \u001b[38;5;129;01min\u001b[39;00m layout_names:\n\u001b[1;32m--> 241\u001b[0m     ari_scores \u001b[38;5;241m=\u001b[39m \u001b[43mcalculate_scores_for_layout\u001b[49m\u001b[43m(\u001b[49m\u001b[43mG\u001b[49m\u001b[43m,\u001b[49m\u001b[43m \u001b[49m\u001b[43mtrue_labels\u001b[49m\u001b[43m,\u001b[49m\u001b[43m \u001b[49m\u001b[43mlayout_name\u001b[49m\u001b[43m)\u001b[49m\n\u001b[0;32m    242\u001b[0m     df\u001b[38;5;241m.\u001b[39mloc[\u001b[38;5;28mlen\u001b[39m(df)] \u001b[38;5;241m=\u001b[39m ari_scores\n\u001b[0;32m    243\u001b[0m \u001b[38;5;28mprint\u001b[39m(df)\n",
      "File \u001b[1;32mc:\\Users\\Kinga\\Desktop\\MAGISTERKA\\Geometric-Properties-of-Graph-Visualization-Methods\\code\\clustering_script.py:223\u001b[0m, in \u001b[0;36mcalculate_scores_for_layout\u001b[1;34m(G, true_labels, layout_name)\u001b[0m\n\u001b[0;32m    221\u001b[0m best_num \u001b[38;5;241m=\u001b[39m best_number_of_clusters(G)\n\u001b[0;32m    222\u001b[0m \u001b[38;5;66;03m# best_num = find_best_num_clusters(posdf)\u001b[39;00m\n\u001b[1;32m--> 223\u001b[0m ari_scores \u001b[38;5;241m=\u001b[39m \u001b[43mget_clustering_scores_from_positions\u001b[49m\u001b[43m(\u001b[49m\u001b[43mposdf\u001b[49m\u001b[43m,\u001b[49m\u001b[43m \u001b[49m\u001b[43mbest_num\u001b[49m\u001b[43m,\u001b[49m\u001b[43m \u001b[49m\u001b[43mtrue_labels\u001b[49m\u001b[43m)\u001b[49m\n\u001b[0;32m    224\u001b[0m ari_scores[\u001b[38;5;124m'\u001b[39m\u001b[38;5;124mlayout\u001b[39m\u001b[38;5;124m'\u001b[39m] \u001b[38;5;241m=\u001b[39m layout_name\n\u001b[0;32m    226\u001b[0m \u001b[38;5;28;01mreturn\u001b[39;00m ari_scores\n",
      "File \u001b[1;32mc:\\Users\\Kinga\\Desktop\\MAGISTERKA\\Geometric-Properties-of-Graph-Visualization-Methods\\code\\clustering_script.py:50\u001b[0m, in \u001b[0;36mget_clustering_scores_from_positions\u001b[1;34m(posdf, best_num, true_labels)\u001b[0m\n\u001b[0;32m     47\u001b[0m yhat \u001b[38;5;241m=\u001b[39m \u001b[38;5;28mlist\u001b[39m(model\u001b[38;5;241m.\u001b[39mlabels_)\n\u001b[0;32m     48\u001b[0m \u001b[38;5;66;03m# scores[0] += adjusted_rand_score(true_labels, yhat)\u001b[39;00m\n\u001b[0;32m     49\u001b[0m \u001b[38;5;66;03m# ari_scores.append(adjusted_rand_score(true_labels, yhat))\u001b[39;00m\n\u001b[1;32m---> 50\u001b[0m ari_scores[\u001b[38;5;124m'\u001b[39m\u001b[38;5;124mAgglomerativeClustering\u001b[39m\u001b[38;5;124m'\u001b[39m] \u001b[38;5;241m=\u001b[39m \u001b[43madjusted_rand_score\u001b[49m\u001b[43m(\u001b[49m\u001b[43mtrue_labels\u001b[49m\u001b[43m,\u001b[49m\u001b[43m \u001b[49m\u001b[43myhat\u001b[49m\u001b[43m)\u001b[49m\n\u001b[0;32m     52\u001b[0m \u001b[38;5;66;03m#DBscan\u001b[39;00m\n\u001b[0;32m     53\u001b[0m model \u001b[38;5;241m=\u001b[39m OPTICS()\n",
      "File \u001b[1;32mc:\\Users\\Kinga\\Anaconda3\\envs\\academic-weapon\\Lib\\site-packages\\sklearn\\utils\\_param_validation.py:213\u001b[0m, in \u001b[0;36mvalidate_params.<locals>.decorator.<locals>.wrapper\u001b[1;34m(*args, **kwargs)\u001b[0m\n\u001b[0;32m    207\u001b[0m \u001b[38;5;28;01mtry\u001b[39;00m:\n\u001b[0;32m    208\u001b[0m     \u001b[38;5;28;01mwith\u001b[39;00m config_context(\n\u001b[0;32m    209\u001b[0m         skip_parameter_validation\u001b[38;5;241m=\u001b[39m(\n\u001b[0;32m    210\u001b[0m             prefer_skip_nested_validation \u001b[38;5;129;01mor\u001b[39;00m global_skip_validation\n\u001b[0;32m    211\u001b[0m         )\n\u001b[0;32m    212\u001b[0m     ):\n\u001b[1;32m--> 213\u001b[0m         \u001b[38;5;28;01mreturn\u001b[39;00m \u001b[43mfunc\u001b[49m\u001b[43m(\u001b[49m\u001b[38;5;241;43m*\u001b[39;49m\u001b[43margs\u001b[49m\u001b[43m,\u001b[49m\u001b[43m \u001b[49m\u001b[38;5;241;43m*\u001b[39;49m\u001b[38;5;241;43m*\u001b[39;49m\u001b[43mkwargs\u001b[49m\u001b[43m)\u001b[49m\n\u001b[0;32m    214\u001b[0m \u001b[38;5;28;01mexcept\u001b[39;00m InvalidParameterError \u001b[38;5;28;01mas\u001b[39;00m e:\n\u001b[0;32m    215\u001b[0m     \u001b[38;5;66;03m# When the function is just a wrapper around an estimator, we allow\u001b[39;00m\n\u001b[0;32m    216\u001b[0m     \u001b[38;5;66;03m# the function to delegate validation to the estimator, but we replace\u001b[39;00m\n\u001b[0;32m    217\u001b[0m     \u001b[38;5;66;03m# the name of the estimator by the name of the function in the error\u001b[39;00m\n\u001b[0;32m    218\u001b[0m     \u001b[38;5;66;03m# message to avoid confusion.\u001b[39;00m\n\u001b[0;32m    219\u001b[0m     msg \u001b[38;5;241m=\u001b[39m re\u001b[38;5;241m.\u001b[39msub(\n\u001b[0;32m    220\u001b[0m         \u001b[38;5;124mr\u001b[39m\u001b[38;5;124m\"\u001b[39m\u001b[38;5;124mparameter of \u001b[39m\u001b[38;5;124m\\\u001b[39m\u001b[38;5;124mw+ must be\u001b[39m\u001b[38;5;124m\"\u001b[39m,\n\u001b[0;32m    221\u001b[0m         \u001b[38;5;124mf\u001b[39m\u001b[38;5;124m\"\u001b[39m\u001b[38;5;124mparameter of \u001b[39m\u001b[38;5;132;01m{\u001b[39;00mfunc\u001b[38;5;241m.\u001b[39m\u001b[38;5;18m__qualname__\u001b[39m\u001b[38;5;132;01m}\u001b[39;00m\u001b[38;5;124m must be\u001b[39m\u001b[38;5;124m\"\u001b[39m,\n\u001b[0;32m    222\u001b[0m         \u001b[38;5;28mstr\u001b[39m(e),\n\u001b[0;32m    223\u001b[0m     )\n",
      "File \u001b[1;32mc:\\Users\\Kinga\\Anaconda3\\envs\\academic-weapon\\Lib\\site-packages\\sklearn\\metrics\\cluster\\_supervised.py:444\u001b[0m, in \u001b[0;36madjusted_rand_score\u001b[1;34m(labels_true, labels_pred)\u001b[0m\n\u001b[0;32m    346\u001b[0m \u001b[38;5;129m@validate_params\u001b[39m(\n\u001b[0;32m    347\u001b[0m     {\n\u001b[0;32m    348\u001b[0m         \u001b[38;5;124m\"\u001b[39m\u001b[38;5;124mlabels_true\u001b[39m\u001b[38;5;124m\"\u001b[39m: [\u001b[38;5;124m\"\u001b[39m\u001b[38;5;124marray-like\u001b[39m\u001b[38;5;124m\"\u001b[39m],\n\u001b[1;32m   (...)\u001b[0m\n\u001b[0;32m    352\u001b[0m )\n\u001b[0;32m    353\u001b[0m \u001b[38;5;28;01mdef\u001b[39;00m \u001b[38;5;21madjusted_rand_score\u001b[39m(labels_true, labels_pred):\n\u001b[0;32m    354\u001b[0m \u001b[38;5;250m    \u001b[39m\u001b[38;5;124;03m\"\"\"Rand index adjusted for chance.\u001b[39;00m\n\u001b[0;32m    355\u001b[0m \n\u001b[0;32m    356\u001b[0m \u001b[38;5;124;03m    The Rand Index computes a similarity measure between two clusterings\u001b[39;00m\n\u001b[1;32m   (...)\u001b[0m\n\u001b[0;32m    442\u001b[0m \u001b[38;5;124;03m      -0.5\u001b[39;00m\n\u001b[0;32m    443\u001b[0m \u001b[38;5;124;03m    \"\"\"\u001b[39;00m\n\u001b[1;32m--> 444\u001b[0m     (tn, fp), (fn, tp) \u001b[38;5;241m=\u001b[39m \u001b[43mpair_confusion_matrix\u001b[49m\u001b[43m(\u001b[49m\u001b[43mlabels_true\u001b[49m\u001b[43m,\u001b[49m\u001b[43m \u001b[49m\u001b[43mlabels_pred\u001b[49m\u001b[43m)\u001b[49m\n\u001b[0;32m    445\u001b[0m     \u001b[38;5;66;03m# convert to Python integer types, to avoid overflow or underflow\u001b[39;00m\n\u001b[0;32m    446\u001b[0m     tn, fp, fn, tp \u001b[38;5;241m=\u001b[39m \u001b[38;5;28mint\u001b[39m(tn), \u001b[38;5;28mint\u001b[39m(fp), \u001b[38;5;28mint\u001b[39m(fn), \u001b[38;5;28mint\u001b[39m(tp)\n",
      "File \u001b[1;32mc:\\Users\\Kinga\\Anaconda3\\envs\\academic-weapon\\Lib\\site-packages\\sklearn\\utils\\_param_validation.py:186\u001b[0m, in \u001b[0;36mvalidate_params.<locals>.decorator.<locals>.wrapper\u001b[1;34m(*args, **kwargs)\u001b[0m\n\u001b[0;32m    184\u001b[0m global_skip_validation \u001b[38;5;241m=\u001b[39m get_config()[\u001b[38;5;124m\"\u001b[39m\u001b[38;5;124mskip_parameter_validation\u001b[39m\u001b[38;5;124m\"\u001b[39m]\n\u001b[0;32m    185\u001b[0m \u001b[38;5;28;01mif\u001b[39;00m global_skip_validation:\n\u001b[1;32m--> 186\u001b[0m     \u001b[38;5;28;01mreturn\u001b[39;00m \u001b[43mfunc\u001b[49m\u001b[43m(\u001b[49m\u001b[38;5;241;43m*\u001b[39;49m\u001b[43margs\u001b[49m\u001b[43m,\u001b[49m\u001b[43m \u001b[49m\u001b[38;5;241;43m*\u001b[39;49m\u001b[38;5;241;43m*\u001b[39;49m\u001b[43mkwargs\u001b[49m\u001b[43m)\u001b[49m\n\u001b[0;32m    188\u001b[0m func_sig \u001b[38;5;241m=\u001b[39m signature(func)\n\u001b[0;32m    190\u001b[0m \u001b[38;5;66;03m# Map *args/**kwargs to the function signature\u001b[39;00m\n",
      "File \u001b[1;32mc:\\Users\\Kinga\\Anaconda3\\envs\\academic-weapon\\Lib\\site-packages\\sklearn\\metrics\\cluster\\_supervised.py:250\u001b[0m, in \u001b[0;36mpair_confusion_matrix\u001b[1;34m(labels_true, labels_pred)\u001b[0m\n\u001b[0;32m    183\u001b[0m \u001b[38;5;129m@validate_params\u001b[39m(\n\u001b[0;32m    184\u001b[0m     {\n\u001b[0;32m    185\u001b[0m         \u001b[38;5;124m\"\u001b[39m\u001b[38;5;124mlabels_true\u001b[39m\u001b[38;5;124m\"\u001b[39m: [\u001b[38;5;124m\"\u001b[39m\u001b[38;5;124marray-like\u001b[39m\u001b[38;5;124m\"\u001b[39m],\n\u001b[1;32m   (...)\u001b[0m\n\u001b[0;32m    189\u001b[0m )\n\u001b[0;32m    190\u001b[0m \u001b[38;5;28;01mdef\u001b[39;00m \u001b[38;5;21mpair_confusion_matrix\u001b[39m(labels_true, labels_pred):\n\u001b[0;32m    191\u001b[0m \u001b[38;5;250m    \u001b[39m\u001b[38;5;124;03m\"\"\"Pair confusion matrix arising from two clusterings.\u001b[39;00m\n\u001b[0;32m    192\u001b[0m \n\u001b[0;32m    193\u001b[0m \u001b[38;5;124;03m    The pair confusion matrix :math:`C` computes a 2 by 2 similarity matrix\u001b[39;00m\n\u001b[1;32m   (...)\u001b[0m\n\u001b[0;32m    248\u001b[0m \u001b[38;5;124;03m    Note that the matrix is not symmetric.\u001b[39;00m\n\u001b[0;32m    249\u001b[0m \u001b[38;5;124;03m    \"\"\"\u001b[39;00m\n\u001b[1;32m--> 250\u001b[0m     labels_true, labels_pred \u001b[38;5;241m=\u001b[39m \u001b[43mcheck_clusterings\u001b[49m\u001b[43m(\u001b[49m\u001b[43mlabels_true\u001b[49m\u001b[43m,\u001b[49m\u001b[43m \u001b[49m\u001b[43mlabels_pred\u001b[49m\u001b[43m)\u001b[49m\n\u001b[0;32m    251\u001b[0m     n_samples \u001b[38;5;241m=\u001b[39m np\u001b[38;5;241m.\u001b[39mint64(labels_true\u001b[38;5;241m.\u001b[39mshape[\u001b[38;5;241m0\u001b[39m])\n\u001b[0;32m    253\u001b[0m     \u001b[38;5;66;03m# Computation using the contingency data\u001b[39;00m\n",
      "File \u001b[1;32mc:\\Users\\Kinga\\Anaconda3\\envs\\academic-weapon\\Lib\\site-packages\\sklearn\\metrics\\cluster\\_supervised.py:73\u001b[0m, in \u001b[0;36mcheck_clusterings\u001b[1;34m(labels_true, labels_pred)\u001b[0m\n\u001b[0;32m     71\u001b[0m \u001b[38;5;28;01mif\u001b[39;00m labels_pred\u001b[38;5;241m.\u001b[39mndim \u001b[38;5;241m!=\u001b[39m \u001b[38;5;241m1\u001b[39m:\n\u001b[0;32m     72\u001b[0m     \u001b[38;5;28;01mraise\u001b[39;00m \u001b[38;5;167;01mValueError\u001b[39;00m(\u001b[38;5;124m\"\u001b[39m\u001b[38;5;124mlabels_pred must be 1D: shape is \u001b[39m\u001b[38;5;132;01m%r\u001b[39;00m\u001b[38;5;124m\"\u001b[39m \u001b[38;5;241m%\u001b[39m (labels_pred\u001b[38;5;241m.\u001b[39mshape,))\n\u001b[1;32m---> 73\u001b[0m \u001b[43mcheck_consistent_length\u001b[49m\u001b[43m(\u001b[49m\u001b[43mlabels_true\u001b[49m\u001b[43m,\u001b[49m\u001b[43m \u001b[49m\u001b[43mlabels_pred\u001b[49m\u001b[43m)\u001b[49m\n\u001b[0;32m     75\u001b[0m \u001b[38;5;28;01mreturn\u001b[39;00m labels_true, labels_pred\n",
      "File \u001b[1;32mc:\\Users\\Kinga\\Anaconda3\\envs\\academic-weapon\\Lib\\site-packages\\sklearn\\utils\\validation.py:457\u001b[0m, in \u001b[0;36mcheck_consistent_length\u001b[1;34m(*arrays)\u001b[0m\n\u001b[0;32m    455\u001b[0m uniques \u001b[38;5;241m=\u001b[39m np\u001b[38;5;241m.\u001b[39munique(lengths)\n\u001b[0;32m    456\u001b[0m \u001b[38;5;28;01mif\u001b[39;00m \u001b[38;5;28mlen\u001b[39m(uniques) \u001b[38;5;241m>\u001b[39m \u001b[38;5;241m1\u001b[39m:\n\u001b[1;32m--> 457\u001b[0m     \u001b[38;5;28;01mraise\u001b[39;00m \u001b[38;5;167;01mValueError\u001b[39;00m(\n\u001b[0;32m    458\u001b[0m         \u001b[38;5;124m\"\u001b[39m\u001b[38;5;124mFound input variables with inconsistent numbers of samples: \u001b[39m\u001b[38;5;132;01m%r\u001b[39;00m\u001b[38;5;124m\"\u001b[39m\n\u001b[0;32m    459\u001b[0m         \u001b[38;5;241m%\u001b[39m [\u001b[38;5;28mint\u001b[39m(l) \u001b[38;5;28;01mfor\u001b[39;00m l \u001b[38;5;129;01min\u001b[39;00m lengths]\n\u001b[0;32m    460\u001b[0m     )\n",
      "\u001b[1;31mValueError\u001b[0m: Found input variables with inconsistent numbers of samples: [50, 27]"
     ]
    }
   ],
   "source": [
    "df =steady_full_experiment(50, 5, 0.05, 0.01, k=5, i_want_boxplot=False, dispersion=.35)"
   ]
  },
  {
   "cell_type": "code",
   "execution_count": 4,
   "metadata": {},
   "outputs": [
    {
     "name": "stdout",
     "output_type": "stream",
     "text": [
      "kamada_kawai\n",
      "kamada_kawai\n"
     ]
    },
    {
     "name": "stderr",
     "output_type": "stream",
     "text": [
      "  File \"c:\\Users\\Kinga\\Anaconda3\\envs\\academic-weapon\\Lib\\site-packages\\joblib\\externals\\loky\\backend\\context.py\", line 257, in _count_physical_cores\n",
      "    cpu_info = subprocess.run(\n",
      "               ^^^^^^^^^^^^^^^\n",
      "  File \"c:\\Users\\Kinga\\Anaconda3\\envs\\academic-weapon\\Lib\\subprocess.py\", line 548, in run\n",
      "    with Popen(*popenargs, **kwargs) as process:\n",
      "         ^^^^^^^^^^^^^^^^^^^^^^^^^^^\n",
      "  File \"c:\\Users\\Kinga\\Anaconda3\\envs\\academic-weapon\\Lib\\subprocess.py\", line 1026, in __init__\n",
      "    self._execute_child(args, executable, preexec_fn, close_fds,\n",
      "  File \"c:\\Users\\Kinga\\Anaconda3\\envs\\academic-weapon\\Lib\\subprocess.py\", line 1538, in _execute_child\n",
      "    hp, ht, pid, tid = _winapi.CreateProcess(executable, args,\n",
      "                       ^^^^^^^^^^^^^^^^^^^^^^^^^^^^^^^^^^^^^^^\n"
     ]
    },
    {
     "name": "stdout",
     "output_type": "stream",
     "text": [
      "spring\n",
      "spring\n",
      "davidson_harel\n",
      "davidson_harel\n",
      "drl\n",
      "drl\n",
      "fruchterman_reingold\n",
      "fruchterman_reingold\n",
      "graphopt\n",
      "graphopt\n",
      "lgl\n",
      "lgl\n",
      "mds\n",
      "mds\n"
     ]
    },
    {
     "data": {
      "text/html": [
       "<div>\n",
       "<style scoped>\n",
       "    .dataframe tbody tr th:only-of-type {\n",
       "        vertical-align: middle;\n",
       "    }\n",
       "\n",
       "    .dataframe tbody tr th {\n",
       "        vertical-align: top;\n",
       "    }\n",
       "\n",
       "    .dataframe thead th {\n",
       "        text-align: right;\n",
       "    }\n",
       "</style>\n",
       "<table border=\"1\" class=\"dataframe\">\n",
       "  <thead>\n",
       "    <tr style=\"text-align: right;\">\n",
       "      <th></th>\n",
       "      <th>layout</th>\n",
       "      <th>AgglomerativeClustering</th>\n",
       "      <th>OPTICS</th>\n",
       "      <th>KMeans</th>\n",
       "      <th>GMM</th>\n",
       "      <th>Birch</th>\n",
       "    </tr>\n",
       "  </thead>\n",
       "  <tbody>\n",
       "    <tr>\n",
       "      <th>0</th>\n",
       "      <td>kamada_kawai</td>\n",
       "      <td>1.000000</td>\n",
       "      <td>0.956877</td>\n",
       "      <td>1.0000</td>\n",
       "      <td>1.0000</td>\n",
       "      <td>0.526144</td>\n",
       "    </tr>\n",
       "    <tr>\n",
       "      <th>1</th>\n",
       "      <td>spring</td>\n",
       "      <td>1.000000</td>\n",
       "      <td>1.000000</td>\n",
       "      <td>1.0000</td>\n",
       "      <td>1.0000</td>\n",
       "      <td>0.380871</td>\n",
       "    </tr>\n",
       "    <tr>\n",
       "      <th>2</th>\n",
       "      <td>davidson_harel</td>\n",
       "      <td>1.000000</td>\n",
       "      <td>0.853596</td>\n",
       "      <td>1.0000</td>\n",
       "      <td>1.0000</td>\n",
       "      <td>1.000000</td>\n",
       "    </tr>\n",
       "    <tr>\n",
       "      <th>3</th>\n",
       "      <td>drl</td>\n",
       "      <td>1.000000</td>\n",
       "      <td>1.000000</td>\n",
       "      <td>1.0000</td>\n",
       "      <td>1.0000</td>\n",
       "      <td>1.000000</td>\n",
       "    </tr>\n",
       "    <tr>\n",
       "      <th>4</th>\n",
       "      <td>fruchterman_reingold</td>\n",
       "      <td>1.000000</td>\n",
       "      <td>0.800738</td>\n",
       "      <td>1.0000</td>\n",
       "      <td>1.0000</td>\n",
       "      <td>1.000000</td>\n",
       "    </tr>\n",
       "    <tr>\n",
       "      <th>5</th>\n",
       "      <td>graphopt</td>\n",
       "      <td>1.000000</td>\n",
       "      <td>0.889583</td>\n",
       "      <td>1.0000</td>\n",
       "      <td>1.0000</td>\n",
       "      <td>1.000000</td>\n",
       "    </tr>\n",
       "    <tr>\n",
       "      <th>6</th>\n",
       "      <td>lgl</td>\n",
       "      <td>0.104808</td>\n",
       "      <td>0.274910</td>\n",
       "      <td>0.0333</td>\n",
       "      <td>0.0333</td>\n",
       "      <td>0.104808</td>\n",
       "    </tr>\n",
       "    <tr>\n",
       "      <th>7</th>\n",
       "      <td>mds</td>\n",
       "      <td>1.000000</td>\n",
       "      <td>0.923633</td>\n",
       "      <td>1.0000</td>\n",
       "      <td>1.0000</td>\n",
       "      <td>1.000000</td>\n",
       "    </tr>\n",
       "  </tbody>\n",
       "</table>\n",
       "</div>"
      ],
      "text/plain": [
       "                 layout  AgglomerativeClustering    OPTICS  KMeans     GMM  \\\n",
       "0          kamada_kawai                 1.000000  0.956877  1.0000  1.0000   \n",
       "1                spring                 1.000000  1.000000  1.0000  1.0000   \n",
       "2        davidson_harel                 1.000000  0.853596  1.0000  1.0000   \n",
       "3                   drl                 1.000000  1.000000  1.0000  1.0000   \n",
       "4  fruchterman_reingold                 1.000000  0.800738  1.0000  1.0000   \n",
       "5              graphopt                 1.000000  0.889583  1.0000  1.0000   \n",
       "6                   lgl                 0.104808  0.274910  0.0333  0.0333   \n",
       "7                   mds                 1.000000  0.923633  1.0000  1.0000   \n",
       "\n",
       "      Birch  \n",
       "0  0.526144  \n",
       "1  0.380871  \n",
       "2  1.000000  \n",
       "3  1.000000  \n",
       "4  1.000000  \n",
       "5  1.000000  \n",
       "6  0.104808  \n",
       "7  1.000000  "
      ]
     },
     "execution_count": 4,
     "metadata": {},
     "output_type": "execute_result"
    },
    {
     "data": {
      "text/plain": [
       "<Figure size 800x550 with 0 Axes>"
      ]
     },
     "metadata": {},
     "output_type": "display_data"
    }
   ],
   "source": [
    "clus = full_cluster_experiment(G, true_labels)\n",
    "clus"
   ]
  },
  {
   "cell_type": "code",
   "execution_count": 20,
   "metadata": {},
   "outputs": [
    {
     "data": {
      "image/png": "[encoded data removed]",
      "text/plain": [
       "<Figure size 720x576 with 1 Axes>"
      ]
     },
     "metadata": {
      "needs_background": "light"
     },
     "output_type": "display_data"
    }
   ],
   "source": [
    "# Set the value for the horizontal line\n",
    "(G, true_labels) = generate_G_randomized(30, 3, .8, .02)\n",
    "clus = full_cluster_experiment(G, true_labels, silhuoette=False)\n",
    "\n",
    "plt.figure(figsize=(10, 8))\n",
    "set_value = 3\n",
    "plt.scatter(clus.columns, clus.iloc[0], s=100)\n",
    "plt.axhline(y=set_value, color='red', linestyle='--')\n",
    "plt.xlabel('Graph visualization algorithm')\n",
    "plt.xticks(rotation=45, ha='right')\n",
    "plt.yticks(range(0, int(clus.values.max())+1))\n",
    "\n",
    "plt.ylabel('Number of detected communities')\n",
    "plt.title('Detected Number of clusters')\n",
    "\n",
    "plt.show()"
   ]
  },
  {
   "cell_type": "code",
   "execution_count": 22,
   "metadata": {},
   "outputs": [
    {
     "name": "stdout",
     "output_type": "stream",
     "text": [
      "   kamada_kawai  spring  davidson_harel  drl  fruchterman_reingold  graphopt  \\\n",
      "0             3     NaN             NaN  NaN                   NaN       NaN   \n",
      "\n",
      "   lgl  mds  \n",
      "0  NaN  NaN  \n"
     ]
    },
    {
     "data": {
      "image/png": "[encoded data removed]",
      "text/plain": [
       "<Figure size 720x576 with 1 Axes>"
      ]
     },
     "metadata": {
      "needs_background": "light"
     },
     "output_type": "display_data"
    }
   ],
   "source": [
    "# Set the value for the horizontal line\n",
    "(G, true_labels) = generate_G_randomized(60, 6, .8, .02, 5)\n",
    "clus = full_cluster_experiment(G, true_labels, silhuoette=False)\n",
    "\n",
    "plt.figure(figsize=(10, 8))\n",
    "set_value = 6\n",
    "plt.scatter(clus.columns, clus.iloc[0], s=100)\n",
    "plt.axhline(y=set_value, color='red', linestyle='--')\n",
    "plt.xlabel('Graph visualization algorithm')\n",
    "plt.xticks(rotation=45, ha='right')\n",
    "plt.yticks(range(0, int(clus.values.max())+1))\n",
    "\n",
    "plt.ylabel('Number of detected communities')\n",
    "plt.title('Detected Number of clusters')\n",
    "\n",
    "plt.show()"
   ]
  },
  {
   "cell_type": "code",
   "execution_count": 23,
   "metadata": {},
   "outputs": [
    {
     "name": "stdout",
     "output_type": "stream",
     "text": [
      "   kamada_kawai  spring  davidson_harel  drl  fruchterman_reingold  graphopt  \\\n",
      "0             1     NaN             NaN  NaN                   NaN       NaN   \n",
      "\n",
      "   lgl  mds  \n",
      "0  NaN  NaN  \n"
     ]
    },
    {
     "data": {
      "image/png": "[encoded data removed]",
      "text/plain": [
       "<Figure size 720x576 with 1 Axes>"
      ]
     },
     "metadata": {
      "needs_background": "light"
     },
     "output_type": "display_data"
    }
   ],
   "source": [
    "# Set the value for the horizontal line\n",
    "(G, true_labels) = generate_G_randomized(50, 4, .6, .08, 5)\n",
    "clus = full_cluster_experiment(G, true_labels, silhuoette=False)\n",
    "\n",
    "plt.figure(figsize=(10, 8))\n",
    "set_value = 4\n",
    "plt.scatter(clus.columns, clus.iloc[0], s=100)\n",
    "plt.axhline(y=set_value, color='red', linestyle='--')\n",
    "plt.xlabel('Graph visualization algorithm')\n",
    "plt.xticks(rotation=45, ha='right')\n",
    "plt.yticks(range(0, int(clus.values.max())+1))\n",
    "\n",
    "plt.ylabel('Number of detected communities')\n",
    "plt.title('Detected Number of clusters')\n",
    "\n",
    "plt.show()"
   ]
  },
  {
   "cell_type": "code",
   "execution_count": 25,
   "metadata": {},
   "outputs": [
    {
     "name": "stdout",
     "output_type": "stream",
     "text": [
      "   kamada_kawai  spring  davidson_harel  drl  fruchterman_reingold  graphopt  \\\n",
      "0             1     NaN             NaN  NaN                   NaN       NaN   \n",
      "\n",
      "   lgl  mds  \n",
      "0  NaN  NaN  \n"
     ]
    },
    {
     "data": {
      "image/png": "[encoded data removed]",
      "text/plain": [
       "<Figure size 720x576 with 1 Axes>"
      ]
     },
     "metadata": {
      "needs_background": "light"
     },
     "output_type": "display_data"
    }
   ],
   "source": [
    "# Set the value for the horizontal line\n",
    "(G, true_labels) = generate_G_randomized(200, 10, .7, .02)\n",
    "clus = full_cluster_experiment(G, true_labels, silhuoette=False)\n",
    "\n",
    "plt.figure(figsize=(10, 8))\n",
    "set_value = 10\n",
    "plt.scatter(clus.columns, clus.iloc[0], s=100)\n",
    "plt.axhline(y=set_value, color='red', linestyle='--')\n",
    "plt.xlabel('Graph visualization algorithm')\n",
    "plt.xticks(rotation=45, ha='right')\n",
    "plt.yticks(range(0, 11))\n",
    "\n",
    "plt.ylabel('Number of detected communities')\n",
    "plt.title('Detected Number of clusters')\n",
    "\n",
    "plt.show()"
   ]
  },
  {
   "cell_type": "code",
   "execution_count": null,
   "metadata": {},
   "outputs": [],
   "source": []
  },
  {
   "cell_type": "code",
   "execution_count": null,
   "metadata": {},
   "outputs": [],
   "source": []
  }
 ],
 "metadata": {
  "kernelspec": {
   "display_name": "Python 3",
   "language": "python",
   "name": "python3"
  },
  "language_info": {
   "codemirror_mode": {
    "name": "ipython",
    "version": 3
   },
   "file_extension": ".py",
   "mimetype": "text/x-python",
   "name": "python",
   "nbconvert_exporter": "python",
   "pygments_lexer": "ipython3",
   "version": "3.12.5"
  },
  "orig_nbformat": 4
 },
 "nbformat": 4,
 "nbformat_minor": 2
}
