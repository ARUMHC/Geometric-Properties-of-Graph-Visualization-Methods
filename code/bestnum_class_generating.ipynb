{
 "cells": [
  {
   "cell_type": "code",
   "execution_count": 2,
   "metadata": {},
   "outputs": [],
   "source": [
    "from clustering_script import *\n",
    "from graph_generating_script import *\n",
    "from choosing_best_num_algorithms import *"
   ]
  },
  {
   "cell_type": "code",
   "execution_count": 3,
   "metadata": {},
   "outputs": [],
   "source": [
    "from tqdm import tqdm \n",
    "\n",
    "class BestNumExperiment():\n",
    "    def __init__(self, graph_params:pd.DataFrame):\n",
    "        self.graph_params = graph_params\n",
    "        self.graph_posdfs = {}\n",
    "\n",
    "    def calculate_posdfs(self, from_file=None):\n",
    "        if from_file==None:\n",
    "            for _, row in tqdm(self.graph_params.iterrows(), total=self.graph_params.shape[0]):\n",
    "                print(row['graph_id'])\n",
    "                (G, true_labels) = generate_G_randomized(int(row['size']), int(row['no_comms']), row['inside_prob'], row['outside_prob'])\n",
    "                self.graph_posdfs[row['graph_id']] = {}\n",
    "                assor = nx.numeric_assortativity_coefficient(G, \"community\")\n",
    "                self.graph_posdfs[row['graph_id']]['assortativity'] = assor\n",
    "                layout_names = ['kamada_kawai', 'spring', 'davidson_harel', 'drl', 'fruchterman_reingold', 'graphopt', 'lgl','mds']\n",
    "                for layout_name in layout_names:\n",
    "                    posdf = posdf_from_layout(G, layout_name)\n",
    "                    \n",
    "                    # Store the posdf DataFrame in the nested dictionary\n",
    "                    self.graph_posdfs[row['graph_id']][layout_name] = posdf\n",
    "        else:\n",
    "            self.graph_posdfs\n",
    "    \n",
    "\n",
    "    def make_experiment(self, best_num_algo_name):\n",
    "        #iterating through all the graphs\n",
    "        results = pd.DataFrame(columns=['graph_id', 'assortativity', 'layout_name', 'no_communities', 'calculated_bestnum'])\n",
    "        for _, row in tqdm(self.graph_params.iterrows(), total=self.graph_params.shape[0]):\n",
    "        # for _, row in self.graph_params.iterrows():\n",
    "            # (G, true_labels) = generate_G_randomized(int(row['size']), int(row['no_comms']), row['inside_prob'], row['outside_prob'])\n",
    "            # assor = nx.numeric_assortativity_coefficient(G, \"community\")\n",
    "            layout_names = ['kamada_kawai', 'spring', 'davidson_harel', 'drl', 'fruchterman_reingold', 'graphopt', 'lgl','mds']\n",
    "            for layout_name in layout_names:\n",
    "                # posdf = posdf_from_layout(G, layout_name)\n",
    "                posdf = self.graph_posdfs[row['graph_id']][layout_name]\n",
    "                if best_num_algo_name == 'gap_statistic':\n",
    "                    (best_num, _) = gap_statistic_best_num(posdf)\n",
    "                elif best_num_algo_name == 'elbow_method':\n",
    "                    (best_num, _) = elbow_method_best_num(posdf)\n",
    "                elif best_num_algo_name == 'silhouette':\n",
    "                    (best_num, _) = silhouette_best_num(posdf)\n",
    "                elif best_num_algo_name == 'calinski_harabasz':\n",
    "                    (best_num, _) = calinski_harabasz_best_num(posdf)\n",
    "                elif best_num_algo_name == '50_mix_ch_elbow':\n",
    "                    best_num = mix_ch_elbow(posdf, .5, .5)\n",
    "                elif best_num_algo_name == '75_mix_ch_elbow':\n",
    "                    best_num = mix_ch_elbow(posdf, .75, .25)\n",
    "                elif best_num_algo_name == 'BIC':\n",
    "                    (best_num, _) = BIC_best_num(posdf)\n",
    "                else:\n",
    "                    raise ValueError('Incorrect algorith name, probably a typo')\n",
    "\n",
    "                new_row = {'graph_id':[int(row['graph_id'])], \n",
    "                           'assortativity': [self.graph_posdfs[row['graph_id']]['assortativity']], \n",
    "                           'size' : [int(row['size'])],\n",
    "                           'layout_name': [layout_name], \n",
    "                           'no_communities': [int(row['no_comms'])],\n",
    "                            'calculated_bestnum':[int(best_num)]}\n",
    "                # print(new_row)\n",
    "                results = pd.concat([results, pd.DataFrame(new_row)])\n",
    "                \n",
    "        if best_num_algo_name == 'gap_statistic':\n",
    "            self.gap= results\n",
    "        elif best_num_algo_name == 'elbow_method':\n",
    "            self.elbow = results\n",
    "        elif best_num_algo_name == 'silhouette':\n",
    "            self.silhouette = results\n",
    "        elif best_num_algo_name == 'calinski_harabasz':\n",
    "            self.ch = results\n",
    "        elif best_num_algo_name == '50_mix_ch_elbow':\n",
    "            self.mix_ch_elbow_50 = results\n",
    "        elif best_num_algo_name == '75_mix_ch_elbow':\n",
    "            self.mix_ch_elbow_75 = results\n",
    "        elif best_num_algo_name == 'BIC':\n",
    "            self.bic = results\n"
   ]
  },
  {
   "cell_type": "markdown",
   "metadata": {},
   "source": [
    "# 50 nodes"
   ]
  },
  {
   "cell_type": "code",
   "execution_count": 5,
   "metadata": {},
   "outputs": [
    {
     "name": "stderr",
     "output_type": "stream",
     "text": [
      "  0%|          | 0/33 [00:00<?, ?it/s]"
     ]
    },
    {
     "name": "stdout",
     "output_type": "stream",
     "text": [
      "0.0\n"
     ]
    },
    {
     "name": "stderr",
     "output_type": "stream",
     "text": [
      "  3%|▎         | 1/33 [00:10<05:32, 10.38s/it]"
     ]
    },
    {
     "name": "stdout",
     "output_type": "stream",
     "text": [
      "1.0\n"
     ]
    },
    {
     "name": "stderr",
     "output_type": "stream",
     "text": [
      "  6%|▌         | 2/33 [00:22<05:46, 11.19s/it]"
     ]
    },
    {
     "name": "stdout",
     "output_type": "stream",
     "text": [
      "2.0\n"
     ]
    },
    {
     "name": "stderr",
     "output_type": "stream",
     "text": [
      "  9%|▉         | 3/33 [00:31<05:16, 10.56s/it]"
     ]
    },
    {
     "name": "stdout",
     "output_type": "stream",
     "text": [
      "3.0\n"
     ]
    },
    {
     "name": "stderr",
     "output_type": "stream",
     "text": [
      " 12%|█▏        | 4/33 [00:41<04:49, 10.00s/it]"
     ]
    },
    {
     "name": "stdout",
     "output_type": "stream",
     "text": [
      "4.0\n"
     ]
    },
    {
     "name": "stderr",
     "output_type": "stream",
     "text": [
      " 15%|█▌        | 5/33 [00:49<04:21,  9.34s/it]"
     ]
    },
    {
     "name": "stdout",
     "output_type": "stream",
     "text": [
      "5.0\n"
     ]
    },
    {
     "name": "stderr",
     "output_type": "stream",
     "text": [
      " 18%|█▊        | 6/33 [00:54<03:35,  7.99s/it]"
     ]
    },
    {
     "name": "stdout",
     "output_type": "stream",
     "text": [
      "6.0\n"
     ]
    },
    {
     "name": "stderr",
     "output_type": "stream",
     "text": [
      " 21%|██        | 7/33 [00:59<02:57,  6.83s/it]"
     ]
    },
    {
     "name": "stdout",
     "output_type": "stream",
     "text": [
      "7.0\n"
     ]
    },
    {
     "name": "stderr",
     "output_type": "stream",
     "text": [
      " 24%|██▍       | 8/33 [01:05<02:49,  6.77s/it]"
     ]
    },
    {
     "name": "stdout",
     "output_type": "stream",
     "text": [
      "8.0\n"
     ]
    },
    {
     "name": "stderr",
     "output_type": "stream",
     "text": [
      " 27%|██▋       | 9/33 [01:10<02:30,  6.26s/it]"
     ]
    },
    {
     "name": "stdout",
     "output_type": "stream",
     "text": [
      "9.0\n"
     ]
    },
    {
     "name": "stderr",
     "output_type": "stream",
     "text": [
      " 30%|███       | 10/33 [01:15<02:11,  5.70s/it]"
     ]
    },
    {
     "name": "stdout",
     "output_type": "stream",
     "text": [
      "10.0\n"
     ]
    },
    {
     "name": "stderr",
     "output_type": "stream",
     "text": [
      " 33%|███▎      | 11/33 [01:19<01:55,  5.26s/it]"
     ]
    },
    {
     "name": "stdout",
     "output_type": "stream",
     "text": [
      "11.0\n"
     ]
    },
    {
     "name": "stderr",
     "output_type": "stream",
     "text": [
      " 36%|███▋      | 12/33 [01:23<01:39,  4.72s/it]"
     ]
    },
    {
     "name": "stdout",
     "output_type": "stream",
     "text": [
      "12.0\n"
     ]
    },
    {
     "name": "stderr",
     "output_type": "stream",
     "text": [
      " 39%|███▉      | 13/33 [01:27<01:33,  4.66s/it]"
     ]
    },
    {
     "name": "stdout",
     "output_type": "stream",
     "text": [
      "13.0\n"
     ]
    },
    {
     "name": "stderr",
     "output_type": "stream",
     "text": [
      " 42%|████▏     | 14/33 [01:31<01:24,  4.44s/it]"
     ]
    },
    {
     "name": "stdout",
     "output_type": "stream",
     "text": [
      "14.0\n"
     ]
    },
    {
     "name": "stderr",
     "output_type": "stream",
     "text": [
      " 45%|████▌     | 15/33 [01:35<01:19,  4.44s/it]"
     ]
    },
    {
     "name": "stdout",
     "output_type": "stream",
     "text": [
      "15.0\n"
     ]
    },
    {
     "name": "stderr",
     "output_type": "stream",
     "text": [
      " 48%|████▊     | 16/33 [01:41<01:22,  4.86s/it]"
     ]
    },
    {
     "name": "stdout",
     "output_type": "stream",
     "text": [
      "16.0\n"
     ]
    },
    {
     "name": "stderr",
     "output_type": "stream",
     "text": [
      " 52%|█████▏    | 17/33 [01:46<01:15,  4.74s/it]"
     ]
    },
    {
     "name": "stdout",
     "output_type": "stream",
     "text": [
      "17.0\n"
     ]
    },
    {
     "name": "stderr",
     "output_type": "stream",
     "text": [
      " 55%|█████▍    | 18/33 [01:49<01:04,  4.31s/it]"
     ]
    },
    {
     "name": "stdout",
     "output_type": "stream",
     "text": [
      "18.0\n"
     ]
    },
    {
     "name": "stderr",
     "output_type": "stream",
     "text": [
      " 58%|█████▊    | 19/33 [01:52<00:55,  3.98s/it]"
     ]
    },
    {
     "name": "stdout",
     "output_type": "stream",
     "text": [
      "19.0\n"
     ]
    },
    {
     "name": "stderr",
     "output_type": "stream",
     "text": [
      " 61%|██████    | 20/33 [01:55<00:45,  3.47s/it]"
     ]
    },
    {
     "name": "stdout",
     "output_type": "stream",
     "text": [
      "20.0\n"
     ]
    },
    {
     "name": "stderr",
     "output_type": "stream",
     "text": [
      " 64%|██████▎   | 21/33 [01:56<00:34,  2.91s/it]"
     ]
    },
    {
     "name": "stdout",
     "output_type": "stream",
     "text": [
      "21.0\n"
     ]
    },
    {
     "name": "stderr",
     "output_type": "stream",
     "text": [
      " 67%|██████▋   | 22/33 [01:58<00:27,  2.47s/it]"
     ]
    },
    {
     "name": "stdout",
     "output_type": "stream",
     "text": [
      "22.0\n"
     ]
    },
    {
     "name": "stderr",
     "output_type": "stream",
     "text": [
      " 70%|██████▉   | 23/33 [02:00<00:23,  2.33s/it]"
     ]
    },
    {
     "name": "stdout",
     "output_type": "stream",
     "text": [
      "23.0\n"
     ]
    },
    {
     "name": "stderr",
     "output_type": "stream",
     "text": [
      " 73%|███████▎  | 24/33 [02:02<00:20,  2.23s/it]"
     ]
    },
    {
     "name": "stdout",
     "output_type": "stream",
     "text": [
      "24.0\n"
     ]
    },
    {
     "name": "stderr",
     "output_type": "stream",
     "text": [
      " 76%|███████▌  | 25/33 [02:04<00:18,  2.30s/it]"
     ]
    },
    {
     "name": "stdout",
     "output_type": "stream",
     "text": [
      "25.0\n"
     ]
    },
    {
     "name": "stderr",
     "output_type": "stream",
     "text": [
      " 79%|███████▉  | 26/33 [02:08<00:19,  2.73s/it]"
     ]
    },
    {
     "name": "stdout",
     "output_type": "stream",
     "text": [
      "26.0\n"
     ]
    },
    {
     "name": "stderr",
     "output_type": "stream",
     "text": [
      " 82%|████████▏ | 27/33 [02:10<00:15,  2.63s/it]"
     ]
    },
    {
     "name": "stdout",
     "output_type": "stream",
     "text": [
      "27.0\n"
     ]
    },
    {
     "name": "stderr",
     "output_type": "stream",
     "text": [
      " 85%|████████▍ | 28/33 [02:12<00:12,  2.42s/it]"
     ]
    },
    {
     "name": "stdout",
     "output_type": "stream",
     "text": [
      "28.0\n"
     ]
    },
    {
     "name": "stderr",
     "output_type": "stream",
     "text": [
      " 88%|████████▊ | 29/33 [02:15<00:09,  2.43s/it]"
     ]
    },
    {
     "name": "stdout",
     "output_type": "stream",
     "text": [
      "29.0\n"
     ]
    },
    {
     "name": "stderr",
     "output_type": "stream",
     "text": [
      " 91%|█████████ | 30/33 [02:17<00:06,  2.29s/it]"
     ]
    },
    {
     "name": "stdout",
     "output_type": "stream",
     "text": [
      "30.0\n"
     ]
    },
    {
     "name": "stderr",
     "output_type": "stream",
     "text": [
      " 94%|█████████▍| 31/33 [02:18<00:04,  2.14s/it]"
     ]
    },
    {
     "name": "stdout",
     "output_type": "stream",
     "text": [
      "31.0\n"
     ]
    },
    {
     "name": "stderr",
     "output_type": "stream",
     "text": [
      " 97%|█████████▋| 32/33 [02:20<00:01,  1.95s/it]"
     ]
    },
    {
     "name": "stdout",
     "output_type": "stream",
     "text": [
      "32.0\n"
     ]
    },
    {
     "name": "stderr",
     "output_type": "stream",
     "text": [
      "100%|██████████| 33/33 [02:22<00:00,  4.32s/it]\n"
     ]
    }
   ],
   "source": [
    "\n",
    "graph_params = pd.read_excel(r'params\\50_graph_params.xlsx')\n",
    "\n",
    "ex1 = BestNumExperiment(graph_params)\n",
    "ex1.calculate_posdfs()\n"
   ]
  },
  {
   "cell_type": "code",
   "execution_count": 6,
   "metadata": {},
   "outputs": [
    {
     "name": "stderr",
     "output_type": "stream",
     "text": [
      "  0%|          | 0/33 [00:00<?, ?it/s]  File \"c:\\Users\\Kinga\\Anaconda3\\envs\\academic-weapon\\Lib\\site-packages\\joblib\\externals\\loky\\backend\\context.py\", line 257, in _count_physical_cores\n",
      "    cpu_info = subprocess.run(\n",
      "               ^^^^^^^^^^^^^^^\n",
      "  File \"c:\\Users\\Kinga\\Anaconda3\\envs\\academic-weapon\\Lib\\subprocess.py\", line 548, in run\n",
      "    with Popen(*popenargs, **kwargs) as process:\n",
      "         ^^^^^^^^^^^^^^^^^^^^^^^^^^^\n",
      "  File \"c:\\Users\\Kinga\\Anaconda3\\envs\\academic-weapon\\Lib\\subprocess.py\", line 1026, in __init__\n",
      "    self._execute_child(args, executable, preexec_fn, close_fds,\n",
      "  File \"c:\\Users\\Kinga\\Anaconda3\\envs\\academic-weapon\\Lib\\subprocess.py\", line 1538, in _execute_child\n",
      "    hp, ht, pid, tid = _winapi.CreateProcess(executable, args,\n",
      "                       ^^^^^^^^^^^^^^^^^^^^^^^^^^^^^^^^^^^^^^^\n",
      "100%|██████████| 33/33 [02:21<00:00,  4.30s/it]\n",
      "100%|██████████| 33/33 [01:50<00:00,  3.36s/it]\n",
      "100%|██████████| 33/33 [01:15<00:00,  2.28s/it]\n",
      "100%|██████████| 33/33 [01:12<00:00,  2.19s/it]\n",
      "100%|██████████| 33/33 [02:51<00:00,  5.20s/it]\n",
      "100%|██████████| 33/33 [03:18<00:00,  6.01s/it]\n"
     ]
    },
    {
     "data": {
      "text/plain": [
       "<Figure size 800x550 with 0 Axes>"
      ]
     },
     "metadata": {},
     "output_type": "display_data"
    }
   ],
   "source": [
    "import warnings\n",
    "warnings.filterwarnings('ignore')\n",
    "\n",
    "\n",
    "ex1.make_experiment('gap_statistic')\n",
    "ex1.gap.to_excel(r'data\\50_gap_results.xlsx', index=False)\n",
    "ex1.make_experiment('elbow_method')\n",
    "ex1.elbow.to_excel(r'data\\50_elbow_results.xlsx', index=False)\n",
    "ex1.make_experiment('silhouette')\n",
    "ex1.silhouette.to_excel(r'data\\50_silhouette_results.xlsx', index=False)\n",
    "ex1.make_experiment('calinski_harabasz')\n",
    "ex1.ch.to_excel(r'data\\50_ch_results.xlsx', index=False)\n",
    "ex1.make_experiment('50_mix_ch_elbow')\n",
    "ex1.mix_ch_elbow_50.to_excel(r'data\\50_50_mix_ch_elbow.xlsx', index=False)\n",
    "ex1.make_experiment('75_mix_ch_elbow')\n",
    "ex1.mix_ch_elbow_75.to_excel(r'data\\50_75_mix_ch_elbow.xlsx', index=False)"
   ]
  },
  {
   "cell_type": "code",
   "execution_count": 7,
   "metadata": {},
   "outputs": [
    {
     "name": "stderr",
     "output_type": "stream",
     "text": [
      "  0%|          | 0/29 [00:00<?, ?it/s]"
     ]
    },
    {
     "name": "stdout",
     "output_type": "stream",
     "text": [
      "0.0\n"
     ]
    },
    {
     "name": "stderr",
     "output_type": "stream",
     "text": [
      "  3%|▎         | 1/29 [00:30<14:15, 30.57s/it]"
     ]
    },
    {
     "name": "stdout",
     "output_type": "stream",
     "text": [
      "1.0\n"
     ]
    },
    {
     "name": "stderr",
     "output_type": "stream",
     "text": [
      "  7%|▋         | 2/29 [00:47<10:11, 22.63s/it]"
     ]
    },
    {
     "name": "stdout",
     "output_type": "stream",
     "text": [
      "2.0\n"
     ]
    },
    {
     "name": "stderr",
     "output_type": "stream",
     "text": [
      " 10%|█         | 3/29 [01:04<08:39, 20.00s/it]"
     ]
    },
    {
     "name": "stdout",
     "output_type": "stream",
     "text": [
      "3.0\n"
     ]
    },
    {
     "name": "stderr",
     "output_type": "stream",
     "text": [
      " 14%|█▍        | 4/29 [01:34<10:00, 24.03s/it]"
     ]
    },
    {
     "name": "stdout",
     "output_type": "stream",
     "text": [
      "4.0\n"
     ]
    },
    {
     "name": "stderr",
     "output_type": "stream",
     "text": [
      " 17%|█▋        | 5/29 [01:57<09:23, 23.46s/it]"
     ]
    },
    {
     "name": "stdout",
     "output_type": "stream",
     "text": [
      "5.0\n"
     ]
    },
    {
     "name": "stderr",
     "output_type": "stream",
     "text": [
      " 21%|██        | 6/29 [02:20<09:01, 23.56s/it]"
     ]
    },
    {
     "name": "stdout",
     "output_type": "stream",
     "text": [
      "6.0\n"
     ]
    },
    {
     "name": "stderr",
     "output_type": "stream",
     "text": [
      " 24%|██▍       | 7/29 [02:32<07:10, 19.55s/it]"
     ]
    },
    {
     "name": "stdout",
     "output_type": "stream",
     "text": [
      "7.0\n"
     ]
    },
    {
     "name": "stderr",
     "output_type": "stream",
     "text": [
      " 28%|██▊       | 8/29 [02:41<05:45, 16.43s/it]"
     ]
    },
    {
     "name": "stdout",
     "output_type": "stream",
     "text": [
      "8.0\n"
     ]
    },
    {
     "name": "stderr",
     "output_type": "stream",
     "text": [
      " 31%|███       | 9/29 [02:57<05:21, 16.10s/it]"
     ]
    },
    {
     "name": "stdout",
     "output_type": "stream",
     "text": [
      "9.0\n"
     ]
    },
    {
     "name": "stderr",
     "output_type": "stream",
     "text": [
      " 34%|███▍      | 10/29 [03:07<04:30, 14.25s/it]"
     ]
    },
    {
     "name": "stdout",
     "output_type": "stream",
     "text": [
      "10.0\n"
     ]
    },
    {
     "name": "stderr",
     "output_type": "stream",
     "text": [
      " 38%|███▊      | 11/29 [03:23<04:24, 14.67s/it]"
     ]
    },
    {
     "name": "stdout",
     "output_type": "stream",
     "text": [
      "11.0\n"
     ]
    },
    {
     "name": "stderr",
     "output_type": "stream",
     "text": [
      " 41%|████▏     | 12/29 [03:37<04:05, 14.45s/it]"
     ]
    },
    {
     "name": "stdout",
     "output_type": "stream",
     "text": [
      "12.0\n"
     ]
    },
    {
     "name": "stderr",
     "output_type": "stream",
     "text": [
      " 41%|████▏     | 12/29 [03:51<05:27, 19.29s/it]\n"
     ]
    },
    {
     "ename": "KeyboardInterrupt",
     "evalue": "",
     "output_type": "error",
     "traceback": [
      "\u001b[1;31m---------------------------------------------------------------------------\u001b[0m",
      "\u001b[1;31mKeyboardInterrupt\u001b[0m                         Traceback (most recent call last)",
      "Cell \u001b[1;32mIn[7], line 7\u001b[0m\n\u001b[0;32m      4\u001b[0m graph_params \u001b[38;5;241m=\u001b[39m pd\u001b[38;5;241m.\u001b[39mread_excel(\u001b[38;5;124mr\u001b[39m\u001b[38;5;124m'\u001b[39m\u001b[38;5;124mparams\u001b[39m\u001b[38;5;124m\\\u001b[39m\u001b[38;5;124m80_graph_params.xlsx\u001b[39m\u001b[38;5;124m'\u001b[39m)\n\u001b[0;32m      6\u001b[0m ex1 \u001b[38;5;241m=\u001b[39m BestNumExperiment(graph_params)\n\u001b[1;32m----> 7\u001b[0m \u001b[43mex1\u001b[49m\u001b[38;5;241;43m.\u001b[39;49m\u001b[43mcalculate_posdfs\u001b[49m\u001b[43m(\u001b[49m\u001b[43m)\u001b[49m\n\u001b[0;32m      9\u001b[0m size\u001b[38;5;241m=\u001b[39m\u001b[38;5;124m'\u001b[39m\u001b[38;5;124m80\u001b[39m\u001b[38;5;124m'\u001b[39m\n\u001b[0;32m     10\u001b[0m ex1\u001b[38;5;241m.\u001b[39mmake_experiment(\u001b[38;5;124m'\u001b[39m\u001b[38;5;124mgap_statistic\u001b[39m\u001b[38;5;124m'\u001b[39m)\n",
      "Cell \u001b[1;32mIn[3], line 18\u001b[0m, in \u001b[0;36mBestNumExperiment.calculate_posdfs\u001b[1;34m(self, from_file)\u001b[0m\n\u001b[0;32m     16\u001b[0m layout_names \u001b[38;5;241m=\u001b[39m [\u001b[38;5;124m'\u001b[39m\u001b[38;5;124mkamada_kawai\u001b[39m\u001b[38;5;124m'\u001b[39m, \u001b[38;5;124m'\u001b[39m\u001b[38;5;124mspring\u001b[39m\u001b[38;5;124m'\u001b[39m, \u001b[38;5;124m'\u001b[39m\u001b[38;5;124mdavidson_harel\u001b[39m\u001b[38;5;124m'\u001b[39m, \u001b[38;5;124m'\u001b[39m\u001b[38;5;124mdrl\u001b[39m\u001b[38;5;124m'\u001b[39m, \u001b[38;5;124m'\u001b[39m\u001b[38;5;124mfruchterman_reingold\u001b[39m\u001b[38;5;124m'\u001b[39m, \u001b[38;5;124m'\u001b[39m\u001b[38;5;124mgraphopt\u001b[39m\u001b[38;5;124m'\u001b[39m, \u001b[38;5;124m'\u001b[39m\u001b[38;5;124mlgl\u001b[39m\u001b[38;5;124m'\u001b[39m,\u001b[38;5;124m'\u001b[39m\u001b[38;5;124mmds\u001b[39m\u001b[38;5;124m'\u001b[39m]\n\u001b[0;32m     17\u001b[0m \u001b[38;5;28;01mfor\u001b[39;00m layout_name \u001b[38;5;129;01min\u001b[39;00m layout_names:\n\u001b[1;32m---> 18\u001b[0m     posdf \u001b[38;5;241m=\u001b[39m \u001b[43mposdf_from_layout\u001b[49m\u001b[43m(\u001b[49m\u001b[43mG\u001b[49m\u001b[43m,\u001b[49m\u001b[43m \u001b[49m\u001b[43mlayout_name\u001b[49m\u001b[43m)\u001b[49m\n\u001b[0;32m     20\u001b[0m     \u001b[38;5;66;03m# Store the posdf DataFrame in the nested dictionary\u001b[39;00m\n\u001b[0;32m     21\u001b[0m     \u001b[38;5;28mself\u001b[39m\u001b[38;5;241m.\u001b[39mgraph_posdfs[row[\u001b[38;5;124m'\u001b[39m\u001b[38;5;124mgraph_id\u001b[39m\u001b[38;5;124m'\u001b[39m]][layout_name] \u001b[38;5;241m=\u001b[39m posdf\n",
      "File \u001b[1;32mc:\\Users\\Kinga\\Desktop\\MAGISTERKA\\Geometric-Properties-of-Graph-Visualization-Methods\\code\\clustering_script.py:186\u001b[0m, in \u001b[0;36mposdf_from_layout\u001b[1;34m(G, layout_name)\u001b[0m\n\u001b[0;32m    184\u001b[0m \u001b[38;5;28;01melif\u001b[39;00m layout_name\u001b[38;5;241m==\u001b[39m\u001b[38;5;124m'\u001b[39m\u001b[38;5;124mfruchterman_reingold\u001b[39m\u001b[38;5;124m'\u001b[39m:\n\u001b[0;32m    185\u001b[0m     G_ig \u001b[38;5;241m=\u001b[39m ig\u001b[38;5;241m.\u001b[39mGraph\u001b[38;5;241m.\u001b[39mTupleList(nx\u001b[38;5;241m.\u001b[39mto_edgelist(G), directed\u001b[38;5;241m=\u001b[39m\u001b[38;5;28;01mFalse\u001b[39;00m)\n\u001b[1;32m--> 186\u001b[0m     layout \u001b[38;5;241m=\u001b[39m \u001b[43mG_ig\u001b[49m\u001b[38;5;241;43m.\u001b[39;49m\u001b[43mlayout\u001b[49m\u001b[43m(\u001b[49m\u001b[38;5;124;43m'\u001b[39;49m\u001b[38;5;124;43mfruchterman_reingold\u001b[39;49m\u001b[38;5;124;43m'\u001b[39;49m\u001b[43m)\u001b[49m\n\u001b[0;32m    187\u001b[0m     posdf \u001b[38;5;241m=\u001b[39m pd\u001b[38;5;241m.\u001b[39mDataFrame(layout\u001b[38;5;241m.\u001b[39mcoords, columns\u001b[38;5;241m=\u001b[39m[\u001b[38;5;124m'\u001b[39m\u001b[38;5;124mX\u001b[39m\u001b[38;5;124m'\u001b[39m, \u001b[38;5;124m'\u001b[39m\u001b[38;5;124mY\u001b[39m\u001b[38;5;124m'\u001b[39m])\n\u001b[0;32m    188\u001b[0m \u001b[38;5;28;01melif\u001b[39;00m layout_name\u001b[38;5;241m==\u001b[39m\u001b[38;5;124m'\u001b[39m\u001b[38;5;124mgraphopt\u001b[39m\u001b[38;5;124m'\u001b[39m:\n",
      "File \u001b[1;32mc:\\Users\\Kinga\\Anaconda3\\envs\\academic-weapon\\Lib\\site-packages\\igraph\\layout.py:531\u001b[0m, in \u001b[0;36m_layout\u001b[1;34m(graph, layout, *args, **kwds)\u001b[0m\n\u001b[0;32m    529\u001b[0m \u001b[38;5;28;01mif\u001b[39;00m \u001b[38;5;129;01mnot\u001b[39;00m \u001b[38;5;28mcallable\u001b[39m(method):\n\u001b[0;32m    530\u001b[0m     \u001b[38;5;28;01mraise\u001b[39;00m \u001b[38;5;167;01mValueError\u001b[39;00m(\u001b[38;5;124m\"\u001b[39m\u001b[38;5;124mlayout method must be callable\u001b[39m\u001b[38;5;124m\"\u001b[39m)\n\u001b[1;32m--> 531\u001b[0m layout \u001b[38;5;241m=\u001b[39m \u001b[43mmethod\u001b[49m\u001b[43m(\u001b[49m\u001b[43mgraph\u001b[49m\u001b[43m,\u001b[49m\u001b[43m \u001b[49m\u001b[38;5;241;43m*\u001b[39;49m\u001b[43margs\u001b[49m\u001b[43m,\u001b[49m\u001b[43m \u001b[49m\u001b[38;5;241;43m*\u001b[39;49m\u001b[38;5;241;43m*\u001b[39;49m\u001b[43mkwds\u001b[49m\u001b[43m)\u001b[49m\n\u001b[0;32m    532\u001b[0m \u001b[38;5;28;01mif\u001b[39;00m \u001b[38;5;129;01mnot\u001b[39;00m \u001b[38;5;28misinstance\u001b[39m(layout, Layout):\n\u001b[0;32m    533\u001b[0m     layout \u001b[38;5;241m=\u001b[39m Layout(layout)\n",
      "File \u001b[1;32mc:\\Users\\Kinga\\Anaconda3\\envs\\academic-weapon\\Lib\\site-packages\\igraph\\layout.py:693\u001b[0m, in \u001b[0;36m_layout_method_wrapper.<locals>.result\u001b[1;34m(*args, **kwds)\u001b[0m\n\u001b[0;32m    691\u001b[0m layout \u001b[38;5;241m=\u001b[39m func(\u001b[38;5;241m*\u001b[39margs, \u001b[38;5;241m*\u001b[39m\u001b[38;5;241m*\u001b[39mkwds)\n\u001b[0;32m    692\u001b[0m \u001b[38;5;28;01mif\u001b[39;00m \u001b[38;5;129;01mnot\u001b[39;00m \u001b[38;5;28misinstance\u001b[39m(layout, Layout):\n\u001b[1;32m--> 693\u001b[0m     layout \u001b[38;5;241m=\u001b[39m \u001b[43mLayout\u001b[49m\u001b[43m(\u001b[49m\u001b[43mlayout\u001b[49m\u001b[43m)\u001b[49m\n\u001b[0;32m    694\u001b[0m \u001b[38;5;28;01mreturn\u001b[39;00m layout\n",
      "File \u001b[1;32mc:\\Users\\Kinga\\Anaconda3\\envs\\academic-weapon\\Lib\\site-packages\\igraph\\layout.py:61\u001b[0m, in \u001b[0;36mLayout.__init__\u001b[1;34m(self, coords, dim)\u001b[0m\n\u001b[0;32m     28\u001b[0m \u001b[38;5;28;01mclass\u001b[39;00m \u001b[38;5;21;01mLayout\u001b[39;00m:\n\u001b[0;32m     29\u001b[0m \u001b[38;5;250m    \u001b[39m\u001b[38;5;124;03m\"\"\"Represents the layout of a graph.\u001b[39;00m\n\u001b[0;32m     30\u001b[0m \n\u001b[0;32m     31\u001b[0m \u001b[38;5;124;03m    A layout is practically a list of coordinates in an n-dimensional\u001b[39;00m\n\u001b[1;32m   (...)\u001b[0m\n\u001b[0;32m     58\u001b[0m \u001b[38;5;124;03m        [0, 3]\u001b[39;00m\n\u001b[0;32m     59\u001b[0m \u001b[38;5;124;03m    \"\"\"\u001b[39;00m\n\u001b[1;32m---> 61\u001b[0m     \u001b[38;5;28;01mdef\u001b[39;00m \u001b[38;5;21m__init__\u001b[39m(\u001b[38;5;28mself\u001b[39m, coords\u001b[38;5;241m=\u001b[39m\u001b[38;5;28;01mNone\u001b[39;00m, dim\u001b[38;5;241m=\u001b[39m\u001b[38;5;28;01mNone\u001b[39;00m):\n\u001b[0;32m     62\u001b[0m \u001b[38;5;250m        \u001b[39m\u001b[38;5;124;03m\"\"\"Constructor.\u001b[39;00m\n\u001b[0;32m     63\u001b[0m \n\u001b[0;32m     64\u001b[0m \u001b[38;5;124;03m        @param coords: the coordinates to be stored in the layout.\u001b[39;00m\n\u001b[1;32m   (...)\u001b[0m\n\u001b[0;32m     70\u001b[0m \u001b[38;5;124;03m        is.\u001b[39;00m\n\u001b[0;32m     71\u001b[0m \u001b[38;5;124;03m        \"\"\"\u001b[39;00m\n\u001b[0;32m     72\u001b[0m         \u001b[38;5;28;01mif\u001b[39;00m coords \u001b[38;5;129;01mis\u001b[39;00m \u001b[38;5;129;01mnot\u001b[39;00m \u001b[38;5;28;01mNone\u001b[39;00m:\n",
      "\u001b[1;31mKeyboardInterrupt\u001b[0m: "
     ]
    }
   ],
   "source": [
    "import warnings\n",
    "warnings.filterwarnings('ignore')\n",
    "\n",
    "graph_params = pd.read_excel(r'params\\50_graph_params.xlsx')\n",
    "\n",
    "ex1 = BestNumExperiment(graph_params)\n",
    "ex1.calculate_posdfs()\n",
    "\n",
    "size='50'\n",
    "ex1.make_experiment('gap_statistic')\n",
    "ex1.gap.to_excel(fr'data\\{size}_gap_results.xlsx', index=False)\n",
    "ex1.make_experiment('elbow_method')\n",
    "ex1.elbow.to_excel(fr'data\\{size}_elbow_results.xlsx', index=False)\n",
    "ex1.make_experiment('silhouette')\n",
    "ex1.silhouette.to_excel(fr'data\\{size}_silhouette_results.xlsx', index=False)\n",
    "ex1.make_experiment('calinski_harabasz')\n",
    "ex1.ch.to_excel(fr'data\\{size}_ch_results.xlsx', index=False)\n",
    "ex1.make_experiment('50_mix_ch_elbow')\n",
    "ex1.mix_ch_elbow_50.to_excel(fr'data\\{size}_50_mix_ch_elbow.xlsx', index=False)\n",
    "ex1.make_experiment('75_mix_ch_elbow')\n",
    "ex1.mix_ch_elbow_75.to_excel(fr'data\\{size}_75_mix_ch_elbow.xlsx', index=False)\n",
    "\n",
    "\n",
    "graph_params = pd.read_excel(r'params\\80_graph_params.xlsx')\n",
    "\n",
    "ex1 = BestNumExperiment(graph_params)\n",
    "ex1.calculate_posdfs()\n",
    "\n",
    "size='80'\n",
    "ex1.make_experiment('gap_statistic')\n",
    "ex1.gap.to_excel(fr'data\\{size}_gap_results.xlsx', index=False)\n",
    "ex1.make_experiment('elbow_method')\n",
    "ex1.elbow.to_excel(fr'data\\{size}_elbow_results.xlsx', index=False)\n",
    "ex1.make_experiment('silhouette')\n",
    "ex1.silhouette.to_excel(fr'data\\{size}_silhouette_results.xlsx', index=False)\n",
    "ex1.make_experiment('calinski_harabasz')\n",
    "ex1.ch.to_excel(fr'data\\{size}_ch_results.xlsx', index=False)\n",
    "ex1.make_experiment('50_mix_ch_elbow')\n",
    "ex1.mix_ch_elbow_50.to_excel(fr'data\\{size}_50_mix_ch_elbow.xlsx', index=False)\n",
    "ex1.make_experiment('75_mix_ch_elbow')\n",
    "ex1.mix_ch_elbow_75.to_excel(fr'data\\{size}_75_mix_ch_elbow.xlsx', index=False)\n",
    "\n",
    "graph_params = pd.read_excel(r'params\\100_graph_params.xlsx')\n",
    "\n",
    "ex1 = BestNumExperiment(graph_params)\n",
    "ex1.calculate_posdfs()\n",
    "\n",
    "size='100'\n",
    "ex1.make_experiment('gap_statistic')\n",
    "ex1.gap.to_excel(fr'data\\{size}_gap_results.xlsx', index=False)\n",
    "ex1.make_experiment('elbow_method')\n",
    "ex1.elbow.to_excel(fr'data\\{size}_elbow_results.xlsx', index=False)\n",
    "ex1.make_experiment('silhouette')\n",
    "ex1.silhouette.to_excel(fr'data\\{size}_silhouette_results.xlsx', index=False)\n",
    "ex1.make_experiment('calinski_harabasz')\n",
    "ex1.ch.to_excel(fr'data\\{size}_ch_results.xlsx', index=False)\n",
    "ex1.make_experiment('50_mix_ch_elbow')\n",
    "ex1.mix_ch_elbow_50.to_excel(fr'data\\{size}_50_mix_ch_elbow.xlsx', index=False)\n",
    "ex1.make_experiment('75_mix_ch_elbow')\n",
    "ex1.mix_ch_elbow_75.to_excel(fr'data\\{size}_75_mix_ch_elbow.xlsx', index=False)\n",
    "\n",
    "\n",
    "graph_params = pd.read_excel(r'params\\150_graph_params.xlsx')\n",
    "\n",
    "ex1 = BestNumExperiment(graph_params)\n",
    "ex1.calculate_posdfs()\n",
    "\n",
    "size='150'\n",
    "ex1.make_experiment('gap_statistic')\n",
    "ex1.gap.to_excel(fr'data\\{size}_gap_results.xlsx', index=False)\n",
    "ex1.make_experiment('elbow_method')\n",
    "ex1.elbow.to_excel(fr'data\\{size}_elbow_results.xlsx', index=False)\n",
    "ex1.make_experiment('silhouette')\n",
    "ex1.silhouette.to_excel(fr'data\\{size}_silhouette_results.xlsx', index=False)\n",
    "ex1.make_experiment('calinski_harabasz')\n",
    "ex1.ch.to_excel(fr'data\\{size}_ch_results.xlsx', index=False)\n",
    "ex1.make_experiment('50_mix_ch_elbow')\n",
    "ex1.mix_ch_elbow_50.to_excel(fr'data\\{size}_50_mix_ch_elbow.xlsx', index=False)\n",
    "ex1.make_experiment('75_mix_ch_elbow')\n",
    "ex1.mix_ch_elbow_75.to_excel(fr'data\\{size}_75_mix_ch_elbow.xlsx', index=False)"
   ]
  }
 ],
 "metadata": {
  "kernelspec": {
   "display_name": "Python 3",
   "language": "python",
   "name": "python3"
  },
  "language_info": {
   "codemirror_mode": {
    "name": "ipython",
    "version": 3
   },
   "file_extension": ".py",
   "mimetype": "text/x-python",
   "name": "python",
   "nbconvert_exporter": "python",
   "pygments_lexer": "ipython3",
   "version": "3.12.5"
  }
 },
 "nbformat": 4,
 "nbformat_minor": 2
}
