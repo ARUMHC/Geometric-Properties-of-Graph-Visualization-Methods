{
 "cells": [
  {
   "cell_type": "code",
   "execution_count": null,
   "metadata": {},
   "outputs": [],
   "source": [
    "from clustering_script import *\n",
    "from graph_generating_script import *\n",
    "from choosing_best_num_algorithms import *"
   ]
  },
  {
   "cell_type": "code",
   "execution_count": null,
   "metadata": {},
   "outputs": [],
   "source": [
    "from tqdm import tqdm \n",
    "\n",
    "class BestNumExperiment():\n",
    "    def __init__(self, graph_params:pd.DataFrame):\n",
    "        self.graph_params = graph_params\n",
    "        self.graph_posdfs = {}\n",
    "\n",
    "    def calculate_posdfs(self, from_file=None):\n",
    "        if from_file==None:\n",
    "            for _, row in tqdm(self.graph_params.iterrows(), total=self.graph_params.shape[0]):\n",
    "                print(row['graph_id'])\n",
    "                (G, true_labels) = generate_G_randomized(int(row['size']), int(row['no_comms']), row['inside_prob'], row['outside_prob'])\n",
    "                self.graph_posdfs[row['graph_id']] = {}\n",
    "                assor = nx.numeric_assortativity_coefficient(G, \"community\")\n",
    "                self.graph_posdfs[row['graph_id']]['assortativity'] = assor\n",
    "                layout_names = ['kamada_kawai', 'spring', 'davidson_harel', 'drl', 'fruchterman_reingold', 'graphopt', 'lgl','mds']\n",
    "                for layout_name in layout_names:\n",
    "                    posdf = posdf_from_layout(G, layout_name)\n",
    "                    \n",
    "                    # Store the posdf DataFrame in the nested dictionary\n",
    "                    self.graph_posdfs[row['graph_id']][layout_name] = posdf\n",
    "        else:\n",
    "            self.graph_posdfs\n",
    "    \n",
    "\n",
    "    def make_experiment(self, best_num_algo_name):\n",
    "        #iterating through all the graphs\n",
    "        results = pd.DataFrame(columns=['graph_id', 'assortativity', 'layout_name', 'no_communities', 'calculated_bestnum'])\n",
    "        for _, row in tqdm(self.graph_params.iterrows(), total=self.graph_params.shape[0]):\n",
    "        # for _, row in self.graph_params.iterrows():\n",
    "            # (G, true_labels) = generate_G_randomized(int(row['size']), int(row['no_comms']), row['inside_prob'], row['outside_prob'])\n",
    "            # assor = nx.numeric_assortativity_coefficient(G, \"community\")\n",
    "            layout_names = ['kamada_kawai', 'spring', 'davidson_harel', 'drl', 'fruchterman_reingold', 'graphopt', 'lgl','mds']\n",
    "            for layout_name in layout_names:\n",
    "                # posdf = posdf_from_layout(G, layout_name)\n",
    "                posdf = self.graph_posdfs[row['graph_id']][layout_name]\n",
    "                #todo change this so constructor takes a function as an argument intead of hardcoding\n",
    "                if best_num_algo_name == 'gap_statistic':\n",
    "                    (best_num, _) = gap_statistic_best_num(posdf)\n",
    "                elif best_num_algo_name == 'elbow_method':\n",
    "                    (best_num, _) = elbow_method_best_num(posdf)\n",
    "                elif best_num_algo_name == 'silhouette':\n",
    "                    (best_num, _) = silhouette_best_num(posdf)\n",
    "                elif best_num_algo_name == 'calinski_harabasz':\n",
    "                    (best_num, _) = calinski_harabasz_best_num(posdf)\n",
    "                elif best_num_algo_name == 'BIC':\n",
    "                    (best_num, _) = BIC_best_num(posdf)\n",
    "                else:\n",
    "                    raise ValueError('Incorrect algorith name, probably a typo')\n",
    "\n",
    "                new_row = {'graph_id':[int(row['graph_id'])], \n",
    "                           'assortativity': [self.graph_posdfs[row['graph_id']]['assortativity']], \n",
    "                           'size' : [int(row['size'])],\n",
    "                           'layout_name': [layout_name], \n",
    "                           'no_communities': [int(row['no_comms'])],\n",
    "                            'calculated_bestnum':[int(best_num)]}\n",
    "                # print(new_row)\n",
    "                results = pd.concat([results, pd.DataFrame(new_row)])\n",
    "                \n",
    "        if best_num_algo_name == 'gap_statistic':\n",
    "            self.gap= results\n",
    "        elif best_num_algo_name == 'elbow_method':\n",
    "            self.elbow = results\n",
    "        elif best_num_algo_name == 'silhouette':\n",
    "            self.silhouette = results\n",
    "        elif best_num_algo_name == 'calinski_harabasz':\n",
    "            self.ch = results\n",
    "        elif best_num_algo_name == 'BIC':\n",
    "            self.bic = results\n"
   ]
  },
  {
   "cell_type": "markdown",
   "metadata": {},
   "source": [
    "# 50 nodes"
   ]
  },
  {
   "cell_type": "code",
   "execution_count": null,
   "metadata": {},
   "outputs": [],
   "source": [
    "\n",
    "graph_params = pd.read_excel(r'data\\50_graph_params.xlsx')\n",
    "\n",
    "ex1 = BestNumExperiment(graph_params)\n",
    "ex1.calculate_posdfs()\n"
   ]
  },
  {
   "cell_type": "code",
   "execution_count": null,
   "metadata": {},
   "outputs": [],
   "source": [
    "import warnings\n",
    "warnings.filterwarnings('ignore')\n",
    "\n",
    "\n",
    "ex1.make_experiment('gap_statistic')\n",
    "ex1.gap.to_excel(r'data\\50_gap_results.xlsx', index=False)\n",
    "ex1.make_experiment('elbow_method')\n",
    "ex1.elbow.to_excel(r'data\\50_elbow_results.xlsx', index=False)\n",
    "ex1.make_experiment('silhouette')\n",
    "ex1.silhouette.to_excel(r'data\\50_silhouette_results.xlsx', index=False)\n",
    "ex1.make_experiment('calinski_harabasz')\n",
    "ex1.ch.to_excel(r'data\\50_ch_results.xlsx', index=False)"
   ]
  },
  {
   "cell_type": "code",
   "execution_count": null,
   "metadata": {},
   "outputs": [],
   "source": []
  }
 ],
 "metadata": {
  "language_info": {
   "name": "python"
  }
 },
 "nbformat": 4,
 "nbformat_minor": 2
}
