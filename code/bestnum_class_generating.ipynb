{
 "cells": [
  {
   "cell_type": "code",
   "execution_count": 1,
   "metadata": {},
   "outputs": [],
   "source": [
    "from clustering_script import *\n",
    "from graph_generating_script import *\n",
    "from choosing_best_num_algorithms import *"
   ]
  },
  {
   "cell_type": "code",
   "execution_count": 3,
   "metadata": {},
   "outputs": [],
   "source": [
    "from tqdm import tqdm \n",
    "\n",
    "class BestNumExperiment():\n",
    "    def __init__(self, graph_params:pd.DataFrame):\n",
    "        self.graph_params = graph_params\n",
    "        self.graph_posdfs = {}\n",
    "\n",
    "    def calculate_posdfs(self, from_file=None):\n",
    "        if from_file==None:\n",
    "            for _, row in tqdm(self.graph_params.iterrows(), total=self.graph_params.shape[0]):\n",
    "                print(row['graph_id'])\n",
    "                (G, true_labels) = generate_G_randomized(int(row['size']), int(row['no_comms']), row['inside_prob'], row['outside_prob'])\n",
    "                self.graph_posdfs[row['graph_id']] = {}\n",
    "                assor = nx.numeric_assortativity_coefficient(G, \"community\")\n",
    "                self.graph_posdfs[row['graph_id']]['assortativity'] = assor\n",
    "                layout_names = ['kamada_kawai', 'spring', 'davidson_harel', 'drl', 'fruchterman_reingold', 'graphopt', 'lgl','mds']\n",
    "                for layout_name in layout_names:\n",
    "                    posdf = posdf_from_layout(G, layout_name)\n",
    "                    \n",
    "                    # Store the posdf DataFrame in the nested dictionary\n",
    "                    self.graph_posdfs[row['graph_id']][layout_name] = posdf\n",
    "        else:\n",
    "            self.graph_posdfs\n",
    "    \n",
    "\n",
    "    def make_experiment(self, best_num_algo_name):\n",
    "        #iterating through all the graphs\n",
    "        results = pd.DataFrame(columns=['graph_id', 'assortativity', 'layout_name', 'no_communities', 'calculated_bestnum'])\n",
    "        for _, row in tqdm(self.graph_params.iterrows(), total=self.graph_params.shape[0]):\n",
    "        # for _, row in self.graph_params.iterrows():\n",
    "            # (G, true_labels) = generate_G_randomized(int(row['size']), int(row['no_comms']), row['inside_prob'], row['outside_prob'])\n",
    "            # assor = nx.numeric_assortativity_coefficient(G, \"community\")\n",
    "            layout_names = ['kamada_kawai', 'spring', 'davidson_harel', 'drl', 'fruchterman_reingold', 'graphopt', 'lgl','mds']\n",
    "            for layout_name in layout_names:\n",
    "                # posdf = posdf_from_layout(G, layout_name)\n",
    "                posdf = self.graph_posdfs[row['graph_id']][layout_name]\n",
    "                if best_num_algo_name == 'gap_statistic':\n",
    "                    (best_num, _) = gap_statistic_best_num(posdf)\n",
    "                elif best_num_algo_name == 'elbow_method':\n",
    "                    (best_num, _) = elbow_method_best_num(posdf)\n",
    "                elif best_num_algo_name == 'silhouette':\n",
    "                    (best_num, _) = silhouette_best_num(posdf)\n",
    "                elif best_num_algo_name == 'calinski_harabasz':\n",
    "                    (best_num, _) = calinski_harabasz_best_num(posdf)\n",
    "                elif best_num_algo_name == '50_mix_ch_elbow':\n",
    "                    best_num = mix_ch_elbow(posdf, .5, .5)\n",
    "                elif best_num_algo_name == '75_mix_ch_elbow':\n",
    "                    best_num = mix_ch_elbow(posdf, .75, .25)\n",
    "                elif best_num_algo_name == 'BIC':\n",
    "                    (best_num, _) = BIC_best_num(posdf)\n",
    "                else:\n",
    "                    raise ValueError('Incorrect algorith name, probably a typo')\n",
    "\n",
    "                new_row = {'graph_id':[int(row['graph_id'])], \n",
    "                           'assortativity': [self.graph_posdfs[row['graph_id']]['assortativity']], \n",
    "                           'size' : [int(row['size'])],\n",
    "                           'layout_name': [layout_name], \n",
    "                           'no_communities': [int(row['no_comms'])],\n",
    "                            'calculated_bestnum':[int(best_num)]}\n",
    "                # print(new_row)\n",
    "                results = pd.concat([results, pd.DataFrame(new_row)])\n",
    "                \n",
    "        if best_num_algo_name == 'gap_statistic':\n",
    "            self.gap= results\n",
    "        elif best_num_algo_name == 'elbow_method':\n",
    "            self.elbow = results\n",
    "        elif best_num_algo_name == 'silhouette':\n",
    "            self.silhouette = results\n",
    "        elif best_num_algo_name == 'calinski_harabasz':\n",
    "            self.ch = results\n",
    "        elif best_num_algo_name == '50_mix_ch_elbow':\n",
    "            self.mix_ch_elbow_50 = results\n",
    "        elif best_num_algo_name == '75_mix_ch_elbow':\n",
    "            self.mix_ch_elbow_75 = results\n",
    "        elif best_num_algo_name == 'BIC':\n",
    "            self.bic = results\n"
   ]
  },
  {
   "cell_type": "markdown",
   "metadata": {},
   "source": []
  },
  {
   "cell_type": "markdown",
   "metadata": {},
   "source": [
    "# Calculated for all nodes"
   ]
  },
  {
   "cell_type": "code",
   "execution_count": 4,
   "metadata": {},
   "outputs": [
    {
     "name": "stderr",
     "output_type": "stream",
     "text": [
      "  0%|          | 0/33 [00:00<?, ?it/s]"
     ]
    },
    {
     "name": "stdout",
     "output_type": "stream",
     "text": [
      "0.0\n"
     ]
    },
    {
     "name": "stderr",
     "output_type": "stream",
     "text": [
      "  3%|▎         | 1/33 [00:10<05:28, 10.28s/it]"
     ]
    },
    {
     "name": "stdout",
     "output_type": "stream",
     "text": [
      "1.0\n"
     ]
    },
    {
     "name": "stderr",
     "output_type": "stream",
     "text": [
      "  6%|▌         | 2/33 [00:17<04:23,  8.50s/it]"
     ]
    },
    {
     "name": "stdout",
     "output_type": "stream",
     "text": [
      "2.0\n"
     ]
    },
    {
     "name": "stderr",
     "output_type": "stream",
     "text": [
      "  9%|▉         | 3/33 [00:24<04:00,  8.01s/it]"
     ]
    },
    {
     "name": "stdout",
     "output_type": "stream",
     "text": [
      "3.0\n"
     ]
    },
    {
     "name": "stderr",
     "output_type": "stream",
     "text": [
      " 12%|█▏        | 4/33 [00:31<03:30,  7.27s/it]"
     ]
    },
    {
     "name": "stdout",
     "output_type": "stream",
     "text": [
      "4.0\n"
     ]
    },
    {
     "name": "stderr",
     "output_type": "stream",
     "text": [
      " 15%|█▌        | 5/33 [00:38<03:20,  7.16s/it]"
     ]
    },
    {
     "name": "stdout",
     "output_type": "stream",
     "text": [
      "5.0\n"
     ]
    },
    {
     "name": "stderr",
     "output_type": "stream",
     "text": [
      " 18%|█▊        | 6/33 [00:41<02:40,  5.94s/it]"
     ]
    },
    {
     "name": "stdout",
     "output_type": "stream",
     "text": [
      "6.0\n"
     ]
    },
    {
     "name": "stderr",
     "output_type": "stream",
     "text": [
      " 21%|██        | 7/33 [00:45<02:12,  5.10s/it]"
     ]
    },
    {
     "name": "stdout",
     "output_type": "stream",
     "text": [
      "7.0\n"
     ]
    },
    {
     "name": "stderr",
     "output_type": "stream",
     "text": [
      " 24%|██▍       | 8/33 [00:50<02:06,  5.07s/it]"
     ]
    },
    {
     "name": "stdout",
     "output_type": "stream",
     "text": [
      "8.0\n"
     ]
    },
    {
     "name": "stderr",
     "output_type": "stream",
     "text": [
      " 27%|██▋       | 9/33 [00:54<01:57,  4.88s/it]"
     ]
    },
    {
     "name": "stdout",
     "output_type": "stream",
     "text": [
      "9.0\n"
     ]
    },
    {
     "name": "stderr",
     "output_type": "stream",
     "text": [
      " 30%|███       | 10/33 [00:58<01:44,  4.55s/it]"
     ]
    },
    {
     "name": "stdout",
     "output_type": "stream",
     "text": [
      "10.0\n"
     ]
    },
    {
     "name": "stderr",
     "output_type": "stream",
     "text": [
      " 33%|███▎      | 11/33 [01:02<01:35,  4.36s/it]"
     ]
    },
    {
     "name": "stdout",
     "output_type": "stream",
     "text": [
      "11.0\n"
     ]
    },
    {
     "name": "stderr",
     "output_type": "stream",
     "text": [
      " 36%|███▋      | 12/33 [01:05<01:27,  4.17s/it]"
     ]
    },
    {
     "name": "stdout",
     "output_type": "stream",
     "text": [
      "12.0\n"
     ]
    },
    {
     "name": "stderr",
     "output_type": "stream",
     "text": [
      " 39%|███▉      | 13/33 [01:10<01:25,  4.29s/it]"
     ]
    },
    {
     "name": "stdout",
     "output_type": "stream",
     "text": [
      "13.0\n"
     ]
    },
    {
     "name": "stderr",
     "output_type": "stream",
     "text": [
      " 42%|████▏     | 14/33 [01:13<01:14,  3.91s/it]"
     ]
    },
    {
     "name": "stdout",
     "output_type": "stream",
     "text": [
      "14.0\n"
     ]
    },
    {
     "name": "stderr",
     "output_type": "stream",
     "text": [
      " 45%|████▌     | 15/33 [01:15<01:01,  3.40s/it]"
     ]
    },
    {
     "name": "stdout",
     "output_type": "stream",
     "text": [
      "15.0\n"
     ]
    },
    {
     "name": "stderr",
     "output_type": "stream",
     "text": [
      " 48%|████▊     | 16/33 [01:17<00:50,  2.98s/it]"
     ]
    },
    {
     "name": "stdout",
     "output_type": "stream",
     "text": [
      "16.0\n"
     ]
    },
    {
     "name": "stderr",
     "output_type": "stream",
     "text": [
      " 52%|█████▏    | 17/33 [01:19<00:44,  2.75s/it]"
     ]
    },
    {
     "name": "stdout",
     "output_type": "stream",
     "text": [
      "17.0\n"
     ]
    },
    {
     "name": "stderr",
     "output_type": "stream",
     "text": [
      " 55%|█████▍    | 18/33 [01:22<00:39,  2.63s/it]"
     ]
    },
    {
     "name": "stdout",
     "output_type": "stream",
     "text": [
      "18.0\n"
     ]
    },
    {
     "name": "stderr",
     "output_type": "stream",
     "text": [
      " 58%|█████▊    | 19/33 [01:25<00:39,  2.84s/it]"
     ]
    },
    {
     "name": "stdout",
     "output_type": "stream",
     "text": [
      "19.0\n"
     ]
    },
    {
     "name": "stderr",
     "output_type": "stream",
     "text": [
      " 61%|██████    | 20/33 [01:27<00:33,  2.58s/it]"
     ]
    },
    {
     "name": "stdout",
     "output_type": "stream",
     "text": [
      "20.0\n"
     ]
    },
    {
     "name": "stderr",
     "output_type": "stream",
     "text": [
      " 64%|██████▎   | 21/33 [01:29<00:27,  2.31s/it]"
     ]
    },
    {
     "name": "stdout",
     "output_type": "stream",
     "text": [
      "21.0\n"
     ]
    },
    {
     "name": "stderr",
     "output_type": "stream",
     "text": [
      " 67%|██████▋   | 22/33 [01:30<00:22,  2.04s/it]"
     ]
    },
    {
     "name": "stdout",
     "output_type": "stream",
     "text": [
      "22.0\n"
     ]
    },
    {
     "name": "stderr",
     "output_type": "stream",
     "text": [
      " 70%|██████▉   | 23/33 [01:32<00:19,  1.93s/it]"
     ]
    },
    {
     "name": "stdout",
     "output_type": "stream",
     "text": [
      "23.0\n"
     ]
    },
    {
     "name": "stderr",
     "output_type": "stream",
     "text": [
      " 73%|███████▎  | 24/33 [01:34<00:16,  1.84s/it]"
     ]
    },
    {
     "name": "stdout",
     "output_type": "stream",
     "text": [
      "24.0\n"
     ]
    },
    {
     "name": "stderr",
     "output_type": "stream",
     "text": [
      " 76%|███████▌  | 25/33 [01:36<00:15,  2.00s/it]"
     ]
    },
    {
     "name": "stdout",
     "output_type": "stream",
     "text": [
      "25.0\n"
     ]
    },
    {
     "name": "stderr",
     "output_type": "stream",
     "text": [
      " 79%|███████▉  | 26/33 [01:38<00:13,  1.95s/it]"
     ]
    },
    {
     "name": "stdout",
     "output_type": "stream",
     "text": [
      "26.0\n"
     ]
    },
    {
     "name": "stderr",
     "output_type": "stream",
     "text": [
      " 82%|████████▏ | 27/33 [01:39<00:10,  1.80s/it]"
     ]
    },
    {
     "name": "stdout",
     "output_type": "stream",
     "text": [
      "27.0\n"
     ]
    },
    {
     "name": "stderr",
     "output_type": "stream",
     "text": [
      " 85%|████████▍ | 28/33 [01:40<00:08,  1.62s/it]"
     ]
    },
    {
     "name": "stdout",
     "output_type": "stream",
     "text": [
      "28.0\n"
     ]
    },
    {
     "name": "stderr",
     "output_type": "stream",
     "text": [
      " 88%|████████▊ | 29/33 [01:41<00:05,  1.45s/it]"
     ]
    },
    {
     "name": "stdout",
     "output_type": "stream",
     "text": [
      "29.0\n"
     ]
    },
    {
     "name": "stderr",
     "output_type": "stream",
     "text": [
      " 91%|█████████ | 30/33 [01:43<00:04,  1.37s/it]"
     ]
    },
    {
     "name": "stdout",
     "output_type": "stream",
     "text": [
      "30.0\n"
     ]
    },
    {
     "name": "stderr",
     "output_type": "stream",
     "text": [
      " 94%|█████████▍| 31/33 [01:44<00:02,  1.27s/it]"
     ]
    },
    {
     "name": "stdout",
     "output_type": "stream",
     "text": [
      "31.0\n"
     ]
    },
    {
     "name": "stderr",
     "output_type": "stream",
     "text": [
      " 97%|█████████▋| 32/33 [01:45<00:01,  1.25s/it]"
     ]
    },
    {
     "name": "stdout",
     "output_type": "stream",
     "text": [
      "32.0\n"
     ]
    },
    {
     "name": "stderr",
     "output_type": "stream",
     "text": [
      "100%|██████████| 33/33 [01:47<00:00,  3.27s/it]\n",
      "  0%|          | 0/33 [00:00<?, ?it/s]  File \"c:\\Users\\Kinga\\Anaconda3\\envs\\academic-weapon\\Lib\\site-packages\\joblib\\externals\\loky\\backend\\context.py\", line 257, in _count_physical_cores\n",
      "    cpu_info = subprocess.run(\n",
      "               ^^^^^^^^^^^^^^^\n",
      "  File \"c:\\Users\\Kinga\\Anaconda3\\envs\\academic-weapon\\Lib\\subprocess.py\", line 548, in run\n",
      "    with Popen(*popenargs, **kwargs) as process:\n",
      "         ^^^^^^^^^^^^^^^^^^^^^^^^^^^\n",
      "  File \"c:\\Users\\Kinga\\Anaconda3\\envs\\academic-weapon\\Lib\\subprocess.py\", line 1026, in __init__\n",
      "    self._execute_child(args, executable, preexec_fn, close_fds,\n",
      "  File \"c:\\Users\\Kinga\\Anaconda3\\envs\\academic-weapon\\Lib\\subprocess.py\", line 1538, in _execute_child\n",
      "    hp, ht, pid, tid = _winapi.CreateProcess(executable, args,\n",
      "                       ^^^^^^^^^^^^^^^^^^^^^^^^^^^^^^^^^^^^^^^\n",
      "100%|██████████| 33/33 [01:21<00:00,  2.46s/it]\n",
      "100%|██████████| 33/33 [01:18<00:00,  2.38s/it]\n",
      "100%|██████████| 33/33 [01:01<00:00,  1.87s/it]\n",
      "100%|██████████| 33/33 [00:59<00:00,  1.81s/it]\n",
      "100%|██████████| 33/33 [02:16<00:00,  4.13s/it]\n",
      "100%|██████████| 33/33 [02:15<00:00,  4.10s/it]\n",
      "  0%|          | 0/29 [00:00<?, ?it/s]"
     ]
    },
    {
     "name": "stdout",
     "output_type": "stream",
     "text": [
      "0.0\n"
     ]
    },
    {
     "name": "stderr",
     "output_type": "stream",
     "text": [
      "  3%|▎         | 1/29 [00:14<06:58, 14.96s/it]"
     ]
    },
    {
     "name": "stdout",
     "output_type": "stream",
     "text": [
      "1.0\n"
     ]
    },
    {
     "name": "stderr",
     "output_type": "stream",
     "text": [
      "  7%|▋         | 2/29 [00:26<05:50, 12.99s/it]"
     ]
    },
    {
     "name": "stdout",
     "output_type": "stream",
     "text": [
      "2.0\n"
     ]
    },
    {
     "name": "stderr",
     "output_type": "stream",
     "text": [
      " 10%|█         | 3/29 [00:38<05:26, 12.54s/it]"
     ]
    },
    {
     "name": "stdout",
     "output_type": "stream",
     "text": [
      "3.0\n"
     ]
    },
    {
     "name": "stderr",
     "output_type": "stream",
     "text": [
      " 14%|█▍        | 4/29 [00:58<06:25, 15.42s/it]"
     ]
    },
    {
     "name": "stdout",
     "output_type": "stream",
     "text": [
      "4.0\n"
     ]
    },
    {
     "name": "stderr",
     "output_type": "stream",
     "text": [
      " 17%|█▋        | 5/29 [01:14<06:11, 15.49s/it]"
     ]
    },
    {
     "name": "stdout",
     "output_type": "stream",
     "text": [
      "5.0\n"
     ]
    },
    {
     "name": "stderr",
     "output_type": "stream",
     "text": [
      " 21%|██        | 6/29 [01:32<06:23, 16.67s/it]"
     ]
    },
    {
     "name": "stdout",
     "output_type": "stream",
     "text": [
      "6.0\n"
     ]
    },
    {
     "name": "stderr",
     "output_type": "stream",
     "text": [
      " 24%|██▍       | 7/29 [01:40<05:00, 13.65s/it]"
     ]
    },
    {
     "name": "stdout",
     "output_type": "stream",
     "text": [
      "7.0\n"
     ]
    },
    {
     "name": "stderr",
     "output_type": "stream",
     "text": [
      " 28%|██▊       | 8/29 [01:48<04:09, 11.90s/it]"
     ]
    },
    {
     "name": "stdout",
     "output_type": "stream",
     "text": [
      "8.0\n"
     ]
    },
    {
     "name": "stderr",
     "output_type": "stream",
     "text": [
      " 31%|███       | 9/29 [02:00<03:57, 11.87s/it]"
     ]
    },
    {
     "name": "stdout",
     "output_type": "stream",
     "text": [
      "9.0\n"
     ]
    },
    {
     "name": "stderr",
     "output_type": "stream",
     "text": [
      " 34%|███▍      | 10/29 [02:07<03:19, 10.48s/it]"
     ]
    },
    {
     "name": "stdout",
     "output_type": "stream",
     "text": [
      "10.0\n"
     ]
    },
    {
     "name": "stderr",
     "output_type": "stream",
     "text": [
      " 38%|███▊      | 11/29 [02:17<03:02, 10.15s/it]"
     ]
    },
    {
     "name": "stdout",
     "output_type": "stream",
     "text": [
      "11.0\n"
     ]
    },
    {
     "name": "stderr",
     "output_type": "stream",
     "text": [
      " 41%|████▏     | 12/29 [02:24<02:36,  9.22s/it]"
     ]
    },
    {
     "name": "stdout",
     "output_type": "stream",
     "text": [
      "12.0\n"
     ]
    },
    {
     "name": "stderr",
     "output_type": "stream",
     "text": [
      " 45%|████▍     | 13/29 [02:32<02:23,  8.94s/it]"
     ]
    },
    {
     "name": "stdout",
     "output_type": "stream",
     "text": [
      "13.0\n"
     ]
    },
    {
     "name": "stderr",
     "output_type": "stream",
     "text": [
      " 48%|████▊     | 14/29 [02:37<01:56,  7.76s/it]"
     ]
    },
    {
     "name": "stdout",
     "output_type": "stream",
     "text": [
      "14.0\n"
     ]
    },
    {
     "name": "stderr",
     "output_type": "stream",
     "text": [
      " 52%|█████▏    | 15/29 [02:44<01:45,  7.56s/it]"
     ]
    },
    {
     "name": "stdout",
     "output_type": "stream",
     "text": [
      "15.0\n"
     ]
    },
    {
     "name": "stderr",
     "output_type": "stream",
     "text": [
      " 55%|█████▌    | 16/29 [02:49<01:28,  6.82s/it]"
     ]
    },
    {
     "name": "stdout",
     "output_type": "stream",
     "text": [
      "16.0\n"
     ]
    },
    {
     "name": "stderr",
     "output_type": "stream",
     "text": [
      " 59%|█████▊    | 17/29 [02:54<01:15,  6.28s/it]"
     ]
    },
    {
     "name": "stdout",
     "output_type": "stream",
     "text": [
      "17.0\n"
     ]
    },
    {
     "name": "stderr",
     "output_type": "stream",
     "text": [
      " 62%|██████▏   | 18/29 [03:00<01:07,  6.15s/it]"
     ]
    },
    {
     "name": "stdout",
     "output_type": "stream",
     "text": [
      "18.0\n"
     ]
    },
    {
     "name": "stderr",
     "output_type": "stream",
     "text": [
      " 66%|██████▌   | 19/29 [03:04<00:53,  5.32s/it]"
     ]
    },
    {
     "name": "stdout",
     "output_type": "stream",
     "text": [
      "19.0\n"
     ]
    },
    {
     "name": "stderr",
     "output_type": "stream",
     "text": [
      " 69%|██████▉   | 20/29 [03:09<00:48,  5.35s/it]"
     ]
    },
    {
     "name": "stdout",
     "output_type": "stream",
     "text": [
      "20.0\n"
     ]
    },
    {
     "name": "stderr",
     "output_type": "stream",
     "text": [
      " 72%|███████▏  | 21/29 [03:17<00:49,  6.15s/it]"
     ]
    },
    {
     "name": "stdout",
     "output_type": "stream",
     "text": [
      "21.0\n"
     ]
    },
    {
     "name": "stderr",
     "output_type": "stream",
     "text": [
      " 76%|███████▌  | 22/29 [03:22<00:41,  5.93s/it]"
     ]
    },
    {
     "name": "stdout",
     "output_type": "stream",
     "text": [
      "22.0\n"
     ]
    },
    {
     "name": "stderr",
     "output_type": "stream",
     "text": [
      " 79%|███████▉  | 23/29 [03:29<00:36,  6.10s/it]"
     ]
    },
    {
     "name": "stdout",
     "output_type": "stream",
     "text": [
      "23.0\n"
     ]
    },
    {
     "name": "stderr",
     "output_type": "stream",
     "text": [
      " 83%|████████▎ | 24/29 [03:37<00:33,  6.74s/it]"
     ]
    },
    {
     "name": "stdout",
     "output_type": "stream",
     "text": [
      "24.0\n"
     ]
    },
    {
     "name": "stderr",
     "output_type": "stream",
     "text": [
      " 86%|████████▌ | 25/29 [03:41<00:23,  5.95s/it]"
     ]
    },
    {
     "name": "stdout",
     "output_type": "stream",
     "text": [
      "25.0\n"
     ]
    },
    {
     "name": "stderr",
     "output_type": "stream",
     "text": [
      " 90%|████████▉ | 26/29 [03:47<00:17,  5.75s/it]"
     ]
    },
    {
     "name": "stdout",
     "output_type": "stream",
     "text": [
      "26.0\n"
     ]
    },
    {
     "name": "stderr",
     "output_type": "stream",
     "text": [
      " 93%|█████████▎| 27/29 [03:55<00:12,  6.46s/it]"
     ]
    },
    {
     "name": "stdout",
     "output_type": "stream",
     "text": [
      "27.0\n"
     ]
    },
    {
     "name": "stderr",
     "output_type": "stream",
     "text": [
      " 97%|█████████▋| 28/29 [04:00<00:06,  6.26s/it]"
     ]
    },
    {
     "name": "stdout",
     "output_type": "stream",
     "text": [
      "28.0\n"
     ]
    },
    {
     "name": "stderr",
     "output_type": "stream",
     "text": [
      "100%|██████████| 29/29 [04:05<00:00,  8.47s/it]\n",
      "100%|██████████| 29/29 [01:13<00:00,  2.52s/it]\n",
      "100%|██████████| 29/29 [01:08<00:00,  2.38s/it]\n",
      "100%|██████████| 29/29 [00:57<00:00,  1.97s/it]\n",
      "100%|██████████| 29/29 [00:54<00:00,  1.89s/it]\n",
      "100%|██████████| 29/29 [02:02<00:00,  4.21s/it]\n",
      "100%|██████████| 29/29 [02:02<00:00,  4.23s/it]\n",
      "  0%|          | 0/29 [00:00<?, ?it/s]"
     ]
    },
    {
     "name": "stdout",
     "output_type": "stream",
     "text": [
      "0.0\n"
     ]
    },
    {
     "name": "stderr",
     "output_type": "stream",
     "text": [
      "  3%|▎         | 1/29 [00:36<16:59, 36.40s/it]"
     ]
    },
    {
     "name": "stdout",
     "output_type": "stream",
     "text": [
      "1.0\n"
     ]
    },
    {
     "name": "stderr",
     "output_type": "stream",
     "text": [
      "  7%|▋         | 2/29 [01:00<13:00, 28.90s/it]"
     ]
    },
    {
     "name": "stdout",
     "output_type": "stream",
     "text": [
      "2.0\n"
     ]
    },
    {
     "name": "stderr",
     "output_type": "stream",
     "text": [
      " 10%|█         | 3/29 [01:30<12:45, 29.44s/it]"
     ]
    },
    {
     "name": "stdout",
     "output_type": "stream",
     "text": [
      "3.0\n"
     ]
    },
    {
     "name": "stderr",
     "output_type": "stream",
     "text": [
      " 14%|█▍        | 4/29 [02:25<16:34, 39.80s/it]"
     ]
    },
    {
     "name": "stdout",
     "output_type": "stream",
     "text": [
      "4.0\n"
     ]
    },
    {
     "name": "stderr",
     "output_type": "stream",
     "text": [
      " 17%|█▋        | 5/29 [03:02<15:30, 38.77s/it]"
     ]
    },
    {
     "name": "stdout",
     "output_type": "stream",
     "text": [
      "5.0\n"
     ]
    },
    {
     "name": "stderr",
     "output_type": "stream",
     "text": [
      " 21%|██        | 6/29 [03:43<15:03, 39.28s/it]"
     ]
    },
    {
     "name": "stdout",
     "output_type": "stream",
     "text": [
      "6.0\n"
     ]
    },
    {
     "name": "stderr",
     "output_type": "stream",
     "text": [
      " 24%|██▍       | 7/29 [03:59<11:43, 31.96s/it]"
     ]
    },
    {
     "name": "stdout",
     "output_type": "stream",
     "text": [
      "7.0\n"
     ]
    },
    {
     "name": "stderr",
     "output_type": "stream",
     "text": [
      " 28%|██▊       | 8/29 [04:19<09:48, 28.04s/it]"
     ]
    },
    {
     "name": "stdout",
     "output_type": "stream",
     "text": [
      "8.0\n"
     ]
    },
    {
     "name": "stderr",
     "output_type": "stream",
     "text": [
      " 31%|███       | 9/29 [04:46<09:13, 27.67s/it]"
     ]
    },
    {
     "name": "stdout",
     "output_type": "stream",
     "text": [
      "9.0\n"
     ]
    },
    {
     "name": "stderr",
     "output_type": "stream",
     "text": [
      " 34%|███▍      | 10/29 [05:05<07:55, 25.04s/it]"
     ]
    },
    {
     "name": "stdout",
     "output_type": "stream",
     "text": [
      "10.0\n"
     ]
    },
    {
     "name": "stderr",
     "output_type": "stream",
     "text": [
      " 38%|███▊      | 11/29 [05:29<07:22, 24.59s/it]"
     ]
    },
    {
     "name": "stdout",
     "output_type": "stream",
     "text": [
      "11.0\n"
     ]
    },
    {
     "name": "stderr",
     "output_type": "stream",
     "text": [
      " 41%|████▏     | 12/29 [05:46<06:19, 22.30s/it]"
     ]
    },
    {
     "name": "stdout",
     "output_type": "stream",
     "text": [
      "12.0\n"
     ]
    },
    {
     "name": "stderr",
     "output_type": "stream",
     "text": [
      " 45%|████▍     | 13/29 [06:06<05:47, 21.70s/it]"
     ]
    },
    {
     "name": "stdout",
     "output_type": "stream",
     "text": [
      "13.0\n"
     ]
    },
    {
     "name": "stderr",
     "output_type": "stream",
     "text": [
      " 48%|████▊     | 14/29 [06:18<04:43, 18.89s/it]"
     ]
    },
    {
     "name": "stdout",
     "output_type": "stream",
     "text": [
      "14.0\n"
     ]
    },
    {
     "name": "stderr",
     "output_type": "stream",
     "text": [
      " 52%|█████▏    | 15/29 [06:37<04:22, 18.78s/it]"
     ]
    },
    {
     "name": "stdout",
     "output_type": "stream",
     "text": [
      "15.0\n"
     ]
    },
    {
     "name": "stderr",
     "output_type": "stream",
     "text": [
      " 55%|█████▌    | 16/29 [06:50<03:41, 17.02s/it]"
     ]
    },
    {
     "name": "stdout",
     "output_type": "stream",
     "text": [
      "16.0\n"
     ]
    },
    {
     "name": "stderr",
     "output_type": "stream",
     "text": [
      " 59%|█████▊    | 17/29 [07:01<03:01, 15.11s/it]"
     ]
    },
    {
     "name": "stdout",
     "output_type": "stream",
     "text": [
      "17.0\n"
     ]
    },
    {
     "name": "stderr",
     "output_type": "stream",
     "text": [
      " 62%|██████▏   | 18/29 [07:13<02:37, 14.29s/it]"
     ]
    },
    {
     "name": "stdout",
     "output_type": "stream",
     "text": [
      "18.0\n"
     ]
    },
    {
     "name": "stderr",
     "output_type": "stream",
     "text": [
      " 66%|██████▌   | 19/29 [07:21<02:03, 12.34s/it]"
     ]
    },
    {
     "name": "stdout",
     "output_type": "stream",
     "text": [
      "19.0\n"
     ]
    },
    {
     "name": "stderr",
     "output_type": "stream",
     "text": [
      " 69%|██████▉   | 20/29 [07:34<01:53, 12.61s/it]"
     ]
    },
    {
     "name": "stdout",
     "output_type": "stream",
     "text": [
      "20.0\n"
     ]
    },
    {
     "name": "stderr",
     "output_type": "stream",
     "text": [
      " 72%|███████▏  | 21/29 [07:53<01:56, 14.51s/it]"
     ]
    },
    {
     "name": "stdout",
     "output_type": "stream",
     "text": [
      "21.0\n"
     ]
    },
    {
     "name": "stderr",
     "output_type": "stream",
     "text": [
      " 76%|███████▌  | 22/29 [08:06<01:38, 14.11s/it]"
     ]
    },
    {
     "name": "stdout",
     "output_type": "stream",
     "text": [
      "22.0\n"
     ]
    },
    {
     "name": "stderr",
     "output_type": "stream",
     "text": [
      " 79%|███████▉  | 23/29 [08:22<01:28, 14.68s/it]"
     ]
    },
    {
     "name": "stdout",
     "output_type": "stream",
     "text": [
      "23.0\n"
     ]
    },
    {
     "name": "stderr",
     "output_type": "stream",
     "text": [
      " 83%|████████▎ | 24/29 [08:45<01:26, 17.22s/it]"
     ]
    },
    {
     "name": "stdout",
     "output_type": "stream",
     "text": [
      "24.0\n"
     ]
    },
    {
     "name": "stderr",
     "output_type": "stream",
     "text": [
      " 86%|████████▌ | 25/29 [08:54<00:58, 14.72s/it]"
     ]
    },
    {
     "name": "stdout",
     "output_type": "stream",
     "text": [
      "25.0\n"
     ]
    },
    {
     "name": "stderr",
     "output_type": "stream",
     "text": [
      " 90%|████████▉ | 26/29 [09:07<00:42, 14.20s/it]"
     ]
    },
    {
     "name": "stdout",
     "output_type": "stream",
     "text": [
      "26.0\n"
     ]
    },
    {
     "name": "stderr",
     "output_type": "stream",
     "text": [
      " 93%|█████████▎| 27/29 [09:25<00:30, 15.28s/it]"
     ]
    },
    {
     "name": "stdout",
     "output_type": "stream",
     "text": [
      "27.0\n"
     ]
    },
    {
     "name": "stderr",
     "output_type": "stream",
     "text": [
      " 97%|█████████▋| 28/29 [09:41<00:15, 15.52s/it]"
     ]
    },
    {
     "name": "stdout",
     "output_type": "stream",
     "text": [
      "28.0\n"
     ]
    },
    {
     "name": "stderr",
     "output_type": "stream",
     "text": [
      "100%|██████████| 29/29 [09:53<00:00, 20.45s/it]\n",
      "100%|██████████| 29/29 [01:14<00:00,  2.55s/it]\n",
      "100%|██████████| 29/29 [01:09<00:00,  2.40s/it]\n",
      "100%|██████████| 29/29 [00:56<00:00,  1.93s/it]\n",
      "100%|██████████| 29/29 [00:53<00:00,  1.85s/it]\n",
      "100%|██████████| 29/29 [02:00<00:00,  4.16s/it]\n",
      "100%|██████████| 29/29 [02:01<00:00,  4.21s/it]\n",
      "  0%|          | 0/28 [00:00<?, ?it/s]"
     ]
    },
    {
     "name": "stdout",
     "output_type": "stream",
     "text": [
      "0.0\n"
     ]
    },
    {
     "name": "stderr",
     "output_type": "stream",
     "text": [
      "  4%|▎         | 1/28 [03:11<1:26:09, 191.47s/it]"
     ]
    },
    {
     "name": "stdout",
     "output_type": "stream",
     "text": [
      "1.0\n"
     ]
    },
    {
     "name": "stderr",
     "output_type": "stream",
     "text": [
      "  7%|▋         | 2/28 [05:24<1:08:01, 156.97s/it]"
     ]
    },
    {
     "name": "stdout",
     "output_type": "stream",
     "text": [
      "2.0\n"
     ]
    },
    {
     "name": "stderr",
     "output_type": "stream",
     "text": [
      " 11%|█         | 3/28 [07:50<1:03:24, 152.18s/it]"
     ]
    },
    {
     "name": "stdout",
     "output_type": "stream",
     "text": [
      "3.0\n"
     ]
    },
    {
     "name": "stderr",
     "output_type": "stream",
     "text": [
      " 14%|█▍        | 4/28 [12:16<1:18:51, 197.14s/it]"
     ]
    },
    {
     "name": "stdout",
     "output_type": "stream",
     "text": [
      "4.0\n"
     ]
    },
    {
     "name": "stderr",
     "output_type": "stream",
     "text": [
      " 18%|█▊        | 5/28 [15:37<1:16:04, 198.46s/it]"
     ]
    },
    {
     "name": "stdout",
     "output_type": "stream",
     "text": [
      "5.0\n"
     ]
    },
    {
     "name": "stderr",
     "output_type": "stream",
     "text": [
      " 21%|██▏       | 6/28 [17:10<59:39, 162.68s/it]  "
     ]
    },
    {
     "name": "stdout",
     "output_type": "stream",
     "text": [
      "6.0\n"
     ]
    },
    {
     "name": "stderr",
     "output_type": "stream",
     "text": [
      " 25%|██▌       | 7/28 [18:56<50:27, 144.17s/it]"
     ]
    },
    {
     "name": "stdout",
     "output_type": "stream",
     "text": [
      "7.0\n"
     ]
    },
    {
     "name": "stderr",
     "output_type": "stream",
     "text": [
      " 29%|██▊       | 8/28 [5:46:13<35:16:35, 6349.75s/it]"
     ]
    },
    {
     "name": "stdout",
     "output_type": "stream",
     "text": [
      "8.0\n"
     ]
    },
    {
     "name": "stderr",
     "output_type": "stream",
     "text": [
      " 32%|███▏      | 9/28 [5:47:40<23:10:43, 4391.74s/it]"
     ]
    },
    {
     "name": "stdout",
     "output_type": "stream",
     "text": [
      "9.0\n"
     ]
    },
    {
     "name": "stderr",
     "output_type": "stream",
     "text": [
      " 36%|███▌      | 10/28 [5:49:32<15:21:11, 3070.64s/it]"
     ]
    },
    {
     "name": "stdout",
     "output_type": "stream",
     "text": [
      "11.0\n"
     ]
    },
    {
     "name": "stderr",
     "output_type": "stream",
     "text": [
      " 39%|███▉      | 11/28 [5:50:56<10:10:58, 2156.37s/it]"
     ]
    },
    {
     "name": "stdout",
     "output_type": "stream",
     "text": [
      "12.0\n"
     ]
    },
    {
     "name": "stderr",
     "output_type": "stream",
     "text": [
      " 43%|████▎     | 12/28 [5:52:22<6:47:06, 1526.66s/it] "
     ]
    },
    {
     "name": "stdout",
     "output_type": "stream",
     "text": [
      "13.0\n"
     ]
    },
    {
     "name": "stderr",
     "output_type": "stream",
     "text": [
      " 46%|████▋     | 13/28 [5:53:23<4:30:40, 1082.69s/it]"
     ]
    },
    {
     "name": "stdout",
     "output_type": "stream",
     "text": [
      "14.0\n"
     ]
    },
    {
     "name": "stderr",
     "output_type": "stream",
     "text": [
      " 50%|█████     | 14/28 [5:55:00<3:03:10, 785.06s/it] "
     ]
    },
    {
     "name": "stdout",
     "output_type": "stream",
     "text": [
      "15.0\n"
     ]
    },
    {
     "name": "stderr",
     "output_type": "stream",
     "text": [
      " 54%|█████▎    | 15/28 [5:56:03<2:02:53, 567.15s/it]"
     ]
    },
    {
     "name": "stdout",
     "output_type": "stream",
     "text": [
      "17.0\n"
     ]
    },
    {
     "name": "stderr",
     "output_type": "stream",
     "text": [
      " 57%|█████▋    | 16/28 [5:56:56<1:22:29, 412.47s/it]"
     ]
    },
    {
     "name": "stdout",
     "output_type": "stream",
     "text": [
      "18.0\n"
     ]
    },
    {
     "name": "stderr",
     "output_type": "stream",
     "text": [
      " 61%|██████    | 17/28 [5:58:00<56:24, 307.64s/it]  "
     ]
    },
    {
     "name": "stdout",
     "output_type": "stream",
     "text": [
      "19.0\n"
     ]
    },
    {
     "name": "stderr",
     "output_type": "stream",
     "text": [
      " 64%|██████▍   | 18/28 [5:58:40<37:52, 227.24s/it]"
     ]
    },
    {
     "name": "stdout",
     "output_type": "stream",
     "text": [
      "20.0\n"
     ]
    },
    {
     "name": "stderr",
     "output_type": "stream",
     "text": [
      " 68%|██████▊   | 19/28 [5:59:48<26:55, 179.54s/it]"
     ]
    },
    {
     "name": "stdout",
     "output_type": "stream",
     "text": [
      "21.0\n"
     ]
    },
    {
     "name": "stderr",
     "output_type": "stream",
     "text": [
      " 71%|███████▏  | 20/28 [6:01:21<20:26, 153.37s/it]"
     ]
    },
    {
     "name": "stdout",
     "output_type": "stream",
     "text": [
      "23.0\n"
     ]
    },
    {
     "name": "stderr",
     "output_type": "stream",
     "text": [
      " 75%|███████▌  | 21/28 [6:02:25<14:46, 126.63s/it]"
     ]
    },
    {
     "name": "stdout",
     "output_type": "stream",
     "text": [
      "24.0\n"
     ]
    },
    {
     "name": "stderr",
     "output_type": "stream",
     "text": [
      " 79%|███████▊  | 22/28 [6:03:34<10:57, 109.53s/it]"
     ]
    },
    {
     "name": "stdout",
     "output_type": "stream",
     "text": [
      "25.0\n"
     ]
    },
    {
     "name": "stderr",
     "output_type": "stream",
     "text": [
      " 82%|████████▏ | 23/28 [6:05:27<09:12, 110.53s/it]"
     ]
    },
    {
     "name": "stdout",
     "output_type": "stream",
     "text": [
      "26.0\n"
     ]
    },
    {
     "name": "stderr",
     "output_type": "stream",
     "text": [
      " 86%|████████▌ | 24/28 [6:06:22<06:14, 93.74s/it] "
     ]
    },
    {
     "name": "stdout",
     "output_type": "stream",
     "text": [
      "27.0\n"
     ]
    },
    {
     "name": "stderr",
     "output_type": "stream",
     "text": [
      " 89%|████████▉ | 25/28 [6:07:21<04:09, 83.19s/it]"
     ]
    },
    {
     "name": "stdout",
     "output_type": "stream",
     "text": [
      "28.0\n"
     ]
    },
    {
     "name": "stderr",
     "output_type": "stream",
     "text": [
      " 93%|█████████▎| 26/28 [6:09:02<02:57, 88.68s/it]"
     ]
    },
    {
     "name": "stdout",
     "output_type": "stream",
     "text": [
      "29.0\n"
     ]
    },
    {
     "name": "stderr",
     "output_type": "stream",
     "text": [
      " 96%|█████████▋| 27/28 [6:10:14<01:23, 83.68s/it]"
     ]
    },
    {
     "name": "stdout",
     "output_type": "stream",
     "text": [
      "30.0\n"
     ]
    },
    {
     "name": "stderr",
     "output_type": "stream",
     "text": [
      "100%|██████████| 28/28 [6:11:09<00:00, 795.33s/it]\n",
      "100%|██████████| 28/28 [01:10<00:00,  2.53s/it]\n",
      "100%|██████████| 28/28 [01:06<00:00,  2.36s/it]\n",
      "100%|██████████| 28/28 [00:55<00:00,  1.97s/it]\n",
      "100%|██████████| 28/28 [00:50<00:00,  1.82s/it]\n",
      "100%|██████████| 28/28 [01:56<00:00,  4.14s/it]\n",
      "100%|██████████| 28/28 [01:56<00:00,  4.16s/it]\n"
     ]
    },
    {
     "data": {
      "text/plain": [
       "<Figure size 800x550 with 0 Axes>"
      ]
     },
     "metadata": {},
     "output_type": "display_data"
    }
   ],
   "source": [
    "import warnings\n",
    "warnings.filterwarnings('ignore')\n",
    "\n",
    "graph_params = pd.read_excel(r'params\\50_graph_params.xlsx')\n",
    "\n",
    "ex1 = BestNumExperiment(graph_params)\n",
    "ex1.calculate_posdfs()\n",
    "\n",
    "size='50'\n",
    "ex1.make_experiment('gap_statistic')\n",
    "ex1.gap.to_excel(fr'data\\{size}_gap_results.xlsx', index=False)\n",
    "ex1.make_experiment('elbow_method')\n",
    "ex1.elbow.to_excel(fr'data\\{size}_elbow_results.xlsx', index=False)\n",
    "ex1.make_experiment('silhouette')\n",
    "ex1.silhouette.to_excel(fr'data\\{size}_silhouette_results.xlsx', index=False)\n",
    "ex1.make_experiment('calinski_harabasz')\n",
    "ex1.ch.to_excel(fr'data\\{size}_ch_results.xlsx', index=False)\n",
    "ex1.make_experiment('50_mix_ch_elbow')\n",
    "ex1.mix_ch_elbow_50.to_excel(fr'data\\{size}_50_mix_ch_elbow_results.xlsx', index=False)\n",
    "ex1.make_experiment('75_mix_ch_elbow')\n",
    "ex1.mix_ch_elbow_75.to_excel(fr'data\\{size}_75_mix_ch_elbow_results.xlsx', index=False)\n",
    "\n",
    "\n",
    "graph_params = pd.read_excel(r'params\\80_graph_params.xlsx')\n",
    "\n",
    "ex1 = BestNumExperiment(graph_params)\n",
    "ex1.calculate_posdfs()\n",
    "\n",
    "size='80'\n",
    "ex1.make_experiment('gap_statistic')\n",
    "ex1.gap.to_excel(fr'data\\{size}_gap_results.xlsx', index=False)\n",
    "ex1.make_experiment('elbow_method')\n",
    "ex1.elbow.to_excel(fr'data\\{size}_elbow_results.xlsx', index=False)\n",
    "ex1.make_experiment('silhouette')\n",
    "ex1.silhouette.to_excel(fr'data\\{size}_silhouette_results.xlsx', index=False)\n",
    "ex1.make_experiment('calinski_harabasz')\n",
    "ex1.ch.to_excel(fr'data\\{size}_ch_results.xlsx', index=False)\n",
    "ex1.make_experiment('50_mix_ch_elbow')\n",
    "ex1.mix_ch_elbow_50.to_excel(fr'data\\{size}_50_mix_ch_elbow_results.xlsx', index=False)\n",
    "ex1.make_experiment('75_mix_ch_elbow')\n",
    "ex1.mix_ch_elbow_75.to_excel(fr'data\\{size}_75_mix_ch_elbow_results.xlsx', index=False)\n",
    "\n",
    "graph_params = pd.read_excel(r'params\\100_graph_params.xlsx')\n",
    "\n",
    "ex1 = BestNumExperiment(graph_params)\n",
    "ex1.calculate_posdfs()\n",
    "\n",
    "size='100'\n",
    "ex1.make_experiment('gap_statistic')\n",
    "ex1.gap.to_excel(fr'data\\{size}_gap_results.xlsx', index=False)\n",
    "ex1.make_experiment('elbow_method')\n",
    "ex1.elbow.to_excel(fr'data\\{size}_elbow_results.xlsx', index=False)\n",
    "ex1.make_experiment('silhouette')\n",
    "ex1.silhouette.to_excel(fr'data\\{size}_silhouette_results.xlsx', index=False)\n",
    "ex1.make_experiment('calinski_harabasz')\n",
    "ex1.ch.to_excel(fr'data\\{size}_ch_results.xlsx', index=False)\n",
    "ex1.make_experiment('50_mix_ch_elbow')\n",
    "ex1.mix_ch_elbow_50.to_excel(fr'data\\{size}_50_mix_ch_elbow_results.xlsx', index=False)\n",
    "ex1.make_experiment('75_mix_ch_elbow')\n",
    "ex1.mix_ch_elbow_75.to_excel(fr'data\\{size}_75_mix_ch_elbow_results.xlsx', index=False)\n",
    "\n",
    "\n",
    "graph_params = pd.read_excel(r'params\\150_graph_params.xlsx')\n",
    "\n",
    "ex1 = BestNumExperiment(graph_params)\n",
    "ex1.calculate_posdfs()\n",
    "\n",
    "size='150'\n",
    "ex1.make_experiment('gap_statistic')\n",
    "ex1.gap.to_excel(fr'data\\{size}_gap_results.xlsx', index=False)\n",
    "ex1.make_experiment('elbow_method')\n",
    "ex1.elbow.to_excel(fr'data\\{size}_elbow_results.xlsx', index=False)\n",
    "ex1.make_experiment('silhouette')\n",
    "ex1.silhouette.to_excel(fr'data\\{size}_silhouette_results.xlsx', index=False)\n",
    "ex1.make_experiment('calinski_harabasz')\n",
    "ex1.ch.to_excel(fr'data\\{size}_ch_results.xlsx', index=False)\n",
    "ex1.make_experiment('50_mix_ch_elbow')\n",
    "ex1.mix_ch_elbow_50.to_excel(fr'data\\{size}_50_mix_ch_elbow_results.xlsx', index=False)\n",
    "ex1.make_experiment('75_mix_ch_elbow')\n",
    "ex1.mix_ch_elbow_75.to_excel(fr'data\\{size}_75_mix_ch_elbow_results.xlsx', index=False)"
   ]
  },
  {
   "cell_type": "code",
   "execution_count": 6,
   "metadata": {},
   "outputs": [
    {
     "data": {
      "text/plain": [
       "Index(['graph_id', 'size', 'no_comms', 'inside_prob', 'outside_prob'], dtype='object')"
      ]
     },
     "execution_count": 6,
     "metadata": {},
     "output_type": "execute_result"
    }
   ],
   "source": [
    "ex1.graph_params.columns"
   ]
  },
  {
   "cell_type": "markdown",
   "metadata": {},
   "source": [
    "# Narrowed down experiment"
   ]
  },
  {
   "cell_type": "code",
   "execution_count": null,
   "metadata": {},
   "outputs": [],
   "source": []
  },
  {
   "cell_type": "code",
   "execution_count": 19,
   "metadata": {},
   "outputs": [
    {
     "data": {
      "text/plain": [
       "[5, 5, 5, 5, 5, 5]"
      ]
     },
     "execution_count": 19,
     "metadata": {},
     "output_type": "execute_result"
    }
   ],
   "source": [
    "[5]*6"
   ]
  },
  {
   "cell_type": "code",
   "execution_count": 29,
   "metadata": {},
   "outputs": [],
   "source": [
    "import random\n",
    "graph_params = {\n",
    "    'inside_prob': [0.5, 0.5, 0.4, 0.4, 0.4, 0.7, 0.7, 0.7, 0.6, 0.3, 0.3]*6,\n",
    "    'outside_prob': [0.01, 0.02, 0.01, 0.05, 0.07, 0.01, 0.02, 0.05, 0.01, 0.02, 0.05]*6\n",
    "}\n",
    "# n- len of insie prob\n",
    "n= 11\n",
    "graph_params = pd.DataFrame(graph_params)\n",
    "no_comms = [random.uniform(2, 7) for _ in range(n)]*6\n",
    "graph_params['no_comms'] = no_comms\n",
    "# graph_params['size'] = 300\n",
    "graph_params['size'] = [100]*n +[200]*n + [300]*n+[400]*n+[500]*n+[600]*n\n",
    "graph_params['graph_id']= list(range(len(graph_params)))"
   ]
  },
  {
   "cell_type": "code",
   "execution_count": 11,
   "metadata": {},
   "outputs": [],
   "source": [
    "from tqdm import tqdm \n",
    "\n",
    "class NarrowedBestNumExperiment():\n",
    "    def __init__(self, graph_params:pd.DataFrame):\n",
    "        self.graph_params = graph_params\n",
    "        self.graph_posdfs = {}\n",
    "\n",
    "    def calculate_posdfs_grahopt(self, from_file=None):\n",
    "        if from_file==None:\n",
    "            for _, row in tqdm(self.graph_params.iterrows(), total=self.graph_params.shape[0]):\n",
    "                print(row['graph_id'])\n",
    "                (G, true_labels) = generate_G_randomized(int(row['size']), int(row['no_comms']), row['inside_prob'], row['outside_prob'])\n",
    "                self.graph_posdfs[row['graph_id']] = {}\n",
    "                assor = nx.numeric_assortativity_coefficient(G, \"community\")\n",
    "                self.graph_posdfs[row['graph_id']]['assortativity'] = assor\n",
    "                # layout_names = ['kamada_kawai', 'spring', 'davidson_harel', 'drl', 'fruchterman_reingold', 'graphopt', 'lgl','mds']\n",
    "                # for layout_name in layout_names:\n",
    "                posdf = posdf_from_layout(G, 'graphopt')\n",
    "                    \n",
    "                # Store the posdf DataFrame in the nested dictionary\n",
    "                self.graph_posdfs[row['graph_id']]['graphopt'] = posdf\n",
    "        else:\n",
    "            self.graph_posdfs\n",
    "    \n",
    "\n",
    "    def make_experiment(self, best_num_algo_name):\n",
    "        #iterating through all the graphs\n",
    "        results = pd.DataFrame(columns=['graph_id', 'assortativity', 'layout_name', 'no_communities', 'calculated_bestnum'])\n",
    "        for _, row in tqdm(self.graph_params.iterrows(), total=self.graph_params.shape[0]):\n",
    "        # for _, row in self.graph_params.iterrows():\n",
    "            # (G, true_labels) = generate_G_randomized(int(row['size']), int(row['no_comms']), row['inside_prob'], row['outside_prob'])\n",
    "            # assor = nx.numeric_assortativity_coefficient(G, \"community\")\n",
    "            # layout_names = ['kamada_kawai', 'spring', 'davidson_harel', 'drl', 'fruchterman_reingold', 'graphopt', 'lgl','mds']\n",
    "            # for layout_name in layout_names:\n",
    "            # posdf = posdf_from_layout(G, layout_name)\n",
    "            layout_name='graphopt'\n",
    "            posdf = self.graph_posdfs[row['graph_id']][layout_name]\n",
    "            if best_num_algo_name == 'gap_statistic':\n",
    "                (best_num, _) = gap_statistic_best_num(posdf)\n",
    "            elif best_num_algo_name == 'elbow_method':\n",
    "                (best_num, _) = elbow_method_best_num(posdf)\n",
    "            elif best_num_algo_name == 'silhouette':\n",
    "                (best_num, _) = silhouette_best_num(posdf)\n",
    "            elif best_num_algo_name == 'calinski_harabasz':\n",
    "                (best_num, _) = calinski_harabasz_best_num(posdf)\n",
    "            elif best_num_algo_name == '50_mix_ch_elbow':\n",
    "                best_num = mix_ch_elbow(posdf, .5, .5)\n",
    "            elif best_num_algo_name == '75_mix_ch_elbow':\n",
    "                best_num = mix_ch_elbow(posdf, .75, .25)\n",
    "            elif best_num_algo_name == 'BIC':\n",
    "                (best_num, _) = BIC_best_num(posdf)\n",
    "            else:\n",
    "                raise ValueError('Incorrect algorith name, probably a typo')\n",
    "\n",
    "            new_row = {'graph_id':[int(row['graph_id'])], \n",
    "                        'assortativity': [self.graph_posdfs[row['graph_id']]['assortativity']], \n",
    "                        'size' : [int(row['size'])],\n",
    "                        'layout_name': [layout_name], \n",
    "                        'no_communities': [int(row['no_comms'])],\n",
    "                        'calculated_bestnum':[int(best_num)]}\n",
    "            # print(new_row)\n",
    "            results = pd.concat([results, pd.DataFrame(new_row)])\n",
    "                \n",
    "        if best_num_algo_name == 'gap_statistic':\n",
    "            self.gap= results\n",
    "        elif best_num_algo_name == 'elbow_method':\n",
    "            self.elbow = results\n",
    "        elif best_num_algo_name == 'silhouette':\n",
    "            self.silhouette = results\n",
    "        elif best_num_algo_name == 'calinski_harabasz':\n",
    "            self.ch = results\n",
    "        elif best_num_algo_name == '50_mix_ch_elbow':\n",
    "            self.mix_ch_elbow_50 = results\n",
    "        elif best_num_algo_name == '75_mix_ch_elbow':\n",
    "            self.mix_ch_elbow_75 = results\n",
    "        elif best_num_algo_name == 'BIC':\n",
    "            self.bic = results\n"
   ]
  },
  {
   "cell_type": "code",
   "execution_count": 30,
   "metadata": {},
   "outputs": [
    {
     "name": "stderr",
     "output_type": "stream",
     "text": [
      "  2%|▏         | 1/66 [00:00<00:07,  8.96it/s]"
     ]
    },
    {
     "name": "stdout",
     "output_type": "stream",
     "text": [
      "0.0\n",
      "1.0\n",
      "2.0\n"
     ]
    },
    {
     "name": "stderr",
     "output_type": "stream",
     "text": [
      "  8%|▊         | 5/66 [00:00<00:04, 12.44it/s]"
     ]
    },
    {
     "name": "stdout",
     "output_type": "stream",
     "text": [
      "3.0\n",
      "4.0\n",
      "5.0\n",
      "6.0\n"
     ]
    },
    {
     "name": "stderr",
     "output_type": "stream",
     "text": [
      " 14%|█▎        | 9/66 [00:00<00:04, 13.39it/s]"
     ]
    },
    {
     "name": "stdout",
     "output_type": "stream",
     "text": [
      "7.0\n",
      "8.0\n",
      "9.0\n",
      "10.0\n"
     ]
    },
    {
     "name": "stderr",
     "output_type": "stream",
     "text": [
      " 17%|█▋        | 11/66 [00:00<00:03, 14.22it/s]"
     ]
    },
    {
     "name": "stdout",
     "output_type": "stream",
     "text": [
      "11.0\n"
     ]
    },
    {
     "name": "stderr",
     "output_type": "stream",
     "text": [
      " 20%|█▉        | 13/66 [00:01<00:07,  6.94it/s]"
     ]
    },
    {
     "name": "stdout",
     "output_type": "stream",
     "text": [
      "12.0\n",
      "13.0\n",
      "14.0\n"
     ]
    },
    {
     "name": "stderr",
     "output_type": "stream",
     "text": [
      " 23%|██▎       | 15/66 [00:02<00:13,  3.66it/s]"
     ]
    },
    {
     "name": "stdout",
     "output_type": "stream",
     "text": [
      "15.0\n"
     ]
    },
    {
     "name": "stderr",
     "output_type": "stream",
     "text": [
      " 24%|██▍       | 16/66 [00:03<00:17,  2.89it/s]"
     ]
    },
    {
     "name": "stdout",
     "output_type": "stream",
     "text": [
      "16.0\n"
     ]
    },
    {
     "name": "stderr",
     "output_type": "stream",
     "text": [
      " 26%|██▌       | 17/66 [00:03<00:16,  2.96it/s]"
     ]
    },
    {
     "name": "stdout",
     "output_type": "stream",
     "text": [
      "17.0\n"
     ]
    },
    {
     "name": "stderr",
     "output_type": "stream",
     "text": [
      " 27%|██▋       | 18/66 [00:03<00:16,  2.86it/s]"
     ]
    },
    {
     "name": "stdout",
     "output_type": "stream",
     "text": [
      "18.0\n"
     ]
    },
    {
     "name": "stderr",
     "output_type": "stream",
     "text": [
      " 29%|██▉       | 19/66 [00:04<00:16,  2.93it/s]"
     ]
    },
    {
     "name": "stdout",
     "output_type": "stream",
     "text": [
      "19.0\n"
     ]
    },
    {
     "name": "stderr",
     "output_type": "stream",
     "text": [
      " 30%|███       | 20/66 [00:04<00:15,  2.98it/s]"
     ]
    },
    {
     "name": "stdout",
     "output_type": "stream",
     "text": [
      "20.0\n"
     ]
    },
    {
     "name": "stderr",
     "output_type": "stream",
     "text": [
      " 32%|███▏      | 21/66 [00:04<00:15,  2.99it/s]"
     ]
    },
    {
     "name": "stdout",
     "output_type": "stream",
     "text": [
      "21.0\n"
     ]
    },
    {
     "name": "stderr",
     "output_type": "stream",
     "text": [
      " 33%|███▎      | 22/66 [00:05<00:13,  3.17it/s]"
     ]
    },
    {
     "name": "stdout",
     "output_type": "stream",
     "text": [
      "22.0\n"
     ]
    },
    {
     "name": "stderr",
     "output_type": "stream",
     "text": [
      " 35%|███▍      | 23/66 [00:05<00:16,  2.64it/s]"
     ]
    },
    {
     "name": "stdout",
     "output_type": "stream",
     "text": [
      "23.0\n"
     ]
    },
    {
     "name": "stderr",
     "output_type": "stream",
     "text": [
      " 36%|███▋      | 24/66 [00:06<00:17,  2.38it/s]"
     ]
    },
    {
     "name": "stdout",
     "output_type": "stream",
     "text": [
      "24.0\n"
     ]
    },
    {
     "name": "stderr",
     "output_type": "stream",
     "text": [
      " 38%|███▊      | 25/66 [00:06<00:19,  2.14it/s]"
     ]
    },
    {
     "name": "stdout",
     "output_type": "stream",
     "text": [
      "25.0\n"
     ]
    },
    {
     "name": "stderr",
     "output_type": "stream",
     "text": [
      " 39%|███▉      | 26/66 [00:07<00:19,  2.04it/s]"
     ]
    },
    {
     "name": "stdout",
     "output_type": "stream",
     "text": [
      "26.0\n"
     ]
    },
    {
     "name": "stderr",
     "output_type": "stream",
     "text": [
      " 41%|████      | 27/66 [00:07<00:20,  1.89it/s]"
     ]
    },
    {
     "name": "stdout",
     "output_type": "stream",
     "text": [
      "27.0\n"
     ]
    },
    {
     "name": "stderr",
     "output_type": "stream",
     "text": [
      " 42%|████▏     | 28/66 [00:08<00:20,  1.81it/s]"
     ]
    },
    {
     "name": "stdout",
     "output_type": "stream",
     "text": [
      "28.0\n"
     ]
    },
    {
     "name": "stderr",
     "output_type": "stream",
     "text": [
      " 44%|████▍     | 29/66 [00:09<00:20,  1.81it/s]"
     ]
    },
    {
     "name": "stdout",
     "output_type": "stream",
     "text": [
      "29.0\n"
     ]
    },
    {
     "name": "stderr",
     "output_type": "stream",
     "text": [
      " 45%|████▌     | 30/66 [00:09<00:23,  1.54it/s]"
     ]
    },
    {
     "name": "stdout",
     "output_type": "stream",
     "text": [
      "30.0\n"
     ]
    },
    {
     "name": "stderr",
     "output_type": "stream",
     "text": [
      " 47%|████▋     | 31/66 [00:10<00:24,  1.45it/s]"
     ]
    },
    {
     "name": "stdout",
     "output_type": "stream",
     "text": [
      "31.0\n"
     ]
    },
    {
     "name": "stderr",
     "output_type": "stream",
     "text": [
      " 48%|████▊     | 32/66 [00:12<00:31,  1.09it/s]"
     ]
    },
    {
     "name": "stdout",
     "output_type": "stream",
     "text": [
      "32.0\n"
     ]
    },
    {
     "name": "stderr",
     "output_type": "stream",
     "text": [
      " 50%|█████     | 33/66 [00:12<00:29,  1.12it/s]"
     ]
    },
    {
     "name": "stdout",
     "output_type": "stream",
     "text": [
      "33.0\n"
     ]
    },
    {
     "name": "stderr",
     "output_type": "stream",
     "text": [
      " 52%|█████▏    | 34/66 [00:14<00:32,  1.02s/it]"
     ]
    },
    {
     "name": "stdout",
     "output_type": "stream",
     "text": [
      "34.0\n"
     ]
    },
    {
     "name": "stderr",
     "output_type": "stream",
     "text": [
      " 53%|█████▎    | 35/66 [00:15<00:32,  1.04s/it]"
     ]
    },
    {
     "name": "stdout",
     "output_type": "stream",
     "text": [
      "35.0\n"
     ]
    },
    {
     "name": "stderr",
     "output_type": "stream",
     "text": [
      " 55%|█████▍    | 36/66 [00:16<00:32,  1.09s/it]"
     ]
    },
    {
     "name": "stdout",
     "output_type": "stream",
     "text": [
      "36.0\n"
     ]
    },
    {
     "name": "stderr",
     "output_type": "stream",
     "text": [
      " 56%|█████▌    | 37/66 [00:17<00:30,  1.06s/it]"
     ]
    },
    {
     "name": "stdout",
     "output_type": "stream",
     "text": [
      "37.0\n"
     ]
    },
    {
     "name": "stderr",
     "output_type": "stream",
     "text": [
      " 58%|█████▊    | 38/66 [00:18<00:30,  1.09s/it]"
     ]
    },
    {
     "name": "stdout",
     "output_type": "stream",
     "text": [
      "38.0\n"
     ]
    },
    {
     "name": "stderr",
     "output_type": "stream",
     "text": [
      " 59%|█████▉    | 39/66 [00:19<00:29,  1.09s/it]"
     ]
    },
    {
     "name": "stdout",
     "output_type": "stream",
     "text": [
      "39.0\n"
     ]
    },
    {
     "name": "stderr",
     "output_type": "stream",
     "text": [
      " 61%|██████    | 40/66 [00:21<00:33,  1.28s/it]"
     ]
    },
    {
     "name": "stdout",
     "output_type": "stream",
     "text": [
      "40.0\n"
     ]
    },
    {
     "name": "stderr",
     "output_type": "stream",
     "text": [
      " 62%|██████▏   | 41/66 [00:22<00:31,  1.28s/it]"
     ]
    },
    {
     "name": "stdout",
     "output_type": "stream",
     "text": [
      "41.0\n"
     ]
    },
    {
     "name": "stderr",
     "output_type": "stream",
     "text": [
      " 64%|██████▎   | 42/66 [00:23<00:29,  1.24s/it]"
     ]
    },
    {
     "name": "stdout",
     "output_type": "stream",
     "text": [
      "42.0\n"
     ]
    },
    {
     "name": "stderr",
     "output_type": "stream",
     "text": [
      " 65%|██████▌   | 43/66 [00:25<00:31,  1.35s/it]"
     ]
    },
    {
     "name": "stdout",
     "output_type": "stream",
     "text": [
      "43.0\n"
     ]
    },
    {
     "name": "stderr",
     "output_type": "stream",
     "text": [
      " 67%|██████▋   | 44/66 [00:26<00:28,  1.29s/it]"
     ]
    },
    {
     "name": "stdout",
     "output_type": "stream",
     "text": [
      "44.0\n"
     ]
    },
    {
     "name": "stderr",
     "output_type": "stream",
     "text": [
      " 68%|██████▊   | 45/66 [00:28<00:32,  1.53s/it]"
     ]
    },
    {
     "name": "stdout",
     "output_type": "stream",
     "text": [
      "45.0\n"
     ]
    },
    {
     "name": "stderr",
     "output_type": "stream",
     "text": [
      " 70%|██████▉   | 46/66 [00:31<00:39,  1.96s/it]"
     ]
    },
    {
     "name": "stdout",
     "output_type": "stream",
     "text": [
      "46.0\n"
     ]
    },
    {
     "name": "stderr",
     "output_type": "stream",
     "text": [
      " 71%|███████   | 47/66 [00:35<00:44,  2.35s/it]"
     ]
    },
    {
     "name": "stdout",
     "output_type": "stream",
     "text": [
      "47.0\n"
     ]
    },
    {
     "name": "stderr",
     "output_type": "stream",
     "text": [
      " 73%|███████▎  | 48/66 [00:38<00:50,  2.81s/it]"
     ]
    },
    {
     "name": "stdout",
     "output_type": "stream",
     "text": [
      "48.0\n"
     ]
    },
    {
     "name": "stderr",
     "output_type": "stream",
     "text": [
      " 74%|███████▍  | 49/66 [00:42<00:50,  2.97s/it]"
     ]
    },
    {
     "name": "stdout",
     "output_type": "stream",
     "text": [
      "49.0\n"
     ]
    },
    {
     "name": "stderr",
     "output_type": "stream",
     "text": [
      " 76%|███████▌  | 50/66 [00:45<00:48,  3.05s/it]"
     ]
    },
    {
     "name": "stdout",
     "output_type": "stream",
     "text": [
      "50.0\n"
     ]
    },
    {
     "name": "stderr",
     "output_type": "stream",
     "text": [
      " 77%|███████▋  | 51/66 [00:49<00:48,  3.26s/it]"
     ]
    },
    {
     "name": "stdout",
     "output_type": "stream",
     "text": [
      "51.0\n"
     ]
    },
    {
     "name": "stderr",
     "output_type": "stream",
     "text": [
      " 79%|███████▉  | 52/66 [00:52<00:47,  3.39s/it]"
     ]
    },
    {
     "name": "stdout",
     "output_type": "stream",
     "text": [
      "52.0\n"
     ]
    },
    {
     "name": "stderr",
     "output_type": "stream",
     "text": [
      " 80%|████████  | 53/66 [00:55<00:40,  3.08s/it]"
     ]
    },
    {
     "name": "stdout",
     "output_type": "stream",
     "text": [
      "53.0\n"
     ]
    },
    {
     "name": "stderr",
     "output_type": "stream",
     "text": [
      " 82%|████████▏ | 54/66 [00:58<00:38,  3.19s/it]"
     ]
    },
    {
     "name": "stdout",
     "output_type": "stream",
     "text": [
      "54.0\n"
     ]
    },
    {
     "name": "stderr",
     "output_type": "stream",
     "text": [
      " 83%|████████▎ | 55/66 [01:00<00:31,  2.90s/it]"
     ]
    },
    {
     "name": "stdout",
     "output_type": "stream",
     "text": [
      "55.0\n"
     ]
    },
    {
     "name": "stderr",
     "output_type": "stream",
     "text": [
      " 85%|████████▍ | 56/66 [01:03<00:27,  2.79s/it]"
     ]
    },
    {
     "name": "stdout",
     "output_type": "stream",
     "text": [
      "56.0\n"
     ]
    },
    {
     "name": "stderr",
     "output_type": "stream",
     "text": [
      " 86%|████████▋ | 57/66 [01:06<00:25,  2.84s/it]"
     ]
    },
    {
     "name": "stdout",
     "output_type": "stream",
     "text": [
      "57.0\n"
     ]
    },
    {
     "name": "stderr",
     "output_type": "stream",
     "text": [
      " 88%|████████▊ | 58/66 [01:11<00:27,  3.39s/it]"
     ]
    },
    {
     "name": "stdout",
     "output_type": "stream",
     "text": [
      "58.0\n"
     ]
    },
    {
     "name": "stderr",
     "output_type": "stream",
     "text": [
      " 89%|████████▉ | 59/66 [01:14<00:23,  3.38s/it]"
     ]
    },
    {
     "name": "stdout",
     "output_type": "stream",
     "text": [
      "59.0\n"
     ]
    },
    {
     "name": "stderr",
     "output_type": "stream",
     "text": [
      " 91%|█████████ | 60/66 [01:18<00:21,  3.53s/it]"
     ]
    },
    {
     "name": "stdout",
     "output_type": "stream",
     "text": [
      "60.0\n"
     ]
    },
    {
     "name": "stderr",
     "output_type": "stream",
     "text": [
      " 92%|█████████▏| 61/66 [01:21<00:17,  3.45s/it]"
     ]
    },
    {
     "name": "stdout",
     "output_type": "stream",
     "text": [
      "61.0\n"
     ]
    },
    {
     "name": "stderr",
     "output_type": "stream",
     "text": [
      " 94%|█████████▍| 62/66 [01:24<00:12,  3.24s/it]"
     ]
    },
    {
     "name": "stdout",
     "output_type": "stream",
     "text": [
      "62.0\n"
     ]
    },
    {
     "name": "stderr",
     "output_type": "stream",
     "text": [
      " 95%|█████████▌| 63/66 [01:27<00:09,  3.26s/it]"
     ]
    },
    {
     "name": "stdout",
     "output_type": "stream",
     "text": [
      "63.0\n"
     ]
    },
    {
     "name": "stderr",
     "output_type": "stream",
     "text": [
      " 97%|█████████▋| 64/66 [01:31<00:06,  3.35s/it]"
     ]
    },
    {
     "name": "stdout",
     "output_type": "stream",
     "text": [
      "64.0\n"
     ]
    },
    {
     "name": "stderr",
     "output_type": "stream",
     "text": [
      " 98%|█████████▊| 65/66 [01:34<00:03,  3.29s/it]"
     ]
    },
    {
     "name": "stdout",
     "output_type": "stream",
     "text": [
      "65.0\n"
     ]
    },
    {
     "name": "stderr",
     "output_type": "stream",
     "text": [
      "100%|██████████| 66/66 [01:37<00:00,  1.48s/it]\n",
      "100%|██████████| 66/66 [00:30<00:00,  2.15it/s]\n",
      "100%|██████████| 66/66 [00:23<00:00,  2.86it/s]\n",
      "100%|██████████| 66/66 [00:21<00:00,  3.09it/s]\n",
      "100%|██████████| 66/66 [00:17<00:00,  3.82it/s]\n",
      "100%|██████████| 66/66 [00:39<00:00,  1.69it/s]\n",
      "100%|██████████| 66/66 [00:38<00:00,  1.73it/s]\n"
     ]
    }
   ],
   "source": [
    "ex = NarrowedBestNumExperiment(graph_params)\n",
    "ex.calculate_posdfs_grahopt()\n",
    "\n",
    "ex.make_experiment('gap_statistic')\n",
    "ex.gap.to_excel(fr'only_graphopt_experiment\\graphopt_gap_results.xlsx', index=False)\n",
    "ex.make_experiment('elbow_method')\n",
    "ex.elbow.to_excel(fr'only_graphopt_experiment\\graphopt_elbow_results.xlsx', index=False)\n",
    "ex.make_experiment('silhouette')\n",
    "ex.silhouette.to_excel(fr'only_graphopt_experiment\\graphopt_silhouette_results.xlsx', index=False)\n",
    "ex.make_experiment('calinski_harabasz')\n",
    "ex.ch.to_excel(fr'only_graphopt_experiment\\graphopt_ch_results.xlsx', index=False)\n",
    "ex.make_experiment('50_mix_ch_elbow')\n",
    "ex.mix_ch_elbow_50.to_excel(fr'only_graphopt_experiment\\graphopt_50_mix_ch_elbow_results.xlsx', index=False)\n",
    "ex.make_experiment('75_mix_ch_elbow')\n",
    "ex.mix_ch_elbow_75.to_excel(fr'only_graphopt_experiment\\graphopt_75_mix_ch_elbow_results.xlsx', index=False)"
   ]
  },
  {
   "cell_type": "code",
   "execution_count": 25,
   "metadata": {},
   "outputs": [
    {
     "data": {
      "text/plain": [
       "0.5059779771210999"
      ]
     },
     "execution_count": 25,
     "metadata": {},
     "output_type": "execute_result"
    }
   ],
   "source": [
    "min(ex.ch['assortativity'])"
   ]
  },
  {
   "cell_type": "code",
   "execution_count": 24,
   "metadata": {},
   "outputs": [
    {
     "data": {
      "text/html": [
       "<div>\n",
       "<style scoped>\n",
       "    .dataframe tbody tr th:only-of-type {\n",
       "        vertical-align: middle;\n",
       "    }\n",
       "\n",
       "    .dataframe tbody tr th {\n",
       "        vertical-align: top;\n",
       "    }\n",
       "\n",
       "    .dataframe thead th {\n",
       "        text-align: right;\n",
       "    }\n",
       "</style>\n",
       "<table border=\"1\" class=\"dataframe\">\n",
       "  <thead>\n",
       "    <tr style=\"text-align: right;\">\n",
       "      <th></th>\n",
       "      <th>graph_id</th>\n",
       "      <th>assortativity</th>\n",
       "      <th>layout_name</th>\n",
       "      <th>no_communities</th>\n",
       "      <th>calculated_bestnum</th>\n",
       "      <th>size</th>\n",
       "    </tr>\n",
       "  </thead>\n",
       "  <tbody>\n",
       "    <tr>\n",
       "      <th>0</th>\n",
       "      <td>0</td>\n",
       "      <td>0.880479</td>\n",
       "      <td>graphopt</td>\n",
       "      <td>6</td>\n",
       "      <td>6</td>\n",
       "      <td>100.0</td>\n",
       "    </tr>\n",
       "    <tr>\n",
       "      <th>0</th>\n",
       "      <td>1</td>\n",
       "      <td>0.800390</td>\n",
       "      <td>graphopt</td>\n",
       "      <td>6</td>\n",
       "      <td>5</td>\n",
       "      <td>100.0</td>\n",
       "    </tr>\n",
       "    <tr>\n",
       "      <th>0</th>\n",
       "      <td>2</td>\n",
       "      <td>0.891334</td>\n",
       "      <td>graphopt</td>\n",
       "      <td>4</td>\n",
       "      <td>4</td>\n",
       "      <td>100.0</td>\n",
       "    </tr>\n",
       "    <tr>\n",
       "      <th>0</th>\n",
       "      <td>3</td>\n",
       "      <td>0.549456</td>\n",
       "      <td>graphopt</td>\n",
       "      <td>6</td>\n",
       "      <td>3</td>\n",
       "      <td>100.0</td>\n",
       "    </tr>\n",
       "    <tr>\n",
       "      <th>0</th>\n",
       "      <td>4</td>\n",
       "      <td>0.700072</td>\n",
       "      <td>graphopt</td>\n",
       "      <td>2</td>\n",
       "      <td>2</td>\n",
       "      <td>100.0</td>\n",
       "    </tr>\n",
       "    <tr>\n",
       "      <th>0</th>\n",
       "      <td>5</td>\n",
       "      <td>0.938109</td>\n",
       "      <td>graphopt</td>\n",
       "      <td>6</td>\n",
       "      <td>2</td>\n",
       "      <td>100.0</td>\n",
       "    </tr>\n",
       "    <tr>\n",
       "      <th>0</th>\n",
       "      <td>6</td>\n",
       "      <td>0.927512</td>\n",
       "      <td>graphopt</td>\n",
       "      <td>2</td>\n",
       "      <td>2</td>\n",
       "      <td>100.0</td>\n",
       "    </tr>\n",
       "    <tr>\n",
       "      <th>0</th>\n",
       "      <td>7</td>\n",
       "      <td>0.751499</td>\n",
       "      <td>graphopt</td>\n",
       "      <td>4</td>\n",
       "      <td>2</td>\n",
       "      <td>100.0</td>\n",
       "    </tr>\n",
       "    <tr>\n",
       "      <th>0</th>\n",
       "      <td>8</td>\n",
       "      <td>0.949236</td>\n",
       "      <td>graphopt</td>\n",
       "      <td>4</td>\n",
       "      <td>4</td>\n",
       "      <td>100.0</td>\n",
       "    </tr>\n",
       "    <tr>\n",
       "      <th>0</th>\n",
       "      <td>9</td>\n",
       "      <td>0.906524</td>\n",
       "      <td>graphopt</td>\n",
       "      <td>5</td>\n",
       "      <td>5</td>\n",
       "      <td>200.0</td>\n",
       "    </tr>\n",
       "    <tr>\n",
       "      <th>0</th>\n",
       "      <td>10</td>\n",
       "      <td>0.859252</td>\n",
       "      <td>graphopt</td>\n",
       "      <td>4</td>\n",
       "      <td>4</td>\n",
       "      <td>200.0</td>\n",
       "    </tr>\n",
       "    <tr>\n",
       "      <th>0</th>\n",
       "      <td>11</td>\n",
       "      <td>0.855295</td>\n",
       "      <td>graphopt</td>\n",
       "      <td>6</td>\n",
       "      <td>6</td>\n",
       "      <td>200.0</td>\n",
       "    </tr>\n",
       "    <tr>\n",
       "      <th>0</th>\n",
       "      <td>12</td>\n",
       "      <td>0.754248</td>\n",
       "      <td>graphopt</td>\n",
       "      <td>2</td>\n",
       "      <td>2</td>\n",
       "      <td>200.0</td>\n",
       "    </tr>\n",
       "    <tr>\n",
       "      <th>0</th>\n",
       "      <td>13</td>\n",
       "      <td>0.553706</td>\n",
       "      <td>graphopt</td>\n",
       "      <td>4</td>\n",
       "      <td>4</td>\n",
       "      <td>200.0</td>\n",
       "    </tr>\n",
       "    <tr>\n",
       "      <th>0</th>\n",
       "      <td>14</td>\n",
       "      <td>0.914814</td>\n",
       "      <td>graphopt</td>\n",
       "      <td>6</td>\n",
       "      <td>2</td>\n",
       "      <td>200.0</td>\n",
       "    </tr>\n",
       "    <tr>\n",
       "      <th>0</th>\n",
       "      <td>15</td>\n",
       "      <td>0.918878</td>\n",
       "      <td>graphopt</td>\n",
       "      <td>3</td>\n",
       "      <td>3</td>\n",
       "      <td>200.0</td>\n",
       "    </tr>\n",
       "    <tr>\n",
       "      <th>0</th>\n",
       "      <td>16</td>\n",
       "      <td>0.830946</td>\n",
       "      <td>graphopt</td>\n",
       "      <td>3</td>\n",
       "      <td>3</td>\n",
       "      <td>200.0</td>\n",
       "    </tr>\n",
       "    <tr>\n",
       "      <th>0</th>\n",
       "      <td>17</td>\n",
       "      <td>0.938898</td>\n",
       "      <td>graphopt</td>\n",
       "      <td>3</td>\n",
       "      <td>3</td>\n",
       "      <td>200.0</td>\n",
       "    </tr>\n",
       "    <tr>\n",
       "      <th>0</th>\n",
       "      <td>18</td>\n",
       "      <td>0.956567</td>\n",
       "      <td>graphopt</td>\n",
       "      <td>2</td>\n",
       "      <td>4</td>\n",
       "      <td>300.0</td>\n",
       "    </tr>\n",
       "    <tr>\n",
       "      <th>0</th>\n",
       "      <td>19</td>\n",
       "      <td>0.797450</td>\n",
       "      <td>graphopt</td>\n",
       "      <td>6</td>\n",
       "      <td>3</td>\n",
       "      <td>300.0</td>\n",
       "    </tr>\n",
       "    <tr>\n",
       "      <th>0</th>\n",
       "      <td>20</td>\n",
       "      <td>0.946279</td>\n",
       "      <td>graphopt</td>\n",
       "      <td>2</td>\n",
       "      <td>2</td>\n",
       "      <td>300.0</td>\n",
       "    </tr>\n",
       "    <tr>\n",
       "      <th>0</th>\n",
       "      <td>21</td>\n",
       "      <td>0.675261</td>\n",
       "      <td>graphopt</td>\n",
       "      <td>3</td>\n",
       "      <td>3</td>\n",
       "      <td>300.0</td>\n",
       "    </tr>\n",
       "    <tr>\n",
       "      <th>0</th>\n",
       "      <td>22</td>\n",
       "      <td>0.618023</td>\n",
       "      <td>graphopt</td>\n",
       "      <td>3</td>\n",
       "      <td>4</td>\n",
       "      <td>300.0</td>\n",
       "    </tr>\n",
       "    <tr>\n",
       "      <th>0</th>\n",
       "      <td>23</td>\n",
       "      <td>0.956009</td>\n",
       "      <td>graphopt</td>\n",
       "      <td>3</td>\n",
       "      <td>2</td>\n",
       "      <td>300.0</td>\n",
       "    </tr>\n",
       "    <tr>\n",
       "      <th>0</th>\n",
       "      <td>24</td>\n",
       "      <td>0.933008</td>\n",
       "      <td>graphopt</td>\n",
       "      <td>2</td>\n",
       "      <td>4</td>\n",
       "      <td>300.0</td>\n",
       "    </tr>\n",
       "    <tr>\n",
       "      <th>0</th>\n",
       "      <td>25</td>\n",
       "      <td>0.831692</td>\n",
       "      <td>graphopt</td>\n",
       "      <td>3</td>\n",
       "      <td>2</td>\n",
       "      <td>300.0</td>\n",
       "    </tr>\n",
       "    <tr>\n",
       "      <th>0</th>\n",
       "      <td>26</td>\n",
       "      <td>0.965124</td>\n",
       "      <td>graphopt</td>\n",
       "      <td>2</td>\n",
       "      <td>4</td>\n",
       "      <td>300.0</td>\n",
       "    </tr>\n",
       "    <tr>\n",
       "      <th>0</th>\n",
       "      <td>27</td>\n",
       "      <td>0.893689</td>\n",
       "      <td>graphopt</td>\n",
       "      <td>6</td>\n",
       "      <td>2</td>\n",
       "      <td>400.0</td>\n",
       "    </tr>\n",
       "    <tr>\n",
       "      <th>0</th>\n",
       "      <td>28</td>\n",
       "      <td>0.828289</td>\n",
       "      <td>graphopt</td>\n",
       "      <td>5</td>\n",
       "      <td>5</td>\n",
       "      <td>400.0</td>\n",
       "    </tr>\n",
       "    <tr>\n",
       "      <th>0</th>\n",
       "      <td>29</td>\n",
       "      <td>0.863573</td>\n",
       "      <td>graphopt</td>\n",
       "      <td>6</td>\n",
       "      <td>2</td>\n",
       "      <td>400.0</td>\n",
       "    </tr>\n",
       "    <tr>\n",
       "      <th>0</th>\n",
       "      <td>30</td>\n",
       "      <td>0.608529</td>\n",
       "      <td>graphopt</td>\n",
       "      <td>4</td>\n",
       "      <td>4</td>\n",
       "      <td>400.0</td>\n",
       "    </tr>\n",
       "    <tr>\n",
       "      <th>0</th>\n",
       "      <td>31</td>\n",
       "      <td>0.565313</td>\n",
       "      <td>graphopt</td>\n",
       "      <td>3</td>\n",
       "      <td>3</td>\n",
       "      <td>400.0</td>\n",
       "    </tr>\n",
       "    <tr>\n",
       "      <th>0</th>\n",
       "      <td>32</td>\n",
       "      <td>0.925685</td>\n",
       "      <td>graphopt</td>\n",
       "      <td>5</td>\n",
       "      <td>5</td>\n",
       "      <td>400.0</td>\n",
       "    </tr>\n",
       "    <tr>\n",
       "      <th>0</th>\n",
       "      <td>33</td>\n",
       "      <td>0.890879</td>\n",
       "      <td>graphopt</td>\n",
       "      <td>4</td>\n",
       "      <td>4</td>\n",
       "      <td>400.0</td>\n",
       "    </tr>\n",
       "    <tr>\n",
       "      <th>0</th>\n",
       "      <td>34</td>\n",
       "      <td>0.770385</td>\n",
       "      <td>graphopt</td>\n",
       "      <td>4</td>\n",
       "      <td>5</td>\n",
       "      <td>400.0</td>\n",
       "    </tr>\n",
       "    <tr>\n",
       "      <th>0</th>\n",
       "      <td>35</td>\n",
       "      <td>0.917864</td>\n",
       "      <td>graphopt</td>\n",
       "      <td>5</td>\n",
       "      <td>5</td>\n",
       "      <td>400.0</td>\n",
       "    </tr>\n",
       "    <tr>\n",
       "      <th>0</th>\n",
       "      <td>36</td>\n",
       "      <td>0.952219</td>\n",
       "      <td>graphopt</td>\n",
       "      <td>2</td>\n",
       "      <td>4</td>\n",
       "      <td>500.0</td>\n",
       "    </tr>\n",
       "    <tr>\n",
       "      <th>0</th>\n",
       "      <td>37</td>\n",
       "      <td>0.808943</td>\n",
       "      <td>graphopt</td>\n",
       "      <td>6</td>\n",
       "      <td>6</td>\n",
       "      <td>500.0</td>\n",
       "    </tr>\n",
       "    <tr>\n",
       "      <th>0</th>\n",
       "      <td>38</td>\n",
       "      <td>0.920965</td>\n",
       "      <td>graphopt</td>\n",
       "      <td>3</td>\n",
       "      <td>5</td>\n",
       "      <td>500.0</td>\n",
       "    </tr>\n",
       "    <tr>\n",
       "      <th>0</th>\n",
       "      <td>39</td>\n",
       "      <td>0.781467</td>\n",
       "      <td>graphopt</td>\n",
       "      <td>2</td>\n",
       "      <td>3</td>\n",
       "      <td>500.0</td>\n",
       "    </tr>\n",
       "    <tr>\n",
       "      <th>0</th>\n",
       "      <td>40</td>\n",
       "      <td>0.505978</td>\n",
       "      <td>graphopt</td>\n",
       "      <td>4</td>\n",
       "      <td>4</td>\n",
       "      <td>500.0</td>\n",
       "    </tr>\n",
       "    <tr>\n",
       "      <th>0</th>\n",
       "      <td>41</td>\n",
       "      <td>0.916816</td>\n",
       "      <td>graphopt</td>\n",
       "      <td>6</td>\n",
       "      <td>3</td>\n",
       "      <td>500.0</td>\n",
       "    </tr>\n",
       "    <tr>\n",
       "      <th>0</th>\n",
       "      <td>42</td>\n",
       "      <td>0.944006</td>\n",
       "      <td>graphopt</td>\n",
       "      <td>2</td>\n",
       "      <td>4</td>\n",
       "      <td>500.0</td>\n",
       "    </tr>\n",
       "    <tr>\n",
       "      <th>0</th>\n",
       "      <td>43</td>\n",
       "      <td>0.862686</td>\n",
       "      <td>graphopt</td>\n",
       "      <td>2</td>\n",
       "      <td>3</td>\n",
       "      <td>500.0</td>\n",
       "    </tr>\n",
       "    <tr>\n",
       "      <th>0</th>\n",
       "      <td>44</td>\n",
       "      <td>0.942830</td>\n",
       "      <td>graphopt</td>\n",
       "      <td>3</td>\n",
       "      <td>3</td>\n",
       "      <td>500.0</td>\n",
       "    </tr>\n",
       "    <tr>\n",
       "      <th>0</th>\n",
       "      <td>45</td>\n",
       "      <td>0.887977</td>\n",
       "      <td>graphopt</td>\n",
       "      <td>6</td>\n",
       "      <td>5</td>\n",
       "      <td>600.0</td>\n",
       "    </tr>\n",
       "    <tr>\n",
       "      <th>0</th>\n",
       "      <td>46</td>\n",
       "      <td>0.877596</td>\n",
       "      <td>graphopt</td>\n",
       "      <td>3</td>\n",
       "      <td>3</td>\n",
       "      <td>600.0</td>\n",
       "    </tr>\n",
       "    <tr>\n",
       "      <th>0</th>\n",
       "      <td>47</td>\n",
       "      <td>0.939253</td>\n",
       "      <td>graphopt</td>\n",
       "      <td>3</td>\n",
       "      <td>3</td>\n",
       "      <td>600.0</td>\n",
       "    </tr>\n",
       "    <tr>\n",
       "      <th>0</th>\n",
       "      <td>48</td>\n",
       "      <td>0.759445</td>\n",
       "      <td>graphopt</td>\n",
       "      <td>2</td>\n",
       "      <td>4</td>\n",
       "      <td>600.0</td>\n",
       "    </tr>\n",
       "    <tr>\n",
       "      <th>0</th>\n",
       "      <td>49</td>\n",
       "      <td>0.523366</td>\n",
       "      <td>graphopt</td>\n",
       "      <td>4</td>\n",
       "      <td>4</td>\n",
       "      <td>600.0</td>\n",
       "    </tr>\n",
       "    <tr>\n",
       "      <th>0</th>\n",
       "      <td>50</td>\n",
       "      <td>0.911815</td>\n",
       "      <td>graphopt</td>\n",
       "      <td>6</td>\n",
       "      <td>3</td>\n",
       "      <td>600.0</td>\n",
       "    </tr>\n",
       "    <tr>\n",
       "      <th>0</th>\n",
       "      <td>51</td>\n",
       "      <td>0.944931</td>\n",
       "      <td>graphopt</td>\n",
       "      <td>2</td>\n",
       "      <td>5</td>\n",
       "      <td>600.0</td>\n",
       "    </tr>\n",
       "    <tr>\n",
       "      <th>0</th>\n",
       "      <td>52</td>\n",
       "      <td>0.698960</td>\n",
       "      <td>graphopt</td>\n",
       "      <td>6</td>\n",
       "      <td>3</td>\n",
       "      <td>600.0</td>\n",
       "    </tr>\n",
       "    <tr>\n",
       "      <th>0</th>\n",
       "      <td>53</td>\n",
       "      <td>0.930263</td>\n",
       "      <td>graphopt</td>\n",
       "      <td>5</td>\n",
       "      <td>3</td>\n",
       "      <td>600.0</td>\n",
       "    </tr>\n",
       "  </tbody>\n",
       "</table>\n",
       "</div>"
      ],
      "text/plain": [
       "  graph_id  assortativity layout_name no_communities calculated_bestnum   size\n",
       "0        0       0.880479    graphopt              6                  6  100.0\n",
       "0        1       0.800390    graphopt              6                  5  100.0\n",
       "0        2       0.891334    graphopt              4                  4  100.0\n",
       "0        3       0.549456    graphopt              6                  3  100.0\n",
       "0        4       0.700072    graphopt              2                  2  100.0\n",
       "0        5       0.938109    graphopt              6                  2  100.0\n",
       "0        6       0.927512    graphopt              2                  2  100.0\n",
       "0        7       0.751499    graphopt              4                  2  100.0\n",
       "0        8       0.949236    graphopt              4                  4  100.0\n",
       "0        9       0.906524    graphopt              5                  5  200.0\n",
       "0       10       0.859252    graphopt              4                  4  200.0\n",
       "0       11       0.855295    graphopt              6                  6  200.0\n",
       "0       12       0.754248    graphopt              2                  2  200.0\n",
       "0       13       0.553706    graphopt              4                  4  200.0\n",
       "0       14       0.914814    graphopt              6                  2  200.0\n",
       "0       15       0.918878    graphopt              3                  3  200.0\n",
       "0       16       0.830946    graphopt              3                  3  200.0\n",
       "0       17       0.938898    graphopt              3                  3  200.0\n",
       "0       18       0.956567    graphopt              2                  4  300.0\n",
       "0       19       0.797450    graphopt              6                  3  300.0\n",
       "0       20       0.946279    graphopt              2                  2  300.0\n",
       "0       21       0.675261    graphopt              3                  3  300.0\n",
       "0       22       0.618023    graphopt              3                  4  300.0\n",
       "0       23       0.956009    graphopt              3                  2  300.0\n",
       "0       24       0.933008    graphopt              2                  4  300.0\n",
       "0       25       0.831692    graphopt              3                  2  300.0\n",
       "0       26       0.965124    graphopt              2                  4  300.0\n",
       "0       27       0.893689    graphopt              6                  2  400.0\n",
       "0       28       0.828289    graphopt              5                  5  400.0\n",
       "0       29       0.863573    graphopt              6                  2  400.0\n",
       "0       30       0.608529    graphopt              4                  4  400.0\n",
       "0       31       0.565313    graphopt              3                  3  400.0\n",
       "0       32       0.925685    graphopt              5                  5  400.0\n",
       "0       33       0.890879    graphopt              4                  4  400.0\n",
       "0       34       0.770385    graphopt              4                  5  400.0\n",
       "0       35       0.917864    graphopt              5                  5  400.0\n",
       "0       36       0.952219    graphopt              2                  4  500.0\n",
       "0       37       0.808943    graphopt              6                  6  500.0\n",
       "0       38       0.920965    graphopt              3                  5  500.0\n",
       "0       39       0.781467    graphopt              2                  3  500.0\n",
       "0       40       0.505978    graphopt              4                  4  500.0\n",
       "0       41       0.916816    graphopt              6                  3  500.0\n",
       "0       42       0.944006    graphopt              2                  4  500.0\n",
       "0       43       0.862686    graphopt              2                  3  500.0\n",
       "0       44       0.942830    graphopt              3                  3  500.0\n",
       "0       45       0.887977    graphopt              6                  5  600.0\n",
       "0       46       0.877596    graphopt              3                  3  600.0\n",
       "0       47       0.939253    graphopt              3                  3  600.0\n",
       "0       48       0.759445    graphopt              2                  4  600.0\n",
       "0       49       0.523366    graphopt              4                  4  600.0\n",
       "0       50       0.911815    graphopt              6                  3  600.0\n",
       "0       51       0.944931    graphopt              2                  5  600.0\n",
       "0       52       0.698960    graphopt              6                  3  600.0\n",
       "0       53       0.930263    graphopt              5                  3  600.0"
      ]
     },
     "execution_count": 24,
     "metadata": {},
     "output_type": "execute_result"
    }
   ],
   "source": [
    "ex.ch"
   ]
  }
 ],
 "metadata": {
  "kernelspec": {
   "display_name": "Python 3",
   "language": "python",
   "name": "python3"
  },
  "language_info": {
   "codemirror_mode": {
    "name": "ipython",
    "version": 3
   },
   "file_extension": ".py",
   "mimetype": "text/x-python",
   "name": "python",
   "nbconvert_exporter": "python",
   "pygments_lexer": "ipython3",
   "version": "3.12.5"
  }
 },
 "nbformat": 4,
 "nbformat_minor": 2
}
